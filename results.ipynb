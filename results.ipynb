{
 "cells": [
  {
   "cell_type": "markdown",
   "metadata": {},
   "source": [
    "# Results"
   ]
  },
  {
   "cell_type": "code",
   "execution_count": 3,
   "metadata": {},
   "outputs": [
    {
     "data": {
      "text/html": [
       "<pre style=\"white-space:pre;overflow-x:auto;line-height:normal;font-family:Menlo,'DejaVu Sans Mono',consolas,'Courier New',monospace\">datasets/financial/qa_list.json object loaded successfully\n",
       "</pre>\n"
      ],
      "text/plain": [
       "datasets/financial/qa_list.json object loaded successfully\n"
      ]
     },
     "metadata": {},
     "output_type": "display_data"
    },
    {
     "data": {
      "text/html": [
       "<pre style=\"white-space:pre;overflow-x:auto;line-height:normal;font-family:Menlo,'DejaVu Sans Mono',consolas,'Courier New',monospace\">datasets/financial/answers_cama_llama3-8b-<span style=\"color: #008080; text-decoration-color: #008080; font-weight: bold\">8192.j</span>son object loaded successfully\n",
       "</pre>\n"
      ],
      "text/plain": [
       "datasets/financial/answers_cama_llama3-8b-\u001b[1;36m8192.j\u001b[0mson object loaded successfully\n"
      ]
     },
     "metadata": {},
     "output_type": "display_data"
    },
    {
     "data": {
      "text/html": [
       "<pre style=\"white-space:pre;overflow-x:auto;line-height:normal;font-family:Menlo,'DejaVu Sans Mono',consolas,'Courier New',monospace\">datasets/financial/answers_full_prompt_llama3-8b-<span style=\"color: #008080; text-decoration-color: #008080; font-weight: bold\">8192.j</span>son object loaded successfully\n",
       "</pre>\n"
      ],
      "text/plain": [
       "datasets/financial/answers_full_prompt_llama3-8b-\u001b[1;36m8192.j\u001b[0mson object loaded successfully\n"
      ]
     },
     "metadata": {},
     "output_type": "display_data"
    },
    {
     "data": {
      "text/html": [
       "<pre style=\"white-space:pre;overflow-x:auto;line-height:normal;font-family:Menlo,'DejaVu Sans Mono',consolas,'Courier New',monospace\">datasets/financial/answers_full_prompt_cot_llama3-8b-<span style=\"color: #008080; text-decoration-color: #008080; font-weight: bold\">8192.j</span>son object loaded successfully\n",
       "</pre>\n"
      ],
      "text/plain": [
       "datasets/financial/answers_full_prompt_cot_llama3-8b-\u001b[1;36m8192.j\u001b[0mson object loaded successfully\n"
      ]
     },
     "metadata": {},
     "output_type": "display_data"
    },
    {
     "data": {
      "text/html": [
       "<pre style=\"white-space:pre;overflow-x:auto;line-height:normal;font-family:Menlo,'DejaVu Sans Mono',consolas,'Courier New',monospace\">datasets/financial/answers_reflection_llama3-8b-<span style=\"color: #008080; text-decoration-color: #008080; font-weight: bold\">8192.j</span>son object loaded successfully\n",
       "</pre>\n"
      ],
      "text/plain": [
       "datasets/financial/answers_reflection_llama3-8b-\u001b[1;36m8192.j\u001b[0mson object loaded successfully\n"
      ]
     },
     "metadata": {},
     "output_type": "display_data"
    },
    {
     "data": {
      "text/html": [
       "<pre style=\"white-space:pre;overflow-x:auto;line-height:normal;font-family:Menlo,'DejaVu Sans Mono',consolas,'Courier New',monospace\">datasets/financial/answers_react_llama3-8b-<span style=\"color: #008080; text-decoration-color: #008080; font-weight: bold\">8192.j</span>son object loaded successfully\n",
       "</pre>\n"
      ],
      "text/plain": [
       "datasets/financial/answers_react_llama3-8b-\u001b[1;36m8192.j\u001b[0mson object loaded successfully\n"
      ]
     },
     "metadata": {},
     "output_type": "display_data"
    },
    {
     "data": {
      "text/html": [
       "<pre style=\"white-space:pre;overflow-x:auto;line-height:normal;font-family:Menlo,'DejaVu Sans Mono',consolas,'Courier New',monospace\">datasets/financial/answers_self_discover_llama3-8b-<span style=\"color: #008080; text-decoration-color: #008080; font-weight: bold\">8192.j</span>son object loaded successfully\n",
       "</pre>\n"
      ],
      "text/plain": [
       "datasets/financial/answers_self_discover_llama3-8b-\u001b[1;36m8192.j\u001b[0mson object loaded successfully\n"
      ]
     },
     "metadata": {},
     "output_type": "display_data"
    },
    {
     "data": {
      "text/html": [
       "<pre style=\"white-space:pre;overflow-x:auto;line-height:normal;font-family:Menlo,'DejaVu Sans Mono',consolas,'Courier New',monospace\">datasets/financial/answers_plan_and_execute_llama3-8b-<span style=\"color: #008080; text-decoration-color: #008080; font-weight: bold\">8192.j</span>son object loaded successfully\n",
       "</pre>\n"
      ],
      "text/plain": [
       "datasets/financial/answers_plan_and_execute_llama3-8b-\u001b[1;36m8192.j\u001b[0mson object loaded successfully\n"
      ]
     },
     "metadata": {},
     "output_type": "display_data"
    },
    {
     "data": {
      "text/html": [
       "<div>\n",
       "<style scoped>\n",
       "    .dataframe tbody tr th:only-of-type {\n",
       "        vertical-align: middle;\n",
       "    }\n",
       "\n",
       "    .dataframe tbody tr th {\n",
       "        vertical-align: top;\n",
       "    }\n",
       "\n",
       "    .dataframe thead th {\n",
       "        text-align: right;\n",
       "    }\n",
       "</style>\n",
       "<table border=\"1\" class=\"dataframe\">\n",
       "  <thead>\n",
       "    <tr style=\"text-align: right;\">\n",
       "      <th></th>\n",
       "      <th>method</th>\n",
       "      <th>accuracy_score</th>\n",
       "      <th>unknown_ratio</th>\n",
       "      <th>total_tokens</th>\n",
       "      <th>elapsed_time</th>\n",
       "    </tr>\n",
       "  </thead>\n",
       "  <tbody>\n",
       "    <tr>\n",
       "      <th>0</th>\n",
       "      <td>cama</td>\n",
       "      <td>87.179487</td>\n",
       "      <td>0.000000</td>\n",
       "      <td>24233</td>\n",
       "      <td>5.075975</td>\n",
       "    </tr>\n",
       "    <tr>\n",
       "      <th>1</th>\n",
       "      <td>full_prompt</td>\n",
       "      <td>30.769231</td>\n",
       "      <td>69.230769</td>\n",
       "      <td>4846</td>\n",
       "      <td>1.206754</td>\n",
       "    </tr>\n",
       "    <tr>\n",
       "      <th>2</th>\n",
       "      <td>full_prompt_cot</td>\n",
       "      <td>38.461538</td>\n",
       "      <td>61.538462</td>\n",
       "      <td>4846</td>\n",
       "      <td>1.190980</td>\n",
       "    </tr>\n",
       "    <tr>\n",
       "      <th>3</th>\n",
       "      <td>reflection</td>\n",
       "      <td>48.717949</td>\n",
       "      <td>48.717949</td>\n",
       "      <td>13781</td>\n",
       "      <td>4.175666</td>\n",
       "    </tr>\n",
       "    <tr>\n",
       "      <th>4</th>\n",
       "      <td>react</td>\n",
       "      <td>7.692308</td>\n",
       "      <td>92.307692</td>\n",
       "      <td>4321</td>\n",
       "      <td>2.468150</td>\n",
       "    </tr>\n",
       "    <tr>\n",
       "      <th>5</th>\n",
       "      <td>self_discover</td>\n",
       "      <td>46.153846</td>\n",
       "      <td>51.282051</td>\n",
       "      <td>24552</td>\n",
       "      <td>5.748410</td>\n",
       "    </tr>\n",
       "    <tr>\n",
       "      <th>6</th>\n",
       "      <td>plan_and_execute</td>\n",
       "      <td>69.230769</td>\n",
       "      <td>23.076923</td>\n",
       "      <td>37304</td>\n",
       "      <td>15.169253</td>\n",
       "    </tr>\n",
       "  </tbody>\n",
       "</table>\n",
       "</div>"
      ],
      "text/plain": [
       "             method  accuracy_score  unknown_ratio  total_tokens  elapsed_time\n",
       "0              cama       87.179487       0.000000         24233      5.075975\n",
       "1       full_prompt       30.769231      69.230769          4846      1.206754\n",
       "2   full_prompt_cot       38.461538      61.538462          4846      1.190980\n",
       "3        reflection       48.717949      48.717949         13781      4.175666\n",
       "4             react        7.692308      92.307692          4321      2.468150\n",
       "5     self_discover       46.153846      51.282051         24552      5.748410\n",
       "6  plan_and_execute       69.230769      23.076923         37304     15.169253"
      ]
     },
     "execution_count": 3,
     "metadata": {},
     "output_type": "execute_result"
    }
   ],
   "source": [
    "from cama.utils import evaluate_answers_with_unknowns\n",
    "import json\n",
    "from cama.utils import load_from_json\n",
    "import pandas as pd\n",
    "\n",
    "# llm_name = \"llama-3.2-1b-preview\"\n",
    "llm_name = \"llama3-8b-8192\"\n",
    "# llm_name = \"llama3-70b-8192\"\n",
    "# llm_name = \"gpt-4o-mini\"\n",
    "\n",
    "\n",
    "\n",
    "dataset_folder = \"datasets/financial\" # easy\n",
    "# dataset_folder = \"datasets/eligibility\" #medium dataset\n",
    "# dataset_folder = \"datasets/healthcare\" # difficult dataset\n",
    "\n",
    "\n",
    "qa_list = load_from_json(f'{dataset_folder}/qa_list.json')\n",
    "methods = [\"cama\", \"full_prompt\", \"full_prompt_cot\", \"reflection\", \"react\", \"self_discover\", \"plan_and_execute\"]\n",
    "results = {}\n",
    "\n",
    "for method in methods:\n",
    "    answers_method_filename = f'{dataset_folder}/answers_{method}_{llm_name}.json'\n",
    "    answers = load_from_json(answers_method_filename)\n",
    "    # read metadata\n",
    "    metadata_filename = f'{dataset_folder}/metadata_{method}_{llm_name}.json'\n",
    "    with open(metadata_filename, 'r') as f:\n",
    "        metadata = json.load(f)\n",
    "\n",
    "    accuracy_score, unknown_ratio = evaluate_answers_with_unknowns(qa_list, answers)\n",
    "    results[method] = {\n",
    "        \"accuracy_score\": accuracy_score,\n",
    "        \"unknown_ratio\": unknown_ratio,\n",
    "        \"metadata\": metadata\n",
    "    }\n",
    "\n",
    "\n",
    "data = []\n",
    "\n",
    "for method, metrics in results.items():\n",
    "    row = {\n",
    "        \"method\": method,\n",
    "        \"accuracy_score\": metrics[\"accuracy_score\"],\n",
    "        \"unknown_ratio\": metrics[\"unknown_ratio\"],\n",
    "        \"total_tokens\": metrics[\"metadata\"][\"total_tokens\"],\n",
    "        \"elapsed_time\": metrics[\"metadata\"][\"elapsed_time\"]\n",
    "    }\n",
    "    data.append(row)\n",
    "\n",
    "# Create the dataframe\n",
    "df = pd.DataFrame(data)\n",
    "\n",
    "df"
   ]
  },
  {
   "cell_type": "markdown",
   "metadata": {},
   "source": [
    "# Radar plot"
   ]
  },
  {
   "cell_type": "code",
   "execution_count": 28,
   "metadata": {},
   "outputs": [
    {
     "data": {
      "text/html": [
       "<pre style=\"white-space:pre;overflow-x:auto;line-height:normal;font-family:Menlo,'DejaVu Sans Mono',consolas,'Courier New',monospace\">datasets/financial/qa_list.json object loaded successfully\n",
       "</pre>\n"
      ],
      "text/plain": [
       "datasets/financial/qa_list.json object loaded successfully\n"
      ]
     },
     "metadata": {},
     "output_type": "display_data"
    },
    {
     "data": {
      "text/html": [
       "<pre style=\"white-space:pre;overflow-x:auto;line-height:normal;font-family:Menlo,'DejaVu Sans Mono',consolas,'Courier New',monospace\">datasets/financial/answers_cama_llama-<span style=\"color: #008080; text-decoration-color: #008080; font-weight: bold\">3.2</span>-1b-preview.json object loaded successfully\n",
       "</pre>\n"
      ],
      "text/plain": [
       "datasets/financial/answers_cama_llama-\u001b[1;36m3.2\u001b[0m-1b-preview.json object loaded successfully\n"
      ]
     },
     "metadata": {},
     "output_type": "display_data"
    },
    {
     "data": {
      "text/html": [
       "<pre style=\"white-space:pre;overflow-x:auto;line-height:normal;font-family:Menlo,'DejaVu Sans Mono',consolas,'Courier New',monospace\">datasets/financial/answers_full_prompt_llama-<span style=\"color: #008080; text-decoration-color: #008080; font-weight: bold\">3.2</span>-1b-preview.json object loaded successfully\n",
       "</pre>\n"
      ],
      "text/plain": [
       "datasets/financial/answers_full_prompt_llama-\u001b[1;36m3.2\u001b[0m-1b-preview.json object loaded successfully\n"
      ]
     },
     "metadata": {},
     "output_type": "display_data"
    },
    {
     "data": {
      "text/html": [
       "<pre style=\"white-space:pre;overflow-x:auto;line-height:normal;font-family:Menlo,'DejaVu Sans Mono',consolas,'Courier New',monospace\">datasets/financial/answers_full_prompt_cot_llama-<span style=\"color: #008080; text-decoration-color: #008080; font-weight: bold\">3.2</span>-1b-preview.json object loaded successfully\n",
       "</pre>\n"
      ],
      "text/plain": [
       "datasets/financial/answers_full_prompt_cot_llama-\u001b[1;36m3.2\u001b[0m-1b-preview.json object loaded successfully\n"
      ]
     },
     "metadata": {},
     "output_type": "display_data"
    },
    {
     "data": {
      "text/html": [
       "<pre style=\"white-space:pre;overflow-x:auto;line-height:normal;font-family:Menlo,'DejaVu Sans Mono',consolas,'Courier New',monospace\">datasets/financial/answers_reflection_llama-<span style=\"color: #008080; text-decoration-color: #008080; font-weight: bold\">3.2</span>-1b-preview.json object loaded successfully\n",
       "</pre>\n"
      ],
      "text/plain": [
       "datasets/financial/answers_reflection_llama-\u001b[1;36m3.2\u001b[0m-1b-preview.json object loaded successfully\n"
      ]
     },
     "metadata": {},
     "output_type": "display_data"
    },
    {
     "data": {
      "text/html": [
       "<pre style=\"white-space:pre;overflow-x:auto;line-height:normal;font-family:Menlo,'DejaVu Sans Mono',consolas,'Courier New',monospace\">datasets/financial/answers_react_llama-<span style=\"color: #008080; text-decoration-color: #008080; font-weight: bold\">3.2</span>-1b-preview.json object loaded successfully\n",
       "</pre>\n"
      ],
      "text/plain": [
       "datasets/financial/answers_react_llama-\u001b[1;36m3.2\u001b[0m-1b-preview.json object loaded successfully\n"
      ]
     },
     "metadata": {},
     "output_type": "display_data"
    },
    {
     "data": {
      "text/html": [
       "<pre style=\"white-space:pre;overflow-x:auto;line-height:normal;font-family:Menlo,'DejaVu Sans Mono',consolas,'Courier New',monospace\">datasets/financial/answers_self_discover_llama-<span style=\"color: #008080; text-decoration-color: #008080; font-weight: bold\">3.2</span>-1b-preview.json object loaded successfully\n",
       "</pre>\n"
      ],
      "text/plain": [
       "datasets/financial/answers_self_discover_llama-\u001b[1;36m3.2\u001b[0m-1b-preview.json object loaded successfully\n"
      ]
     },
     "metadata": {},
     "output_type": "display_data"
    },
    {
     "data": {
      "text/html": [
       "<pre style=\"white-space:pre;overflow-x:auto;line-height:normal;font-family:Menlo,'DejaVu Sans Mono',consolas,'Courier New',monospace\">datasets/financial/answers_plan_and_execute_llama-<span style=\"color: #008080; text-decoration-color: #008080; font-weight: bold\">3.2</span>-1b-preview.json object loaded successfully\n",
       "</pre>\n"
      ],
      "text/plain": [
       "datasets/financial/answers_plan_and_execute_llama-\u001b[1;36m3.2\u001b[0m-1b-preview.json object loaded successfully\n"
      ]
     },
     "metadata": {},
     "output_type": "display_data"
    },
    {
     "data": {
      "text/html": [
       "<pre style=\"white-space:pre;overflow-x:auto;line-height:normal;font-family:Menlo,'DejaVu Sans Mono',consolas,'Courier New',monospace\">datasets/financial/qa_list.json object loaded successfully\n",
       "</pre>\n"
      ],
      "text/plain": [
       "datasets/financial/qa_list.json object loaded successfully\n"
      ]
     },
     "metadata": {},
     "output_type": "display_data"
    },
    {
     "data": {
      "text/html": [
       "<pre style=\"white-space:pre;overflow-x:auto;line-height:normal;font-family:Menlo,'DejaVu Sans Mono',consolas,'Courier New',monospace\">datasets/financial/answers_cama_llama3-8b-<span style=\"color: #008080; text-decoration-color: #008080; font-weight: bold\">8192.j</span>son object loaded successfully\n",
       "</pre>\n"
      ],
      "text/plain": [
       "datasets/financial/answers_cama_llama3-8b-\u001b[1;36m8192.j\u001b[0mson object loaded successfully\n"
      ]
     },
     "metadata": {},
     "output_type": "display_data"
    },
    {
     "data": {
      "text/html": [
       "<pre style=\"white-space:pre;overflow-x:auto;line-height:normal;font-family:Menlo,'DejaVu Sans Mono',consolas,'Courier New',monospace\">datasets/financial/answers_full_prompt_llama3-8b-<span style=\"color: #008080; text-decoration-color: #008080; font-weight: bold\">8192.j</span>son object loaded successfully\n",
       "</pre>\n"
      ],
      "text/plain": [
       "datasets/financial/answers_full_prompt_llama3-8b-\u001b[1;36m8192.j\u001b[0mson object loaded successfully\n"
      ]
     },
     "metadata": {},
     "output_type": "display_data"
    },
    {
     "data": {
      "text/html": [
       "<pre style=\"white-space:pre;overflow-x:auto;line-height:normal;font-family:Menlo,'DejaVu Sans Mono',consolas,'Courier New',monospace\">datasets/financial/answers_full_prompt_cot_llama3-8b-<span style=\"color: #008080; text-decoration-color: #008080; font-weight: bold\">8192.j</span>son object loaded successfully\n",
       "</pre>\n"
      ],
      "text/plain": [
       "datasets/financial/answers_full_prompt_cot_llama3-8b-\u001b[1;36m8192.j\u001b[0mson object loaded successfully\n"
      ]
     },
     "metadata": {},
     "output_type": "display_data"
    },
    {
     "data": {
      "text/html": [
       "<pre style=\"white-space:pre;overflow-x:auto;line-height:normal;font-family:Menlo,'DejaVu Sans Mono',consolas,'Courier New',monospace\">datasets/financial/answers_reflection_llama3-8b-<span style=\"color: #008080; text-decoration-color: #008080; font-weight: bold\">8192.j</span>son object loaded successfully\n",
       "</pre>\n"
      ],
      "text/plain": [
       "datasets/financial/answers_reflection_llama3-8b-\u001b[1;36m8192.j\u001b[0mson object loaded successfully\n"
      ]
     },
     "metadata": {},
     "output_type": "display_data"
    },
    {
     "data": {
      "text/html": [
       "<pre style=\"white-space:pre;overflow-x:auto;line-height:normal;font-family:Menlo,'DejaVu Sans Mono',consolas,'Courier New',monospace\">datasets/financial/answers_react_llama3-8b-<span style=\"color: #008080; text-decoration-color: #008080; font-weight: bold\">8192.j</span>son object loaded successfully\n",
       "</pre>\n"
      ],
      "text/plain": [
       "datasets/financial/answers_react_llama3-8b-\u001b[1;36m8192.j\u001b[0mson object loaded successfully\n"
      ]
     },
     "metadata": {},
     "output_type": "display_data"
    },
    {
     "data": {
      "text/html": [
       "<pre style=\"white-space:pre;overflow-x:auto;line-height:normal;font-family:Menlo,'DejaVu Sans Mono',consolas,'Courier New',monospace\">datasets/financial/answers_self_discover_llama3-8b-<span style=\"color: #008080; text-decoration-color: #008080; font-weight: bold\">8192.j</span>son object loaded successfully\n",
       "</pre>\n"
      ],
      "text/plain": [
       "datasets/financial/answers_self_discover_llama3-8b-\u001b[1;36m8192.j\u001b[0mson object loaded successfully\n"
      ]
     },
     "metadata": {},
     "output_type": "display_data"
    },
    {
     "data": {
      "text/html": [
       "<pre style=\"white-space:pre;overflow-x:auto;line-height:normal;font-family:Menlo,'DejaVu Sans Mono',consolas,'Courier New',monospace\">datasets/financial/answers_plan_and_execute_llama3-8b-<span style=\"color: #008080; text-decoration-color: #008080; font-weight: bold\">8192.j</span>son object loaded successfully\n",
       "</pre>\n"
      ],
      "text/plain": [
       "datasets/financial/answers_plan_and_execute_llama3-8b-\u001b[1;36m8192.j\u001b[0mson object loaded successfully\n"
      ]
     },
     "metadata": {},
     "output_type": "display_data"
    },
    {
     "data": {
      "text/html": [
       "<pre style=\"white-space:pre;overflow-x:auto;line-height:normal;font-family:Menlo,'DejaVu Sans Mono',consolas,'Courier New',monospace\">datasets/financial/qa_list.json object loaded successfully\n",
       "</pre>\n"
      ],
      "text/plain": [
       "datasets/financial/qa_list.json object loaded successfully\n"
      ]
     },
     "metadata": {},
     "output_type": "display_data"
    },
    {
     "data": {
      "text/html": [
       "<pre style=\"white-space:pre;overflow-x:auto;line-height:normal;font-family:Menlo,'DejaVu Sans Mono',consolas,'Courier New',monospace\">datasets/financial/answers_cama_llama3-70b-<span style=\"color: #008080; text-decoration-color: #008080; font-weight: bold\">8192.j</span>son object loaded successfully\n",
       "</pre>\n"
      ],
      "text/plain": [
       "datasets/financial/answers_cama_llama3-70b-\u001b[1;36m8192.j\u001b[0mson object loaded successfully\n"
      ]
     },
     "metadata": {},
     "output_type": "display_data"
    },
    {
     "data": {
      "text/html": [
       "<pre style=\"white-space:pre;overflow-x:auto;line-height:normal;font-family:Menlo,'DejaVu Sans Mono',consolas,'Courier New',monospace\">datasets/financial/answers_full_prompt_llama3-70b-<span style=\"color: #008080; text-decoration-color: #008080; font-weight: bold\">8192.j</span>son object loaded successfully\n",
       "</pre>\n"
      ],
      "text/plain": [
       "datasets/financial/answers_full_prompt_llama3-70b-\u001b[1;36m8192.j\u001b[0mson object loaded successfully\n"
      ]
     },
     "metadata": {},
     "output_type": "display_data"
    },
    {
     "data": {
      "text/html": [
       "<pre style=\"white-space:pre;overflow-x:auto;line-height:normal;font-family:Menlo,'DejaVu Sans Mono',consolas,'Courier New',monospace\">datasets/financial/answers_full_prompt_cot_llama3-70b-<span style=\"color: #008080; text-decoration-color: #008080; font-weight: bold\">8192.j</span>son object loaded successfully\n",
       "</pre>\n"
      ],
      "text/plain": [
       "datasets/financial/answers_full_prompt_cot_llama3-70b-\u001b[1;36m8192.j\u001b[0mson object loaded successfully\n"
      ]
     },
     "metadata": {},
     "output_type": "display_data"
    },
    {
     "data": {
      "text/html": [
       "<pre style=\"white-space:pre;overflow-x:auto;line-height:normal;font-family:Menlo,'DejaVu Sans Mono',consolas,'Courier New',monospace\">datasets/financial/answers_reflection_llama3-70b-<span style=\"color: #008080; text-decoration-color: #008080; font-weight: bold\">8192.j</span>son object loaded successfully\n",
       "</pre>\n"
      ],
      "text/plain": [
       "datasets/financial/answers_reflection_llama3-70b-\u001b[1;36m8192.j\u001b[0mson object loaded successfully\n"
      ]
     },
     "metadata": {},
     "output_type": "display_data"
    },
    {
     "data": {
      "text/html": [
       "<pre style=\"white-space:pre;overflow-x:auto;line-height:normal;font-family:Menlo,'DejaVu Sans Mono',consolas,'Courier New',monospace\">datasets/financial/answers_react_llama3-70b-<span style=\"color: #008080; text-decoration-color: #008080; font-weight: bold\">8192.j</span>son object loaded successfully\n",
       "</pre>\n"
      ],
      "text/plain": [
       "datasets/financial/answers_react_llama3-70b-\u001b[1;36m8192.j\u001b[0mson object loaded successfully\n"
      ]
     },
     "metadata": {},
     "output_type": "display_data"
    },
    {
     "data": {
      "text/html": [
       "<pre style=\"white-space:pre;overflow-x:auto;line-height:normal;font-family:Menlo,'DejaVu Sans Mono',consolas,'Courier New',monospace\">datasets/financial/answers_self_discover_llama3-70b-<span style=\"color: #008080; text-decoration-color: #008080; font-weight: bold\">8192.j</span>son object loaded successfully\n",
       "</pre>\n"
      ],
      "text/plain": [
       "datasets/financial/answers_self_discover_llama3-70b-\u001b[1;36m8192.j\u001b[0mson object loaded successfully\n"
      ]
     },
     "metadata": {},
     "output_type": "display_data"
    },
    {
     "data": {
      "text/html": [
       "<pre style=\"white-space:pre;overflow-x:auto;line-height:normal;font-family:Menlo,'DejaVu Sans Mono',consolas,'Courier New',monospace\">datasets/financial/answers_plan_and_execute_llama3-70b-<span style=\"color: #008080; text-decoration-color: #008080; font-weight: bold\">8192.j</span>son object loaded successfully\n",
       "</pre>\n"
      ],
      "text/plain": [
       "datasets/financial/answers_plan_and_execute_llama3-70b-\u001b[1;36m8192.j\u001b[0mson object loaded successfully\n"
      ]
     },
     "metadata": {},
     "output_type": "display_data"
    },
    {
     "data": {
      "text/html": [
       "<pre style=\"white-space:pre;overflow-x:auto;line-height:normal;font-family:Menlo,'DejaVu Sans Mono',consolas,'Courier New',monospace\">datasets/financial/qa_list.json object loaded successfully\n",
       "</pre>\n"
      ],
      "text/plain": [
       "datasets/financial/qa_list.json object loaded successfully\n"
      ]
     },
     "metadata": {},
     "output_type": "display_data"
    },
    {
     "data": {
      "text/html": [
       "<pre style=\"white-space:pre;overflow-x:auto;line-height:normal;font-family:Menlo,'DejaVu Sans Mono',consolas,'Courier New',monospace\">datasets/financial/answers_cama_gpt-4o-mini.json object loaded successfully\n",
       "</pre>\n"
      ],
      "text/plain": [
       "datasets/financial/answers_cama_gpt-4o-mini.json object loaded successfully\n"
      ]
     },
     "metadata": {},
     "output_type": "display_data"
    },
    {
     "data": {
      "text/html": [
       "<pre style=\"white-space:pre;overflow-x:auto;line-height:normal;font-family:Menlo,'DejaVu Sans Mono',consolas,'Courier New',monospace\">datasets/financial/answers_full_prompt_gpt-4o-mini.json object loaded successfully\n",
       "</pre>\n"
      ],
      "text/plain": [
       "datasets/financial/answers_full_prompt_gpt-4o-mini.json object loaded successfully\n"
      ]
     },
     "metadata": {},
     "output_type": "display_data"
    },
    {
     "data": {
      "text/html": [
       "<pre style=\"white-space:pre;overflow-x:auto;line-height:normal;font-family:Menlo,'DejaVu Sans Mono',consolas,'Courier New',monospace\">datasets/financial/answers_full_prompt_cot_gpt-4o-mini.json object loaded successfully\n",
       "</pre>\n"
      ],
      "text/plain": [
       "datasets/financial/answers_full_prompt_cot_gpt-4o-mini.json object loaded successfully\n"
      ]
     },
     "metadata": {},
     "output_type": "display_data"
    },
    {
     "data": {
      "text/html": [
       "<pre style=\"white-space:pre;overflow-x:auto;line-height:normal;font-family:Menlo,'DejaVu Sans Mono',consolas,'Courier New',monospace\">datasets/financial/answers_reflection_gpt-4o-mini.json object loaded successfully\n",
       "</pre>\n"
      ],
      "text/plain": [
       "datasets/financial/answers_reflection_gpt-4o-mini.json object loaded successfully\n"
      ]
     },
     "metadata": {},
     "output_type": "display_data"
    },
    {
     "data": {
      "text/html": [
       "<pre style=\"white-space:pre;overflow-x:auto;line-height:normal;font-family:Menlo,'DejaVu Sans Mono',consolas,'Courier New',monospace\">datasets/financial/answers_react_gpt-4o-mini.json object loaded successfully\n",
       "</pre>\n"
      ],
      "text/plain": [
       "datasets/financial/answers_react_gpt-4o-mini.json object loaded successfully\n"
      ]
     },
     "metadata": {},
     "output_type": "display_data"
    },
    {
     "data": {
      "text/html": [
       "<pre style=\"white-space:pre;overflow-x:auto;line-height:normal;font-family:Menlo,'DejaVu Sans Mono',consolas,'Courier New',monospace\">datasets/financial/answers_self_discover_gpt-4o-mini.json object loaded successfully\n",
       "</pre>\n"
      ],
      "text/plain": [
       "datasets/financial/answers_self_discover_gpt-4o-mini.json object loaded successfully\n"
      ]
     },
     "metadata": {},
     "output_type": "display_data"
    },
    {
     "data": {
      "text/html": [
       "<pre style=\"white-space:pre;overflow-x:auto;line-height:normal;font-family:Menlo,'DejaVu Sans Mono',consolas,'Courier New',monospace\">datasets/financial/answers_plan_and_execute_gpt-4o-mini.json object loaded successfully\n",
       "</pre>\n"
      ],
      "text/plain": [
       "datasets/financial/answers_plan_and_execute_gpt-4o-mini.json object loaded successfully\n"
      ]
     },
     "metadata": {},
     "output_type": "display_data"
    },
    {
     "data": {
      "image/png": "[encoded data removed]",
      "text/plain": [
       "<Figure size 1800x1800 with 1 Axes>"
      ]
     },
     "metadata": {},
     "output_type": "display_data"
    }
   ],
   "source": [
    "import numpy as np\n",
    "import matplotlib.pyplot as plt\n",
    "from math import pi\n",
    "import json\n",
    "from cama.utils import evaluate_answers_with_unknowns, load_from_json\n",
    "\n",
    "def generate_radar_plot_with_improvements(dataset_folder, llm_names):\n",
    "    # Model and method mappings\n",
    "    model_mapping = {\n",
    "        \"llama-3.2-1b-preview\": \"llama-3.2-1b\",\n",
    "        \"llama3-8b-8192\": \"llama3-8b\",\n",
    "        \"llama3-70b-8192\": \"llama3-70b\",\n",
    "        \"gpt-4o-mini\": \"gpt-4o-mini\"\n",
    "    }\n",
    "\n",
    "    method_mapping = {\n",
    "        \"cama\": \"Cama\",\n",
    "        \"full_prompt\": \"Standard\",\n",
    "        \"full_prompt_cot\": \"CoT\",\n",
    "        \"reflection\": \"Reflection\",\n",
    "        \"react\": \"React\",\n",
    "        \"self_discover\": \"S.Discover\",\n",
    "        \"plan_and_execute\": \"P.Execute\"\n",
    "    }\n",
    "\n",
    "    # Prepare an empty dictionary to hold results for each LLM\n",
    "    results = {}\n",
    "\n",
    "    methods = list(method_mapping.keys())\n",
    "\n",
    "    for llm_name in llm_names:\n",
    "        # For each LLM, calculate metrics for all methods\n",
    "        qa_list = load_from_json(f'{dataset_folder}/qa_list.json')\n",
    "        model_results = {}\n",
    "\n",
    "        for method in methods:\n",
    "            answers_method_filename = f'{dataset_folder}/answers_{method}_{llm_name}.json'\n",
    "            answers = load_from_json(answers_method_filename)\n",
    "\n",
    "            # Read metadata\n",
    "            metadata_filename = f'{dataset_folder}/metadata_{method}_{llm_name}.json'\n",
    "            with open(metadata_filename, 'r') as f:\n",
    "                metadata = json.load(f)\n",
    "\n",
    "            accuracy_score, unknown_ratio = evaluate_answers_with_unknowns(qa_list, answers)\n",
    "            model_results[method] = {\n",
    "                \"accuracy_score\": accuracy_score,\n",
    "                \"unknown_ratio\": unknown_ratio,\n",
    "                \"total_tokens\": metadata[\"total_tokens\"],\n",
    "                \"elapsed_time\": metadata[\"elapsed_time\"]\n",
    "            }\n",
    "\n",
    "        results[llm_name] = model_results\n",
    "\n",
    "    # Create a radar plot\n",
    "    fig, ax = plt.subplots(figsize=(6, 6), subplot_kw=dict(polar=True), dpi=300)\n",
    "\n",
    "    # Define labels (models) for the axes and the number of variables\n",
    "    models = [model_mapping[llm_name] for llm_name in llm_names]  # Apply model mapping\n",
    "    num_vars = len(models)\n",
    "    angles = np.linspace(0, 2 * np.pi, num_vars, endpoint=False).tolist()\n",
    "    angles += angles[:1]  # Complete the loop\n",
    "\n",
    "    # Define the colors for each method\n",
    "    colors = ['#1f77b4', '#ff7f0e', '#2ca02c', '#d62728', '#9467bd', '#8c564b', '#e377c2']\n",
    "\n",
    "    # Plot for each method across models with filled area\n",
    "    for i, method in enumerate(methods):\n",
    "        method_scores = [results[llm_name][method][\"accuracy_score\"] for llm_name in llm_names]\n",
    "        method_scores += method_scores[:1]  # Complete the loop\n",
    "        \n",
    "        # Plot the data for this method\n",
    "        ax.plot(angles, method_scores, label=method_mapping[method], color=colors[i], linewidth=2, marker='o')\n",
    "        \n",
    "        # Fill the area under the line with transparency\n",
    "        ax.fill(angles, method_scores, color=colors[i], alpha=0.2)\n",
    "\n",
    "    # Add labels for each model (axes) and adjust the positions to avoid overlap\n",
    "    ax.set_xticks(angles[:-1])\n",
    "    ax.set_xticklabels(models, fontsize=10)\n",
    "\n",
    "    # Adjust the position of the \"llama3-70b\" label to avoid overlap with the blue line\n",
    "    labels = ax.get_xticklabels()\n",
    "    labels[2].set_y(-0.15)  # Move llama3-70b slightly down\n",
    "\n",
    "    # Set radial labels (values)\n",
    "    ax.set_yticks([20, 40, 60, 80, 100])\n",
    "    ax.set_yticklabels(['20', '40', '60', '80', '100'], fontsize=8, color='grey')\n",
    "    ax.yaxis.grid(True, linestyle='--', color='grey', alpha=0.6)\n",
    "\n",
    "    # Remove unnecessary details for a cleaner look\n",
    "    ax.spines['polar'].set_visible(False)\n",
    "\n",
    "    # Add title and legend, including the dataset number and accuracy metric\n",
    "    dataset_name = dataset_folder.split('/')[1].capitalize()\n",
    "    ax.set_title(f\"Accuracy comparison | Dataset: {dataset_name}\", fontsize=14, pad=20)\n",
    "\n",
    "    # Place the legend outside the plot\n",
    "    ax.legend(loc='best', bbox_to_anchor=(1.2, 1), fontsize=7, frameon=False)\n",
    "\n",
    "    # Display the plot\n",
    "    plt.tight_layout()\n",
    "    plt.savefig(f\"radar_plot_{dataset_name}.pdf\", bbox_inches='tight', pad_inches=0)\n",
    "    plt.show()\n",
    "\n",
    "# Example usage:\n",
    "dataset_folder = \"datasets/financial\"\n",
    "# dataset_folder = \"datasets/eligibility\"\n",
    "# dataset_folder = \"datasets/healthcare\"\n",
    "llm_names = [\"llama-3.2-1b-preview\", \"llama3-8b-8192\", \"llama3-70b-8192\", \"gpt-4o-mini\"]\n",
    "\n",
    "# Pass dataset number for the title\n",
    "generate_radar_plot_with_improvements(dataset_folder, llm_names)\n"
   ]
  },
  {
   "cell_type": "markdown",
   "metadata": {},
   "source": [
    "# Average table of results"
   ]
  },
  {
   "cell_type": "code",
   "execution_count": 64,
   "metadata": {},
   "outputs": [
    {
     "data": {
      "text/html": [
       "<pre style=\"white-space:pre;overflow-x:auto;line-height:normal;font-family:Menlo,'DejaVu Sans Mono',consolas,'Courier New',monospace\">datasets/financial/qa_list.json object loaded successfully\n",
       "</pre>\n"
      ],
      "text/plain": [
       "datasets/financial/qa_list.json object loaded successfully\n"
      ]
     },
     "metadata": {},
     "output_type": "display_data"
    },
    {
     "data": {
      "text/html": [
       "<pre style=\"white-space:pre;overflow-x:auto;line-height:normal;font-family:Menlo,'DejaVu Sans Mono',consolas,'Courier New',monospace\">datasets/financial/answers_cama_llama-<span style=\"color: #008080; text-decoration-color: #008080; font-weight: bold\">3.2</span>-1b-preview.json object loaded successfully\n",
       "</pre>\n"
      ],
      "text/plain": [
       "datasets/financial/answers_cama_llama-\u001b[1;36m3.2\u001b[0m-1b-preview.json object loaded successfully\n"
      ]
     },
     "metadata": {},
     "output_type": "display_data"
    },
    {
     "data": {
      "text/html": [
       "<pre style=\"white-space:pre;overflow-x:auto;line-height:normal;font-family:Menlo,'DejaVu Sans Mono',consolas,'Courier New',monospace\">datasets/financial/qa_list.json object loaded successfully\n",
       "</pre>\n"
      ],
      "text/plain": [
       "datasets/financial/qa_list.json object loaded successfully\n"
      ]
     },
     "metadata": {},
     "output_type": "display_data"
    },
    {
     "data": {
      "text/html": [
       "<pre style=\"white-space:pre;overflow-x:auto;line-height:normal;font-family:Menlo,'DejaVu Sans Mono',consolas,'Courier New',monospace\">datasets/financial/answers_full_prompt_llama-<span style=\"color: #008080; text-decoration-color: #008080; font-weight: bold\">3.2</span>-1b-preview.json object loaded successfully\n",
       "</pre>\n"
      ],
      "text/plain": [
       "datasets/financial/answers_full_prompt_llama-\u001b[1;36m3.2\u001b[0m-1b-preview.json object loaded successfully\n"
      ]
     },
     "metadata": {},
     "output_type": "display_data"
    },
    {
     "data": {
      "text/html": [
       "<pre style=\"white-space:pre;overflow-x:auto;line-height:normal;font-family:Menlo,'DejaVu Sans Mono',consolas,'Courier New',monospace\">datasets/financial/qa_list.json object loaded successfully\n",
       "</pre>\n"
      ],
      "text/plain": [
       "datasets/financial/qa_list.json object loaded successfully\n"
      ]
     },
     "metadata": {},
     "output_type": "display_data"
    },
    {
     "data": {
      "text/html": [
       "<pre style=\"white-space:pre;overflow-x:auto;line-height:normal;font-family:Menlo,'DejaVu Sans Mono',consolas,'Courier New',monospace\">datasets/financial/answers_full_prompt_cot_llama-<span style=\"color: #008080; text-decoration-color: #008080; font-weight: bold\">3.2</span>-1b-preview.json object loaded successfully\n",
       "</pre>\n"
      ],
      "text/plain": [
       "datasets/financial/answers_full_prompt_cot_llama-\u001b[1;36m3.2\u001b[0m-1b-preview.json object loaded successfully\n"
      ]
     },
     "metadata": {},
     "output_type": "display_data"
    },
    {
     "data": {
      "text/html": [
       "<pre style=\"white-space:pre;overflow-x:auto;line-height:normal;font-family:Menlo,'DejaVu Sans Mono',consolas,'Courier New',monospace\">datasets/financial/qa_list.json object loaded successfully\n",
       "</pre>\n"
      ],
      "text/plain": [
       "datasets/financial/qa_list.json object loaded successfully\n"
      ]
     },
     "metadata": {},
     "output_type": "display_data"
    },
    {
     "data": {
      "text/html": [
       "<pre style=\"white-space:pre;overflow-x:auto;line-height:normal;font-family:Menlo,'DejaVu Sans Mono',consolas,'Courier New',monospace\">datasets/financial/answers_reflection_llama-<span style=\"color: #008080; text-decoration-color: #008080; font-weight: bold\">3.2</span>-1b-preview.json object loaded successfully\n",
       "</pre>\n"
      ],
      "text/plain": [
       "datasets/financial/answers_reflection_llama-\u001b[1;36m3.2\u001b[0m-1b-preview.json object loaded successfully\n"
      ]
     },
     "metadata": {},
     "output_type": "display_data"
    },
    {
     "data": {
      "text/html": [
       "<pre style=\"white-space:pre;overflow-x:auto;line-height:normal;font-family:Menlo,'DejaVu Sans Mono',consolas,'Courier New',monospace\">datasets/financial/qa_list.json object loaded successfully\n",
       "</pre>\n"
      ],
      "text/plain": [
       "datasets/financial/qa_list.json object loaded successfully\n"
      ]
     },
     "metadata": {},
     "output_type": "display_data"
    },
    {
     "data": {
      "text/html": [
       "<pre style=\"white-space:pre;overflow-x:auto;line-height:normal;font-family:Menlo,'DejaVu Sans Mono',consolas,'Courier New',monospace\">datasets/financial/answers_react_llama-<span style=\"color: #008080; text-decoration-color: #008080; font-weight: bold\">3.2</span>-1b-preview.json object loaded successfully\n",
       "</pre>\n"
      ],
      "text/plain": [
       "datasets/financial/answers_react_llama-\u001b[1;36m3.2\u001b[0m-1b-preview.json object loaded successfully\n"
      ]
     },
     "metadata": {},
     "output_type": "display_data"
    },
    {
     "data": {
      "text/html": [
       "<pre style=\"white-space:pre;overflow-x:auto;line-height:normal;font-family:Menlo,'DejaVu Sans Mono',consolas,'Courier New',monospace\">datasets/financial/qa_list.json object loaded successfully\n",
       "</pre>\n"
      ],
      "text/plain": [
       "datasets/financial/qa_list.json object loaded successfully\n"
      ]
     },
     "metadata": {},
     "output_type": "display_data"
    },
    {
     "data": {
      "text/html": [
       "<pre style=\"white-space:pre;overflow-x:auto;line-height:normal;font-family:Menlo,'DejaVu Sans Mono',consolas,'Courier New',monospace\">datasets/financial/answers_self_discover_llama-<span style=\"color: #008080; text-decoration-color: #008080; font-weight: bold\">3.2</span>-1b-preview.json object loaded successfully\n",
       "</pre>\n"
      ],
      "text/plain": [
       "datasets/financial/answers_self_discover_llama-\u001b[1;36m3.2\u001b[0m-1b-preview.json object loaded successfully\n"
      ]
     },
     "metadata": {},
     "output_type": "display_data"
    },
    {
     "data": {
      "text/html": [
       "<pre style=\"white-space:pre;overflow-x:auto;line-height:normal;font-family:Menlo,'DejaVu Sans Mono',consolas,'Courier New',monospace\">datasets/financial/qa_list.json object loaded successfully\n",
       "</pre>\n"
      ],
      "text/plain": [
       "datasets/financial/qa_list.json object loaded successfully\n"
      ]
     },
     "metadata": {},
     "output_type": "display_data"
    },
    {
     "data": {
      "text/html": [
       "<pre style=\"white-space:pre;overflow-x:auto;line-height:normal;font-family:Menlo,'DejaVu Sans Mono',consolas,'Courier New',monospace\">datasets/financial/answers_plan_and_execute_llama-<span style=\"color: #008080; text-decoration-color: #008080; font-weight: bold\">3.2</span>-1b-preview.json object loaded successfully\n",
       "</pre>\n"
      ],
      "text/plain": [
       "datasets/financial/answers_plan_and_execute_llama-\u001b[1;36m3.2\u001b[0m-1b-preview.json object loaded successfully\n"
      ]
     },
     "metadata": {},
     "output_type": "display_data"
    },
    {
     "data": {
      "text/html": [
       "<pre style=\"white-space:pre;overflow-x:auto;line-height:normal;font-family:Menlo,'DejaVu Sans Mono',consolas,'Courier New',monospace\">datasets/financial/qa_list.json object loaded successfully\n",
       "</pre>\n"
      ],
      "text/plain": [
       "datasets/financial/qa_list.json object loaded successfully\n"
      ]
     },
     "metadata": {},
     "output_type": "display_data"
    },
    {
     "data": {
      "text/html": [
       "<pre style=\"white-space:pre;overflow-x:auto;line-height:normal;font-family:Menlo,'DejaVu Sans Mono',consolas,'Courier New',monospace\">datasets/financial/answers_cama_llama3-8b-<span style=\"color: #008080; text-decoration-color: #008080; font-weight: bold\">8192.j</span>son object loaded successfully\n",
       "</pre>\n"
      ],
      "text/plain": [
       "datasets/financial/answers_cama_llama3-8b-\u001b[1;36m8192.j\u001b[0mson object loaded successfully\n"
      ]
     },
     "metadata": {},
     "output_type": "display_data"
    },
    {
     "data": {
      "text/html": [
       "<pre style=\"white-space:pre;overflow-x:auto;line-height:normal;font-family:Menlo,'DejaVu Sans Mono',consolas,'Courier New',monospace\">datasets/financial/qa_list.json object loaded successfully\n",
       "</pre>\n"
      ],
      "text/plain": [
       "datasets/financial/qa_list.json object loaded successfully\n"
      ]
     },
     "metadata": {},
     "output_type": "display_data"
    },
    {
     "data": {
      "text/html": [
       "<pre style=\"white-space:pre;overflow-x:auto;line-height:normal;font-family:Menlo,'DejaVu Sans Mono',consolas,'Courier New',monospace\">datasets/financial/answers_full_prompt_llama3-8b-<span style=\"color: #008080; text-decoration-color: #008080; font-weight: bold\">8192.j</span>son object loaded successfully\n",
       "</pre>\n"
      ],
      "text/plain": [
       "datasets/financial/answers_full_prompt_llama3-8b-\u001b[1;36m8192.j\u001b[0mson object loaded successfully\n"
      ]
     },
     "metadata": {},
     "output_type": "display_data"
    },
    {
     "data": {
      "text/html": [
       "<pre style=\"white-space:pre;overflow-x:auto;line-height:normal;font-family:Menlo,'DejaVu Sans Mono',consolas,'Courier New',monospace\">datasets/financial/qa_list.json object loaded successfully\n",
       "</pre>\n"
      ],
      "text/plain": [
       "datasets/financial/qa_list.json object loaded successfully\n"
      ]
     },
     "metadata": {},
     "output_type": "display_data"
    },
    {
     "data": {
      "text/html": [
       "<pre style=\"white-space:pre;overflow-x:auto;line-height:normal;font-family:Menlo,'DejaVu Sans Mono',consolas,'Courier New',monospace\">datasets/financial/answers_full_prompt_cot_llama3-8b-<span style=\"color: #008080; text-decoration-color: #008080; font-weight: bold\">8192.j</span>son object loaded successfully\n",
       "</pre>\n"
      ],
      "text/plain": [
       "datasets/financial/answers_full_prompt_cot_llama3-8b-\u001b[1;36m8192.j\u001b[0mson object loaded successfully\n"
      ]
     },
     "metadata": {},
     "output_type": "display_data"
    },
    {
     "data": {
      "text/html": [
       "<pre style=\"white-space:pre;overflow-x:auto;line-height:normal;font-family:Menlo,'DejaVu Sans Mono',consolas,'Courier New',monospace\">datasets/financial/qa_list.json object loaded successfully\n",
       "</pre>\n"
      ],
      "text/plain": [
       "datasets/financial/qa_list.json object loaded successfully\n"
      ]
     },
     "metadata": {},
     "output_type": "display_data"
    },
    {
     "data": {
      "text/html": [
       "<pre style=\"white-space:pre;overflow-x:auto;line-height:normal;font-family:Menlo,'DejaVu Sans Mono',consolas,'Courier New',monospace\">datasets/financial/answers_reflection_llama3-8b-<span style=\"color: #008080; text-decoration-color: #008080; font-weight: bold\">8192.j</span>son object loaded successfully\n",
       "</pre>\n"
      ],
      "text/plain": [
       "datasets/financial/answers_reflection_llama3-8b-\u001b[1;36m8192.j\u001b[0mson object loaded successfully\n"
      ]
     },
     "metadata": {},
     "output_type": "display_data"
    },
    {
     "data": {
      "text/html": [
       "<pre style=\"white-space:pre;overflow-x:auto;line-height:normal;font-family:Menlo,'DejaVu Sans Mono',consolas,'Courier New',monospace\">datasets/financial/qa_list.json object loaded successfully\n",
       "</pre>\n"
      ],
      "text/plain": [
       "datasets/financial/qa_list.json object loaded successfully\n"
      ]
     },
     "metadata": {},
     "output_type": "display_data"
    },
    {
     "data": {
      "text/html": [
       "<pre style=\"white-space:pre;overflow-x:auto;line-height:normal;font-family:Menlo,'DejaVu Sans Mono',consolas,'Courier New',monospace\">datasets/financial/answers_react_llama3-8b-<span style=\"color: #008080; text-decoration-color: #008080; font-weight: bold\">8192.j</span>son object loaded successfully\n",
       "</pre>\n"
      ],
      "text/plain": [
       "datasets/financial/answers_react_llama3-8b-\u001b[1;36m8192.j\u001b[0mson object loaded successfully\n"
      ]
     },
     "metadata": {},
     "output_type": "display_data"
    },
    {
     "data": {
      "text/html": [
       "<pre style=\"white-space:pre;overflow-x:auto;line-height:normal;font-family:Menlo,'DejaVu Sans Mono',consolas,'Courier New',monospace\">datasets/financial/qa_list.json object loaded successfully\n",
       "</pre>\n"
      ],
      "text/plain": [
       "datasets/financial/qa_list.json object loaded successfully\n"
      ]
     },
     "metadata": {},
     "output_type": "display_data"
    },
    {
     "data": {
      "text/html": [
       "<pre style=\"white-space:pre;overflow-x:auto;line-height:normal;font-family:Menlo,'DejaVu Sans Mono',consolas,'Courier New',monospace\">datasets/financial/answers_self_discover_llama3-8b-<span style=\"color: #008080; text-decoration-color: #008080; font-weight: bold\">8192.j</span>son object loaded successfully\n",
       "</pre>\n"
      ],
      "text/plain": [
       "datasets/financial/answers_self_discover_llama3-8b-\u001b[1;36m8192.j\u001b[0mson object loaded successfully\n"
      ]
     },
     "metadata": {},
     "output_type": "display_data"
    },
    {
     "data": {
      "text/html": [
       "<pre style=\"white-space:pre;overflow-x:auto;line-height:normal;font-family:Menlo,'DejaVu Sans Mono',consolas,'Courier New',monospace\">datasets/financial/qa_list.json object loaded successfully\n",
       "</pre>\n"
      ],
      "text/plain": [
       "datasets/financial/qa_list.json object loaded successfully\n"
      ]
     },
     "metadata": {},
     "output_type": "display_data"
    },
    {
     "data": {
      "text/html": [
       "<pre style=\"white-space:pre;overflow-x:auto;line-height:normal;font-family:Menlo,'DejaVu Sans Mono',consolas,'Courier New',monospace\">datasets/financial/answers_plan_and_execute_llama3-8b-<span style=\"color: #008080; text-decoration-color: #008080; font-weight: bold\">8192.j</span>son object loaded successfully\n",
       "</pre>\n"
      ],
      "text/plain": [
       "datasets/financial/answers_plan_and_execute_llama3-8b-\u001b[1;36m8192.j\u001b[0mson object loaded successfully\n"
      ]
     },
     "metadata": {},
     "output_type": "display_data"
    },
    {
     "data": {
      "text/html": [
       "<pre style=\"white-space:pre;overflow-x:auto;line-height:normal;font-family:Menlo,'DejaVu Sans Mono',consolas,'Courier New',monospace\">datasets/financial/qa_list.json object loaded successfully\n",
       "</pre>\n"
      ],
      "text/plain": [
       "datasets/financial/qa_list.json object loaded successfully\n"
      ]
     },
     "metadata": {},
     "output_type": "display_data"
    },
    {
     "data": {
      "text/html": [
       "<pre style=\"white-space:pre;overflow-x:auto;line-height:normal;font-family:Menlo,'DejaVu Sans Mono',consolas,'Courier New',monospace\">datasets/financial/answers_cama_llama3-70b-<span style=\"color: #008080; text-decoration-color: #008080; font-weight: bold\">8192.j</span>son object loaded successfully\n",
       "</pre>\n"
      ],
      "text/plain": [
       "datasets/financial/answers_cama_llama3-70b-\u001b[1;36m8192.j\u001b[0mson object loaded successfully\n"
      ]
     },
     "metadata": {},
     "output_type": "display_data"
    },
    {
     "data": {
      "text/html": [
       "<pre style=\"white-space:pre;overflow-x:auto;line-height:normal;font-family:Menlo,'DejaVu Sans Mono',consolas,'Courier New',monospace\">datasets/financial/qa_list.json object loaded successfully\n",
       "</pre>\n"
      ],
      "text/plain": [
       "datasets/financial/qa_list.json object loaded successfully\n"
      ]
     },
     "metadata": {},
     "output_type": "display_data"
    },
    {
     "data": {
      "text/html": [
       "<pre style=\"white-space:pre;overflow-x:auto;line-height:normal;font-family:Menlo,'DejaVu Sans Mono',consolas,'Courier New',monospace\">datasets/financial/answers_full_prompt_llama3-70b-<span style=\"color: #008080; text-decoration-color: #008080; font-weight: bold\">8192.j</span>son object loaded successfully\n",
       "</pre>\n"
      ],
      "text/plain": [
       "datasets/financial/answers_full_prompt_llama3-70b-\u001b[1;36m8192.j\u001b[0mson object loaded successfully\n"
      ]
     },
     "metadata": {},
     "output_type": "display_data"
    },
    {
     "data": {
      "text/html": [
       "<pre style=\"white-space:pre;overflow-x:auto;line-height:normal;font-family:Menlo,'DejaVu Sans Mono',consolas,'Courier New',monospace\">datasets/financial/qa_list.json object loaded successfully\n",
       "</pre>\n"
      ],
      "text/plain": [
       "datasets/financial/qa_list.json object loaded successfully\n"
      ]
     },
     "metadata": {},
     "output_type": "display_data"
    },
    {
     "data": {
      "text/html": [
       "<pre style=\"white-space:pre;overflow-x:auto;line-height:normal;font-family:Menlo,'DejaVu Sans Mono',consolas,'Courier New',monospace\">datasets/financial/answers_full_prompt_cot_llama3-70b-<span style=\"color: #008080; text-decoration-color: #008080; font-weight: bold\">8192.j</span>son object loaded successfully\n",
       "</pre>\n"
      ],
      "text/plain": [
       "datasets/financial/answers_full_prompt_cot_llama3-70b-\u001b[1;36m8192.j\u001b[0mson object loaded successfully\n"
      ]
     },
     "metadata": {},
     "output_type": "display_data"
    },
    {
     "data": {
      "text/html": [
       "<pre style=\"white-space:pre;overflow-x:auto;line-height:normal;font-family:Menlo,'DejaVu Sans Mono',consolas,'Courier New',monospace\">datasets/financial/qa_list.json object loaded successfully\n",
       "</pre>\n"
      ],
      "text/plain": [
       "datasets/financial/qa_list.json object loaded successfully\n"
      ]
     },
     "metadata": {},
     "output_type": "display_data"
    },
    {
     "data": {
      "text/html": [
       "<pre style=\"white-space:pre;overflow-x:auto;line-height:normal;font-family:Menlo,'DejaVu Sans Mono',consolas,'Courier New',monospace\">datasets/financial/answers_reflection_llama3-70b-<span style=\"color: #008080; text-decoration-color: #008080; font-weight: bold\">8192.j</span>son object loaded successfully\n",
       "</pre>\n"
      ],
      "text/plain": [
       "datasets/financial/answers_reflection_llama3-70b-\u001b[1;36m8192.j\u001b[0mson object loaded successfully\n"
      ]
     },
     "metadata": {},
     "output_type": "display_data"
    },
    {
     "data": {
      "text/html": [
       "<pre style=\"white-space:pre;overflow-x:auto;line-height:normal;font-family:Menlo,'DejaVu Sans Mono',consolas,'Courier New',monospace\">datasets/financial/qa_list.json object loaded successfully\n",
       "</pre>\n"
      ],
      "text/plain": [
       "datasets/financial/qa_list.json object loaded successfully\n"
      ]
     },
     "metadata": {},
     "output_type": "display_data"
    },
    {
     "data": {
      "text/html": [
       "<pre style=\"white-space:pre;overflow-x:auto;line-height:normal;font-family:Menlo,'DejaVu Sans Mono',consolas,'Courier New',monospace\">datasets/financial/answers_react_llama3-70b-<span style=\"color: #008080; text-decoration-color: #008080; font-weight: bold\">8192.j</span>son object loaded successfully\n",
       "</pre>\n"
      ],
      "text/plain": [
       "datasets/financial/answers_react_llama3-70b-\u001b[1;36m8192.j\u001b[0mson object loaded successfully\n"
      ]
     },
     "metadata": {},
     "output_type": "display_data"
    },
    {
     "data": {
      "text/html": [
       "<pre style=\"white-space:pre;overflow-x:auto;line-height:normal;font-family:Menlo,'DejaVu Sans Mono',consolas,'Courier New',monospace\">datasets/financial/qa_list.json object loaded successfully\n",
       "</pre>\n"
      ],
      "text/plain": [
       "datasets/financial/qa_list.json object loaded successfully\n"
      ]
     },
     "metadata": {},
     "output_type": "display_data"
    },
    {
     "data": {
      "text/html": [
       "<pre style=\"white-space:pre;overflow-x:auto;line-height:normal;font-family:Menlo,'DejaVu Sans Mono',consolas,'Courier New',monospace\">datasets/financial/answers_self_discover_llama3-70b-<span style=\"color: #008080; text-decoration-color: #008080; font-weight: bold\">8192.j</span>son object loaded successfully\n",
       "</pre>\n"
      ],
      "text/plain": [
       "datasets/financial/answers_self_discover_llama3-70b-\u001b[1;36m8192.j\u001b[0mson object loaded successfully\n"
      ]
     },
     "metadata": {},
     "output_type": "display_data"
    },
    {
     "data": {
      "text/html": [
       "<pre style=\"white-space:pre;overflow-x:auto;line-height:normal;font-family:Menlo,'DejaVu Sans Mono',consolas,'Courier New',monospace\">datasets/financial/qa_list.json object loaded successfully\n",
       "</pre>\n"
      ],
      "text/plain": [
       "datasets/financial/qa_list.json object loaded successfully\n"
      ]
     },
     "metadata": {},
     "output_type": "display_data"
    },
    {
     "data": {
      "text/html": [
       "<pre style=\"white-space:pre;overflow-x:auto;line-height:normal;font-family:Menlo,'DejaVu Sans Mono',consolas,'Courier New',monospace\">datasets/financial/answers_plan_and_execute_llama3-70b-<span style=\"color: #008080; text-decoration-color: #008080; font-weight: bold\">8192.j</span>son object loaded successfully\n",
       "</pre>\n"
      ],
      "text/plain": [
       "datasets/financial/answers_plan_and_execute_llama3-70b-\u001b[1;36m8192.j\u001b[0mson object loaded successfully\n"
      ]
     },
     "metadata": {},
     "output_type": "display_data"
    },
    {
     "data": {
      "text/html": [
       "<pre style=\"white-space:pre;overflow-x:auto;line-height:normal;font-family:Menlo,'DejaVu Sans Mono',consolas,'Courier New',monospace\">datasets/financial/qa_list.json object loaded successfully\n",
       "</pre>\n"
      ],
      "text/plain": [
       "datasets/financial/qa_list.json object loaded successfully\n"
      ]
     },
     "metadata": {},
     "output_type": "display_data"
    },
    {
     "data": {
      "text/html": [
       "<pre style=\"white-space:pre;overflow-x:auto;line-height:normal;font-family:Menlo,'DejaVu Sans Mono',consolas,'Courier New',monospace\">datasets/financial/answers_cama_gpt-4o-mini.json object loaded successfully\n",
       "</pre>\n"
      ],
      "text/plain": [
       "datasets/financial/answers_cama_gpt-4o-mini.json object loaded successfully\n"
      ]
     },
     "metadata": {},
     "output_type": "display_data"
    },
    {
     "data": {
      "text/html": [
       "<pre style=\"white-space:pre;overflow-x:auto;line-height:normal;font-family:Menlo,'DejaVu Sans Mono',consolas,'Courier New',monospace\">datasets/financial/qa_list.json object loaded successfully\n",
       "</pre>\n"
      ],
      "text/plain": [
       "datasets/financial/qa_list.json object loaded successfully\n"
      ]
     },
     "metadata": {},
     "output_type": "display_data"
    },
    {
     "data": {
      "text/html": [
       "<pre style=\"white-space:pre;overflow-x:auto;line-height:normal;font-family:Menlo,'DejaVu Sans Mono',consolas,'Courier New',monospace\">datasets/financial/answers_full_prompt_gpt-4o-mini.json object loaded successfully\n",
       "</pre>\n"
      ],
      "text/plain": [
       "datasets/financial/answers_full_prompt_gpt-4o-mini.json object loaded successfully\n"
      ]
     },
     "metadata": {},
     "output_type": "display_data"
    },
    {
     "data": {
      "text/html": [
       "<pre style=\"white-space:pre;overflow-x:auto;line-height:normal;font-family:Menlo,'DejaVu Sans Mono',consolas,'Courier New',monospace\">datasets/financial/qa_list.json object loaded successfully\n",
       "</pre>\n"
      ],
      "text/plain": [
       "datasets/financial/qa_list.json object loaded successfully\n"
      ]
     },
     "metadata": {},
     "output_type": "display_data"
    },
    {
     "data": {
      "text/html": [
       "<pre style=\"white-space:pre;overflow-x:auto;line-height:normal;font-family:Menlo,'DejaVu Sans Mono',consolas,'Courier New',monospace\">datasets/financial/answers_full_prompt_cot_gpt-4o-mini.json object loaded successfully\n",
       "</pre>\n"
      ],
      "text/plain": [
       "datasets/financial/answers_full_prompt_cot_gpt-4o-mini.json object loaded successfully\n"
      ]
     },
     "metadata": {},
     "output_type": "display_data"
    },
    {
     "data": {
      "text/html": [
       "<pre style=\"white-space:pre;overflow-x:auto;line-height:normal;font-family:Menlo,'DejaVu Sans Mono',consolas,'Courier New',monospace\">datasets/financial/qa_list.json object loaded successfully\n",
       "</pre>\n"
      ],
      "text/plain": [
       "datasets/financial/qa_list.json object loaded successfully\n"
      ]
     },
     "metadata": {},
     "output_type": "display_data"
    },
    {
     "data": {
      "text/html": [
       "<pre style=\"white-space:pre;overflow-x:auto;line-height:normal;font-family:Menlo,'DejaVu Sans Mono',consolas,'Courier New',monospace\">datasets/financial/answers_reflection_gpt-4o-mini.json object loaded successfully\n",
       "</pre>\n"
      ],
      "text/plain": [
       "datasets/financial/answers_reflection_gpt-4o-mini.json object loaded successfully\n"
      ]
     },
     "metadata": {},
     "output_type": "display_data"
    },
    {
     "data": {
      "text/html": [
       "<pre style=\"white-space:pre;overflow-x:auto;line-height:normal;font-family:Menlo,'DejaVu Sans Mono',consolas,'Courier New',monospace\">datasets/financial/qa_list.json object loaded successfully\n",
       "</pre>\n"
      ],
      "text/plain": [
       "datasets/financial/qa_list.json object loaded successfully\n"
      ]
     },
     "metadata": {},
     "output_type": "display_data"
    },
    {
     "data": {
      "text/html": [
       "<pre style=\"white-space:pre;overflow-x:auto;line-height:normal;font-family:Menlo,'DejaVu Sans Mono',consolas,'Courier New',monospace\">datasets/financial/answers_react_gpt-4o-mini.json object loaded successfully\n",
       "</pre>\n"
      ],
      "text/plain": [
       "datasets/financial/answers_react_gpt-4o-mini.json object loaded successfully\n"
      ]
     },
     "metadata": {},
     "output_type": "display_data"
    },
    {
     "data": {
      "text/html": [
       "<pre style=\"white-space:pre;overflow-x:auto;line-height:normal;font-family:Menlo,'DejaVu Sans Mono',consolas,'Courier New',monospace\">datasets/financial/qa_list.json object loaded successfully\n",
       "</pre>\n"
      ],
      "text/plain": [
       "datasets/financial/qa_list.json object loaded successfully\n"
      ]
     },
     "metadata": {},
     "output_type": "display_data"
    },
    {
     "data": {
      "text/html": [
       "<pre style=\"white-space:pre;overflow-x:auto;line-height:normal;font-family:Menlo,'DejaVu Sans Mono',consolas,'Courier New',monospace\">datasets/financial/answers_self_discover_gpt-4o-mini.json object loaded successfully\n",
       "</pre>\n"
      ],
      "text/plain": [
       "datasets/financial/answers_self_discover_gpt-4o-mini.json object loaded successfully\n"
      ]
     },
     "metadata": {},
     "output_type": "display_data"
    },
    {
     "data": {
      "text/html": [
       "<pre style=\"white-space:pre;overflow-x:auto;line-height:normal;font-family:Menlo,'DejaVu Sans Mono',consolas,'Courier New',monospace\">datasets/financial/qa_list.json object loaded successfully\n",
       "</pre>\n"
      ],
      "text/plain": [
       "datasets/financial/qa_list.json object loaded successfully\n"
      ]
     },
     "metadata": {},
     "output_type": "display_data"
    },
    {
     "data": {
      "text/html": [
       "<pre style=\"white-space:pre;overflow-x:auto;line-height:normal;font-family:Menlo,'DejaVu Sans Mono',consolas,'Courier New',monospace\">datasets/financial/answers_plan_and_execute_gpt-4o-mini.json object loaded successfully\n",
       "</pre>\n"
      ],
      "text/plain": [
       "datasets/financial/answers_plan_and_execute_gpt-4o-mini.json object loaded successfully\n"
      ]
     },
     "metadata": {},
     "output_type": "display_data"
    },
    {
     "name": "stdout",
     "output_type": "stream",
     "text": [
      "\n",
      "LaTeX Table for Financial Dataset:\n",
      "\\begin{table*}[htbp]\n",
      "\\centering\n",
      "\\caption{Performance Comparison Across Different LLMs and Methods for Financial Dataset}\n",
      "\\textbf{Note:} The financial dataset represents an easy difficulty level.\n",
      "\\label{tab:llm-comparison}\n",
      "\\resizebox{\\textwidth}{!}{%\n",
      "\\begin{tabular}{llccccccc}\n",
      "\\toprule\n",
      "\\textbf{Model} & \\textbf{Metric} & \\textbf{Cama} & \\textbf{Standard} & \\textbf{CoT} & \\textbf{Reflection} & \\textbf{React} & \\textbf{S.Discover} & \\textbf{P.Execute} \\\\\n",
      "\\midrule\n",
      "\\multirow{4}{*}{\\textbf{llama-3.2-1b}} & \\textbf{Accuracy (↑)} & \\textbf{71.8} & 43.6 & 23.1 & 35.9 & 59.0 & 43.6 & 38.5 \\\\\n",
      " & \\textbf{Unknown (↓)} & \\textbf{25.6} & 56.4 & 76.9 & 53.8 & 33.3 & 53.8 & 61.5 \\\\\n",
      " & \\textbf{Tokens (↓)} & 28.1 & 5.2 & 4.8 & 13.8 & \\textbf{4.3} & 18.2 & 37.3 \\\\\n",
      " & \\textbf{Time (↓)} & 6.2 & \\textbf{1.2} & 1.9 & 4.2 & 2.5 & 5.6 & 43.4 \\\\\n",
      "\\midrule\n",
      "\\multirow{4}{*}{\\textbf{llama3-8b}} & \\textbf{Accuracy (↑)} & \\textbf{87.2} & 30.8 & 38.5 & 48.7 & 7.7 & 46.2 & 69.2 \\\\\n",
      " & \\textbf{Unknown (↓)} & \\textbf{0.0} & 69.2 & 61.5 & 48.7 & 92.3 & 51.3 & 23.1 \\\\\n",
      " & \\textbf{Tokens (↓)} & 24.2 & 4.8 & 4.8 & 13.8 & \\textbf{4.3} & 24.6 & 37.3 \\\\\n",
      " & \\textbf{Time (↓)} & 5.1 & \\textbf{1.2} & \\textbf{1.2} & 4.2 & 2.5 & 5.7 & 15.2 \\\\\n",
      "\\midrule\n",
      "\\multirow{4}{*}{\\textbf{llama3-70b}} & \\textbf{Accuracy (↑)} & \\textbf{94.9} & 33.3 & 51.3 & 48.7 & 20.5 & 43.6 & 43.6 \\\\\n",
      " & \\textbf{Unknown (↓)} & \\textbf{0.0} & 66.7 & 48.7 & 48.7 & 79.5 & 53.8 & 53.8 \\\\\n",
      " & \\textbf{Tokens (↓)} & 21.6 & \\textbf{4.8} & 5.2 & 14.6 & 8.9 & 23.1 & 14.3 \\\\\n",
      " & \\textbf{Time (↓)} & 59.5 & \\textbf{2.1} & 48.0 & 146.3 & 17.7 & 171.8 & 148.6 \\\\\n",
      "\\midrule\n",
      "\\multirow{4}{*}{\\textbf{gpt-4o-mini}} & \\textbf{Accuracy (↑)} & \\textbf{84.6} & 69.2 & 61.5 & 30.8 & 48.7 & 41.0 & 41.0 \\\\\n",
      " & \\textbf{Unknown (↓)} & \\textbf{0.0} & 30.8 & 38.5 & 66.7 & 46.2 & 59.0 & 59.0 \\\\\n",
      " & \\textbf{Tokens (↓)} & 24.2 & \\textbf{5.7} & \\textbf{5.7} & 16.5 & 9.6 & 23.9 & 510.6 \\\\\n",
      " & \\textbf{Time (↓)} & \\textbf{19.7} & 20.7 & 27.7 & 62.6 & 32.5 & 56.8 & 238.1 \\\\\n",
      "\\bottomrule\n",
      "\\end{tabular}\n",
      "}\n",
      "\\end{table*}\n",
      "\n",
      "Readable Version for Financial Dataset:\n",
      "\n",
      "llama-3.2-1b:\n",
      "+------------------+---------------+---------------+--------------+--------------+\n",
      "|                  | Accuracy (↑)  |  Unknown (↓)  |  Tokens (↓)  |   Time (↓)   |\n",
      "+------------------+---------------+---------------+--------------+--------------+\n",
      "|       Cama       | \\textbf{71.8} | \\textbf{25.6} |     28.1     |     6.2      |\n",
      "|     Standard     |     43.6      |     56.4      |     5.2      | \\textbf{1.2} |\n",
      "|       CoT        |     23.1      |     76.9      |     4.8      |     1.9      |\n",
      "|    Reflection    |     35.9      |     53.8      |     13.8     |     4.2      |\n",
      "|      React       |     59.0      |     33.3      | \\textbf{4.3} |     2.5      |\n",
      "|  Self Discover   |     43.6      |     53.8      |     18.2     |     5.6      |\n",
      "| Plan and Execute |     38.5      |     61.5      |     37.3     |     43.4     |\n",
      "+------------------+---------------+---------------+--------------+--------------+\n",
      "\n",
      "llama3-8b:\n",
      "+------------------+---------------+--------------+--------------+--------------+\n",
      "|                  | Accuracy (↑)  | Unknown (↓)  |  Tokens (↓)  |   Time (↓)   |\n",
      "+------------------+---------------+--------------+--------------+--------------+\n",
      "|       Cama       | \\textbf{87.2} | \\textbf{0.0} |     24.2     |     5.1      |\n",
      "|     Standard     |     30.8      |     69.2     |     4.8      | \\textbf{1.2} |\n",
      "|       CoT        |     38.5      |     61.5     |     4.8      | \\textbf{1.2} |\n",
      "|    Reflection    |     48.7      |     48.7     |     13.8     |     4.2      |\n",
      "|      React       |      7.7      |     92.3     | \\textbf{4.3} |     2.5      |\n",
      "|  Self Discover   |     46.2      |     51.3     |     24.6     |     5.7      |\n",
      "| Plan and Execute |     69.2      |     23.1     |     37.3     |     15.2     |\n",
      "+------------------+---------------+--------------+--------------+--------------+\n",
      "\n",
      "llama3-70b:\n",
      "+------------------+---------------+--------------+--------------+--------------+\n",
      "|                  | Accuracy (↑)  | Unknown (↓)  |  Tokens (↓)  |   Time (↓)   |\n",
      "+------------------+---------------+--------------+--------------+--------------+\n",
      "|       Cama       | \\textbf{94.9} | \\textbf{0.0} |     21.6     |     59.5     |\n",
      "|     Standard     |     33.3      |     66.7     | \\textbf{4.8} | \\textbf{2.1} |\n",
      "|       CoT        |     51.3      |     48.7     |     5.2      |     48.0     |\n",
      "|    Reflection    |     48.7      |     48.7     |     14.6     |    146.3     |\n",
      "|      React       |     20.5      |     79.5     |     8.9      |     17.7     |\n",
      "|  Self Discover   |     43.6      |     53.8     |     23.1     |    171.8     |\n",
      "| Plan and Execute |     43.6      |     53.8     |     14.3     |    148.6     |\n",
      "+------------------+---------------+--------------+--------------+--------------+\n",
      "\n",
      "gpt-4o-mini:\n",
      "+------------------+---------------+--------------+--------------+---------------+\n",
      "|                  | Accuracy (↑)  | Unknown (↓)  |  Tokens (↓)  |   Time (↓)    |\n",
      "+------------------+---------------+--------------+--------------+---------------+\n",
      "|       Cama       | \\textbf{84.6} | \\textbf{0.0} |     24.2     | \\textbf{19.7} |\n",
      "|     Standard     |     69.2      |     30.8     | \\textbf{5.7} |     20.7      |\n",
      "|       CoT        |     61.5      |     38.5     | \\textbf{5.7} |     27.7      |\n",
      "|    Reflection    |     30.8      |     66.7     |     16.5     |     62.6      |\n",
      "|      React       |     48.7      |     46.2     |     9.6      |     32.5      |\n",
      "|  Self Discover   |     41.0      |     59.0     |     23.9     |     56.8      |\n",
      "| Plan and Execute |     41.0      |     59.0     |    510.6     |     238.1     |\n",
      "+------------------+---------------+--------------+--------------+---------------+\n"
     ]
    },
    {
     "data": {
      "text/html": [
       "<pre style=\"white-space:pre;overflow-x:auto;line-height:normal;font-family:Menlo,'DejaVu Sans Mono',consolas,'Courier New',monospace\">datasets/eligibility/qa_list.json object loaded successfully\n",
       "</pre>\n"
      ],
      "text/plain": [
       "datasets/eligibility/qa_list.json object loaded successfully\n"
      ]
     },
     "metadata": {},
     "output_type": "display_data"
    },
    {
     "data": {
      "text/html": [
       "<pre style=\"white-space:pre;overflow-x:auto;line-height:normal;font-family:Menlo,'DejaVu Sans Mono',consolas,'Courier New',monospace\">datasets/eligibility/answers_cama_llama-<span style=\"color: #008080; text-decoration-color: #008080; font-weight: bold\">3.2</span>-1b-preview.json object loaded successfully\n",
       "</pre>\n"
      ],
      "text/plain": [
       "datasets/eligibility/answers_cama_llama-\u001b[1;36m3.2\u001b[0m-1b-preview.json object loaded successfully\n"
      ]
     },
     "metadata": {},
     "output_type": "display_data"
    },
    {
     "data": {
      "text/html": [
       "<pre style=\"white-space:pre;overflow-x:auto;line-height:normal;font-family:Menlo,'DejaVu Sans Mono',consolas,'Courier New',monospace\">datasets/eligibility/qa_list.json object loaded successfully\n",
       "</pre>\n"
      ],
      "text/plain": [
       "datasets/eligibility/qa_list.json object loaded successfully\n"
      ]
     },
     "metadata": {},
     "output_type": "display_data"
    },
    {
     "data": {
      "text/html": [
       "<pre style=\"white-space:pre;overflow-x:auto;line-height:normal;font-family:Menlo,'DejaVu Sans Mono',consolas,'Courier New',monospace\">datasets/eligibility/answers_full_prompt_llama-<span style=\"color: #008080; text-decoration-color: #008080; font-weight: bold\">3.2</span>-1b-preview.json object loaded successfully\n",
       "</pre>\n"
      ],
      "text/plain": [
       "datasets/eligibility/answers_full_prompt_llama-\u001b[1;36m3.2\u001b[0m-1b-preview.json object loaded successfully\n"
      ]
     },
     "metadata": {},
     "output_type": "display_data"
    },
    {
     "data": {
      "text/html": [
       "<pre style=\"white-space:pre;overflow-x:auto;line-height:normal;font-family:Menlo,'DejaVu Sans Mono',consolas,'Courier New',monospace\">datasets/eligibility/qa_list.json object loaded successfully\n",
       "</pre>\n"
      ],
      "text/plain": [
       "datasets/eligibility/qa_list.json object loaded successfully\n"
      ]
     },
     "metadata": {},
     "output_type": "display_data"
    },
    {
     "data": {
      "text/html": [
       "<pre style=\"white-space:pre;overflow-x:auto;line-height:normal;font-family:Menlo,'DejaVu Sans Mono',consolas,'Courier New',monospace\">datasets/eligibility/answers_full_prompt_cot_llama-<span style=\"color: #008080; text-decoration-color: #008080; font-weight: bold\">3.2</span>-1b-preview.json object loaded successfully\n",
       "</pre>\n"
      ],
      "text/plain": [
       "datasets/eligibility/answers_full_prompt_cot_llama-\u001b[1;36m3.2\u001b[0m-1b-preview.json object loaded successfully\n"
      ]
     },
     "metadata": {},
     "output_type": "display_data"
    },
    {
     "data": {
      "text/html": [
       "<pre style=\"white-space:pre;overflow-x:auto;line-height:normal;font-family:Menlo,'DejaVu Sans Mono',consolas,'Courier New',monospace\">datasets/eligibility/qa_list.json object loaded successfully\n",
       "</pre>\n"
      ],
      "text/plain": [
       "datasets/eligibility/qa_list.json object loaded successfully\n"
      ]
     },
     "metadata": {},
     "output_type": "display_data"
    },
    {
     "data": {
      "text/html": [
       "<pre style=\"white-space:pre;overflow-x:auto;line-height:normal;font-family:Menlo,'DejaVu Sans Mono',consolas,'Courier New',monospace\">datasets/eligibility/answers_reflection_llama-<span style=\"color: #008080; text-decoration-color: #008080; font-weight: bold\">3.2</span>-1b-preview.json object loaded successfully\n",
       "</pre>\n"
      ],
      "text/plain": [
       "datasets/eligibility/answers_reflection_llama-\u001b[1;36m3.2\u001b[0m-1b-preview.json object loaded successfully\n"
      ]
     },
     "metadata": {},
     "output_type": "display_data"
    },
    {
     "data": {
      "text/html": [
       "<pre style=\"white-space:pre;overflow-x:auto;line-height:normal;font-family:Menlo,'DejaVu Sans Mono',consolas,'Courier New',monospace\">datasets/eligibility/qa_list.json object loaded successfully\n",
       "</pre>\n"
      ],
      "text/plain": [
       "datasets/eligibility/qa_list.json object loaded successfully\n"
      ]
     },
     "metadata": {},
     "output_type": "display_data"
    },
    {
     "data": {
      "text/html": [
       "<pre style=\"white-space:pre;overflow-x:auto;line-height:normal;font-family:Menlo,'DejaVu Sans Mono',consolas,'Courier New',monospace\">datasets/eligibility/answers_react_llama-<span style=\"color: #008080; text-decoration-color: #008080; font-weight: bold\">3.2</span>-1b-preview.json object loaded successfully\n",
       "</pre>\n"
      ],
      "text/plain": [
       "datasets/eligibility/answers_react_llama-\u001b[1;36m3.2\u001b[0m-1b-preview.json object loaded successfully\n"
      ]
     },
     "metadata": {},
     "output_type": "display_data"
    },
    {
     "data": {
      "text/html": [
       "<pre style=\"white-space:pre;overflow-x:auto;line-height:normal;font-family:Menlo,'DejaVu Sans Mono',consolas,'Courier New',monospace\">datasets/eligibility/qa_list.json object loaded successfully\n",
       "</pre>\n"
      ],
      "text/plain": [
       "datasets/eligibility/qa_list.json object loaded successfully\n"
      ]
     },
     "metadata": {},
     "output_type": "display_data"
    },
    {
     "data": {
      "text/html": [
       "<pre style=\"white-space:pre;overflow-x:auto;line-height:normal;font-family:Menlo,'DejaVu Sans Mono',consolas,'Courier New',monospace\">datasets/eligibility/answers_self_discover_llama-<span style=\"color: #008080; text-decoration-color: #008080; font-weight: bold\">3.2</span>-1b-preview.json object loaded successfully\n",
       "</pre>\n"
      ],
      "text/plain": [
       "datasets/eligibility/answers_self_discover_llama-\u001b[1;36m3.2\u001b[0m-1b-preview.json object loaded successfully\n"
      ]
     },
     "metadata": {},
     "output_type": "display_data"
    },
    {
     "data": {
      "text/html": [
       "<pre style=\"white-space:pre;overflow-x:auto;line-height:normal;font-family:Menlo,'DejaVu Sans Mono',consolas,'Courier New',monospace\">datasets/eligibility/qa_list.json object loaded successfully\n",
       "</pre>\n"
      ],
      "text/plain": [
       "datasets/eligibility/qa_list.json object loaded successfully\n"
      ]
     },
     "metadata": {},
     "output_type": "display_data"
    },
    {
     "data": {
      "text/html": [
       "<pre style=\"white-space:pre;overflow-x:auto;line-height:normal;font-family:Menlo,'DejaVu Sans Mono',consolas,'Courier New',monospace\">datasets/eligibility/answers_plan_and_execute_llama-<span style=\"color: #008080; text-decoration-color: #008080; font-weight: bold\">3.2</span>-1b-preview.json object loaded successfully\n",
       "</pre>\n"
      ],
      "text/plain": [
       "datasets/eligibility/answers_plan_and_execute_llama-\u001b[1;36m3.2\u001b[0m-1b-preview.json object loaded successfully\n"
      ]
     },
     "metadata": {},
     "output_type": "display_data"
    },
    {
     "data": {
      "text/html": [
       "<pre style=\"white-space:pre;overflow-x:auto;line-height:normal;font-family:Menlo,'DejaVu Sans Mono',consolas,'Courier New',monospace\">datasets/eligibility/qa_list.json object loaded successfully\n",
       "</pre>\n"
      ],
      "text/plain": [
       "datasets/eligibility/qa_list.json object loaded successfully\n"
      ]
     },
     "metadata": {},
     "output_type": "display_data"
    },
    {
     "data": {
      "text/html": [
       "<pre style=\"white-space:pre;overflow-x:auto;line-height:normal;font-family:Menlo,'DejaVu Sans Mono',consolas,'Courier New',monospace\">datasets/eligibility/answers_cama_llama3-8b-<span style=\"color: #008080; text-decoration-color: #008080; font-weight: bold\">8192.j</span>son object loaded successfully\n",
       "</pre>\n"
      ],
      "text/plain": [
       "datasets/eligibility/answers_cama_llama3-8b-\u001b[1;36m8192.j\u001b[0mson object loaded successfully\n"
      ]
     },
     "metadata": {},
     "output_type": "display_data"
    },
    {
     "data": {
      "text/html": [
       "<pre style=\"white-space:pre;overflow-x:auto;line-height:normal;font-family:Menlo,'DejaVu Sans Mono',consolas,'Courier New',monospace\">datasets/eligibility/qa_list.json object loaded successfully\n",
       "</pre>\n"
      ],
      "text/plain": [
       "datasets/eligibility/qa_list.json object loaded successfully\n"
      ]
     },
     "metadata": {},
     "output_type": "display_data"
    },
    {
     "data": {
      "text/html": [
       "<pre style=\"white-space:pre;overflow-x:auto;line-height:normal;font-family:Menlo,'DejaVu Sans Mono',consolas,'Courier New',monospace\">datasets/eligibility/answers_full_prompt_llama3-8b-<span style=\"color: #008080; text-decoration-color: #008080; font-weight: bold\">8192.j</span>son object loaded successfully\n",
       "</pre>\n"
      ],
      "text/plain": [
       "datasets/eligibility/answers_full_prompt_llama3-8b-\u001b[1;36m8192.j\u001b[0mson object loaded successfully\n"
      ]
     },
     "metadata": {},
     "output_type": "display_data"
    },
    {
     "data": {
      "text/html": [
       "<pre style=\"white-space:pre;overflow-x:auto;line-height:normal;font-family:Menlo,'DejaVu Sans Mono',consolas,'Courier New',monospace\">datasets/eligibility/qa_list.json object loaded successfully\n",
       "</pre>\n"
      ],
      "text/plain": [
       "datasets/eligibility/qa_list.json object loaded successfully\n"
      ]
     },
     "metadata": {},
     "output_type": "display_data"
    },
    {
     "data": {
      "text/html": [
       "<pre style=\"white-space:pre;overflow-x:auto;line-height:normal;font-family:Menlo,'DejaVu Sans Mono',consolas,'Courier New',monospace\">datasets/eligibility/answers_full_prompt_cot_llama3-8b-<span style=\"color: #008080; text-decoration-color: #008080; font-weight: bold\">8192.j</span>son object loaded successfully\n",
       "</pre>\n"
      ],
      "text/plain": [
       "datasets/eligibility/answers_full_prompt_cot_llama3-8b-\u001b[1;36m8192.j\u001b[0mson object loaded successfully\n"
      ]
     },
     "metadata": {},
     "output_type": "display_data"
    },
    {
     "data": {
      "text/html": [
       "<pre style=\"white-space:pre;overflow-x:auto;line-height:normal;font-family:Menlo,'DejaVu Sans Mono',consolas,'Courier New',monospace\">datasets/eligibility/qa_list.json object loaded successfully\n",
       "</pre>\n"
      ],
      "text/plain": [
       "datasets/eligibility/qa_list.json object loaded successfully\n"
      ]
     },
     "metadata": {},
     "output_type": "display_data"
    },
    {
     "data": {
      "text/html": [
       "<pre style=\"white-space:pre;overflow-x:auto;line-height:normal;font-family:Menlo,'DejaVu Sans Mono',consolas,'Courier New',monospace\">datasets/eligibility/answers_reflection_llama3-8b-<span style=\"color: #008080; text-decoration-color: #008080; font-weight: bold\">8192.j</span>son object loaded successfully\n",
       "</pre>\n"
      ],
      "text/plain": [
       "datasets/eligibility/answers_reflection_llama3-8b-\u001b[1;36m8192.j\u001b[0mson object loaded successfully\n"
      ]
     },
     "metadata": {},
     "output_type": "display_data"
    },
    {
     "data": {
      "text/html": [
       "<pre style=\"white-space:pre;overflow-x:auto;line-height:normal;font-family:Menlo,'DejaVu Sans Mono',consolas,'Courier New',monospace\">datasets/eligibility/qa_list.json object loaded successfully\n",
       "</pre>\n"
      ],
      "text/plain": [
       "datasets/eligibility/qa_list.json object loaded successfully\n"
      ]
     },
     "metadata": {},
     "output_type": "display_data"
    },
    {
     "data": {
      "text/html": [
       "<pre style=\"white-space:pre;overflow-x:auto;line-height:normal;font-family:Menlo,'DejaVu Sans Mono',consolas,'Courier New',monospace\">datasets/eligibility/answers_react_llama3-8b-<span style=\"color: #008080; text-decoration-color: #008080; font-weight: bold\">8192.j</span>son object loaded successfully\n",
       "</pre>\n"
      ],
      "text/plain": [
       "datasets/eligibility/answers_react_llama3-8b-\u001b[1;36m8192.j\u001b[0mson object loaded successfully\n"
      ]
     },
     "metadata": {},
     "output_type": "display_data"
    },
    {
     "data": {
      "text/html": [
       "<pre style=\"white-space:pre;overflow-x:auto;line-height:normal;font-family:Menlo,'DejaVu Sans Mono',consolas,'Courier New',monospace\">datasets/eligibility/qa_list.json object loaded successfully\n",
       "</pre>\n"
      ],
      "text/plain": [
       "datasets/eligibility/qa_list.json object loaded successfully\n"
      ]
     },
     "metadata": {},
     "output_type": "display_data"
    },
    {
     "data": {
      "text/html": [
       "<pre style=\"white-space:pre;overflow-x:auto;line-height:normal;font-family:Menlo,'DejaVu Sans Mono',consolas,'Courier New',monospace\">datasets/eligibility/answers_self_discover_llama3-8b-<span style=\"color: #008080; text-decoration-color: #008080; font-weight: bold\">8192.j</span>son object loaded successfully\n",
       "</pre>\n"
      ],
      "text/plain": [
       "datasets/eligibility/answers_self_discover_llama3-8b-\u001b[1;36m8192.j\u001b[0mson object loaded successfully\n"
      ]
     },
     "metadata": {},
     "output_type": "display_data"
    },
    {
     "data": {
      "text/html": [
       "<pre style=\"white-space:pre;overflow-x:auto;line-height:normal;font-family:Menlo,'DejaVu Sans Mono',consolas,'Courier New',monospace\">datasets/eligibility/qa_list.json object loaded successfully\n",
       "</pre>\n"
      ],
      "text/plain": [
       "datasets/eligibility/qa_list.json object loaded successfully\n"
      ]
     },
     "metadata": {},
     "output_type": "display_data"
    },
    {
     "data": {
      "text/html": [
       "<pre style=\"white-space:pre;overflow-x:auto;line-height:normal;font-family:Menlo,'DejaVu Sans Mono',consolas,'Courier New',monospace\">datasets/eligibility/answers_plan_and_execute_llama3-8b-<span style=\"color: #008080; text-decoration-color: #008080; font-weight: bold\">8192.j</span>son object loaded successfully\n",
       "</pre>\n"
      ],
      "text/plain": [
       "datasets/eligibility/answers_plan_and_execute_llama3-8b-\u001b[1;36m8192.j\u001b[0mson object loaded successfully\n"
      ]
     },
     "metadata": {},
     "output_type": "display_data"
    },
    {
     "data": {
      "text/html": [
       "<pre style=\"white-space:pre;overflow-x:auto;line-height:normal;font-family:Menlo,'DejaVu Sans Mono',consolas,'Courier New',monospace\">datasets/eligibility/qa_list.json object loaded successfully\n",
       "</pre>\n"
      ],
      "text/plain": [
       "datasets/eligibility/qa_list.json object loaded successfully\n"
      ]
     },
     "metadata": {},
     "output_type": "display_data"
    },
    {
     "data": {
      "text/html": [
       "<pre style=\"white-space:pre;overflow-x:auto;line-height:normal;font-family:Menlo,'DejaVu Sans Mono',consolas,'Courier New',monospace\">datasets/eligibility/answers_cama_llama3-70b-<span style=\"color: #008080; text-decoration-color: #008080; font-weight: bold\">8192.j</span>son object loaded successfully\n",
       "</pre>\n"
      ],
      "text/plain": [
       "datasets/eligibility/answers_cama_llama3-70b-\u001b[1;36m8192.j\u001b[0mson object loaded successfully\n"
      ]
     },
     "metadata": {},
     "output_type": "display_data"
    },
    {
     "data": {
      "text/html": [
       "<pre style=\"white-space:pre;overflow-x:auto;line-height:normal;font-family:Menlo,'DejaVu Sans Mono',consolas,'Courier New',monospace\">datasets/eligibility/qa_list.json object loaded successfully\n",
       "</pre>\n"
      ],
      "text/plain": [
       "datasets/eligibility/qa_list.json object loaded successfully\n"
      ]
     },
     "metadata": {},
     "output_type": "display_data"
    },
    {
     "data": {
      "text/html": [
       "<pre style=\"white-space:pre;overflow-x:auto;line-height:normal;font-family:Menlo,'DejaVu Sans Mono',consolas,'Courier New',monospace\">datasets/eligibility/answers_full_prompt_llama3-70b-<span style=\"color: #008080; text-decoration-color: #008080; font-weight: bold\">8192.j</span>son object loaded successfully\n",
       "</pre>\n"
      ],
      "text/plain": [
       "datasets/eligibility/answers_full_prompt_llama3-70b-\u001b[1;36m8192.j\u001b[0mson object loaded successfully\n"
      ]
     },
     "metadata": {},
     "output_type": "display_data"
    },
    {
     "data": {
      "text/html": [
       "<pre style=\"white-space:pre;overflow-x:auto;line-height:normal;font-family:Menlo,'DejaVu Sans Mono',consolas,'Courier New',monospace\">datasets/eligibility/qa_list.json object loaded successfully\n",
       "</pre>\n"
      ],
      "text/plain": [
       "datasets/eligibility/qa_list.json object loaded successfully\n"
      ]
     },
     "metadata": {},
     "output_type": "display_data"
    },
    {
     "data": {
      "text/html": [
       "<pre style=\"white-space:pre;overflow-x:auto;line-height:normal;font-family:Menlo,'DejaVu Sans Mono',consolas,'Courier New',monospace\">datasets/eligibility/answers_full_prompt_cot_llama3-70b-<span style=\"color: #008080; text-decoration-color: #008080; font-weight: bold\">8192.j</span>son object loaded successfully\n",
       "</pre>\n"
      ],
      "text/plain": [
       "datasets/eligibility/answers_full_prompt_cot_llama3-70b-\u001b[1;36m8192.j\u001b[0mson object loaded successfully\n"
      ]
     },
     "metadata": {},
     "output_type": "display_data"
    },
    {
     "data": {
      "text/html": [
       "<pre style=\"white-space:pre;overflow-x:auto;line-height:normal;font-family:Menlo,'DejaVu Sans Mono',consolas,'Courier New',monospace\">datasets/eligibility/qa_list.json object loaded successfully\n",
       "</pre>\n"
      ],
      "text/plain": [
       "datasets/eligibility/qa_list.json object loaded successfully\n"
      ]
     },
     "metadata": {},
     "output_type": "display_data"
    },
    {
     "data": {
      "text/html": [
       "<pre style=\"white-space:pre;overflow-x:auto;line-height:normal;font-family:Menlo,'DejaVu Sans Mono',consolas,'Courier New',monospace\">datasets/eligibility/answers_reflection_llama3-70b-<span style=\"color: #008080; text-decoration-color: #008080; font-weight: bold\">8192.j</span>son object loaded successfully\n",
       "</pre>\n"
      ],
      "text/plain": [
       "datasets/eligibility/answers_reflection_llama3-70b-\u001b[1;36m8192.j\u001b[0mson object loaded successfully\n"
      ]
     },
     "metadata": {},
     "output_type": "display_data"
    },
    {
     "data": {
      "text/html": [
       "<pre style=\"white-space:pre;overflow-x:auto;line-height:normal;font-family:Menlo,'DejaVu Sans Mono',consolas,'Courier New',monospace\">datasets/eligibility/qa_list.json object loaded successfully\n",
       "</pre>\n"
      ],
      "text/plain": [
       "datasets/eligibility/qa_list.json object loaded successfully\n"
      ]
     },
     "metadata": {},
     "output_type": "display_data"
    },
    {
     "data": {
      "text/html": [
       "<pre style=\"white-space:pre;overflow-x:auto;line-height:normal;font-family:Menlo,'DejaVu Sans Mono',consolas,'Courier New',monospace\">datasets/eligibility/answers_react_llama3-70b-<span style=\"color: #008080; text-decoration-color: #008080; font-weight: bold\">8192.j</span>son object loaded successfully\n",
       "</pre>\n"
      ],
      "text/plain": [
       "datasets/eligibility/answers_react_llama3-70b-\u001b[1;36m8192.j\u001b[0mson object loaded successfully\n"
      ]
     },
     "metadata": {},
     "output_type": "display_data"
    },
    {
     "data": {
      "text/html": [
       "<pre style=\"white-space:pre;overflow-x:auto;line-height:normal;font-family:Menlo,'DejaVu Sans Mono',consolas,'Courier New',monospace\">datasets/eligibility/qa_list.json object loaded successfully\n",
       "</pre>\n"
      ],
      "text/plain": [
       "datasets/eligibility/qa_list.json object loaded successfully\n"
      ]
     },
     "metadata": {},
     "output_type": "display_data"
    },
    {
     "data": {
      "text/html": [
       "<pre style=\"white-space:pre;overflow-x:auto;line-height:normal;font-family:Menlo,'DejaVu Sans Mono',consolas,'Courier New',monospace\">datasets/eligibility/answers_self_discover_llama3-70b-<span style=\"color: #008080; text-decoration-color: #008080; font-weight: bold\">8192.j</span>son object loaded successfully\n",
       "</pre>\n"
      ],
      "text/plain": [
       "datasets/eligibility/answers_self_discover_llama3-70b-\u001b[1;36m8192.j\u001b[0mson object loaded successfully\n"
      ]
     },
     "metadata": {},
     "output_type": "display_data"
    },
    {
     "data": {
      "text/html": [
       "<pre style=\"white-space:pre;overflow-x:auto;line-height:normal;font-family:Menlo,'DejaVu Sans Mono',consolas,'Courier New',monospace\">datasets/eligibility/qa_list.json object loaded successfully\n",
       "</pre>\n"
      ],
      "text/plain": [
       "datasets/eligibility/qa_list.json object loaded successfully\n"
      ]
     },
     "metadata": {},
     "output_type": "display_data"
    },
    {
     "data": {
      "text/html": [
       "<pre style=\"white-space:pre;overflow-x:auto;line-height:normal;font-family:Menlo,'DejaVu Sans Mono',consolas,'Courier New',monospace\">datasets/eligibility/answers_plan_and_execute_llama3-70b-<span style=\"color: #008080; text-decoration-color: #008080; font-weight: bold\">8192.j</span>son object loaded successfully\n",
       "</pre>\n"
      ],
      "text/plain": [
       "datasets/eligibility/answers_plan_and_execute_llama3-70b-\u001b[1;36m8192.j\u001b[0mson object loaded successfully\n"
      ]
     },
     "metadata": {},
     "output_type": "display_data"
    },
    {
     "data": {
      "text/html": [
       "<pre style=\"white-space:pre;overflow-x:auto;line-height:normal;font-family:Menlo,'DejaVu Sans Mono',consolas,'Courier New',monospace\">datasets/eligibility/qa_list.json object loaded successfully\n",
       "</pre>\n"
      ],
      "text/plain": [
       "datasets/eligibility/qa_list.json object loaded successfully\n"
      ]
     },
     "metadata": {},
     "output_type": "display_data"
    },
    {
     "data": {
      "text/html": [
       "<pre style=\"white-space:pre;overflow-x:auto;line-height:normal;font-family:Menlo,'DejaVu Sans Mono',consolas,'Courier New',monospace\">datasets/eligibility/answers_cama_gpt-4o-mini.json object loaded successfully\n",
       "</pre>\n"
      ],
      "text/plain": [
       "datasets/eligibility/answers_cama_gpt-4o-mini.json object loaded successfully\n"
      ]
     },
     "metadata": {},
     "output_type": "display_data"
    },
    {
     "data": {
      "text/html": [
       "<pre style=\"white-space:pre;overflow-x:auto;line-height:normal;font-family:Menlo,'DejaVu Sans Mono',consolas,'Courier New',monospace\">datasets/eligibility/qa_list.json object loaded successfully\n",
       "</pre>\n"
      ],
      "text/plain": [
       "datasets/eligibility/qa_list.json object loaded successfully\n"
      ]
     },
     "metadata": {},
     "output_type": "display_data"
    },
    {
     "data": {
      "text/html": [
       "<pre style=\"white-space:pre;overflow-x:auto;line-height:normal;font-family:Menlo,'DejaVu Sans Mono',consolas,'Courier New',monospace\">datasets/eligibility/answers_full_prompt_gpt-4o-mini.json object loaded successfully\n",
       "</pre>\n"
      ],
      "text/plain": [
       "datasets/eligibility/answers_full_prompt_gpt-4o-mini.json object loaded successfully\n"
      ]
     },
     "metadata": {},
     "output_type": "display_data"
    },
    {
     "data": {
      "text/html": [
       "<pre style=\"white-space:pre;overflow-x:auto;line-height:normal;font-family:Menlo,'DejaVu Sans Mono',consolas,'Courier New',monospace\">datasets/eligibility/qa_list.json object loaded successfully\n",
       "</pre>\n"
      ],
      "text/plain": [
       "datasets/eligibility/qa_list.json object loaded successfully\n"
      ]
     },
     "metadata": {},
     "output_type": "display_data"
    },
    {
     "data": {
      "text/html": [
       "<pre style=\"white-space:pre;overflow-x:auto;line-height:normal;font-family:Menlo,'DejaVu Sans Mono',consolas,'Courier New',monospace\">datasets/eligibility/answers_full_prompt_cot_gpt-4o-mini.json object loaded successfully\n",
       "</pre>\n"
      ],
      "text/plain": [
       "datasets/eligibility/answers_full_prompt_cot_gpt-4o-mini.json object loaded successfully\n"
      ]
     },
     "metadata": {},
     "output_type": "display_data"
    },
    {
     "data": {
      "text/html": [
       "<pre style=\"white-space:pre;overflow-x:auto;line-height:normal;font-family:Menlo,'DejaVu Sans Mono',consolas,'Courier New',monospace\">datasets/eligibility/qa_list.json object loaded successfully\n",
       "</pre>\n"
      ],
      "text/plain": [
       "datasets/eligibility/qa_list.json object loaded successfully\n"
      ]
     },
     "metadata": {},
     "output_type": "display_data"
    },
    {
     "data": {
      "text/html": [
       "<pre style=\"white-space:pre;overflow-x:auto;line-height:normal;font-family:Menlo,'DejaVu Sans Mono',consolas,'Courier New',monospace\">datasets/eligibility/answers_reflection_gpt-4o-mini.json object loaded successfully\n",
       "</pre>\n"
      ],
      "text/plain": [
       "datasets/eligibility/answers_reflection_gpt-4o-mini.json object loaded successfully\n"
      ]
     },
     "metadata": {},
     "output_type": "display_data"
    },
    {
     "data": {
      "text/html": [
       "<pre style=\"white-space:pre;overflow-x:auto;line-height:normal;font-family:Menlo,'DejaVu Sans Mono',consolas,'Courier New',monospace\">datasets/eligibility/qa_list.json object loaded successfully\n",
       "</pre>\n"
      ],
      "text/plain": [
       "datasets/eligibility/qa_list.json object loaded successfully\n"
      ]
     },
     "metadata": {},
     "output_type": "display_data"
    },
    {
     "data": {
      "text/html": [
       "<pre style=\"white-space:pre;overflow-x:auto;line-height:normal;font-family:Menlo,'DejaVu Sans Mono',consolas,'Courier New',monospace\">datasets/eligibility/answers_react_gpt-4o-mini.json object loaded successfully\n",
       "</pre>\n"
      ],
      "text/plain": [
       "datasets/eligibility/answers_react_gpt-4o-mini.json object loaded successfully\n"
      ]
     },
     "metadata": {},
     "output_type": "display_data"
    },
    {
     "data": {
      "text/html": [
       "<pre style=\"white-space:pre;overflow-x:auto;line-height:normal;font-family:Menlo,'DejaVu Sans Mono',consolas,'Courier New',monospace\">datasets/eligibility/qa_list.json object loaded successfully\n",
       "</pre>\n"
      ],
      "text/plain": [
       "datasets/eligibility/qa_list.json object loaded successfully\n"
      ]
     },
     "metadata": {},
     "output_type": "display_data"
    },
    {
     "data": {
      "text/html": [
       "<pre style=\"white-space:pre;overflow-x:auto;line-height:normal;font-family:Menlo,'DejaVu Sans Mono',consolas,'Courier New',monospace\">datasets/eligibility/answers_self_discover_gpt-4o-mini.json object loaded successfully\n",
       "</pre>\n"
      ],
      "text/plain": [
       "datasets/eligibility/answers_self_discover_gpt-4o-mini.json object loaded successfully\n"
      ]
     },
     "metadata": {},
     "output_type": "display_data"
    },
    {
     "data": {
      "text/html": [
       "<pre style=\"white-space:pre;overflow-x:auto;line-height:normal;font-family:Menlo,'DejaVu Sans Mono',consolas,'Courier New',monospace\">datasets/eligibility/qa_list.json object loaded successfully\n",
       "</pre>\n"
      ],
      "text/plain": [
       "datasets/eligibility/qa_list.json object loaded successfully\n"
      ]
     },
     "metadata": {},
     "output_type": "display_data"
    },
    {
     "data": {
      "text/html": [
       "<pre style=\"white-space:pre;overflow-x:auto;line-height:normal;font-family:Menlo,'DejaVu Sans Mono',consolas,'Courier New',monospace\">datasets/eligibility/answers_plan_and_execute_gpt-4o-mini.json object loaded successfully\n",
       "</pre>\n"
      ],
      "text/plain": [
       "datasets/eligibility/answers_plan_and_execute_gpt-4o-mini.json object loaded successfully\n"
      ]
     },
     "metadata": {},
     "output_type": "display_data"
    },
    {
     "name": "stdout",
     "output_type": "stream",
     "text": [
      "\n",
      "LaTeX Table for Eligibility Dataset:\n",
      "\\begin{table*}[htbp]\n",
      "\\centering\n",
      "\\caption{Performance Comparison Across Different LLMs and Methods for Eligibility Dataset}\n",
      "\\textbf{Note:} The eligibility dataset represents a medium difficulty level.\n",
      "\\label{tab:llm-comparison}\n",
      "\\resizebox{\\textwidth}{!}{%\n",
      "\\begin{tabular}{llccccccc}\n",
      "\\toprule\n",
      "\\textbf{Model} & \\textbf{Metric} & \\textbf{Cama} & \\textbf{Standard} & \\textbf{CoT} & \\textbf{Reflection} & \\textbf{React} & \\textbf{S.Discover} & \\textbf{P.Execute} \\\\\n",
      "\\midrule\n",
      "\\multirow{4}{*}{\\textbf{llama-3.2-1b}} & \\textbf{Accuracy (↑)} & \\textbf{46.2} & 0.0 & 7.7 & 15.4 & 0.0 & 15.4 & 15.4 \\\\\n",
      " & \\textbf{Unknown (↓)} & \\textbf{38.5} & 100.0 & 92.3 & 84.6 & 100.0 & 84.6 & 84.6 \\\\\n",
      " & \\textbf{Tokens (↓)} & 14.8 & 5.0 & \\textbf{2.2} & 15.2 & 33.2 & 15.9 & 19.7 \\\\\n",
      " & \\textbf{Time (↓)} & 5.0 & \\textbf{0.6} & 1.3 & 2.7 & 80.7 & 88.2 & 45.6 \\\\\n",
      "\\midrule\n",
      "\\multirow{4}{*}{\\textbf{llama3-8b}} & \\textbf{Accuracy (↑)} & \\textbf{94.9} & 15.4 & 0.0 & 7.7 & 5.1 & 2.6 & 51.3 \\\\\n",
      " & \\textbf{Unknown (↓)} & \\textbf{0.0} & 84.6 & 100.0 & 92.3 & 94.9 & 97.4 & 41.0 \\\\\n",
      " & \\textbf{Tokens (↓)} & 11.6 & 5.3 & 5.2 & \\textbf{3.4} & 4.5 & 13.9 & 27.7 \\\\\n",
      " & \\textbf{Time (↓)} & 4.8 & 0.9 & \\textbf{0.8} & 3.6 & 2.3 & 18.9 & 55.6 \\\\\n",
      "\\midrule\n",
      "\\multirow{4}{*}{\\textbf{llama3-70b}} & \\textbf{Accuracy (↑)} & \\textbf{92.3} & 84.6 & 76.9 & 76.9 & 12.8 & 25.6 & 56.4 \\\\\n",
      " & \\textbf{Unknown (↓)} & \\textbf{0.0} & \\textbf{0.0} & 10.3 & 7.7 & 87.2 & 64.1 & 35.9 \\\\\n",
      " & \\textbf{Tokens (↓)} & 14.8 & \\textbf{2.2} & \\textbf{2.2} & 8.9 & 4.1 & 12.8 & 8.8 \\\\\n",
      " & \\textbf{Time (↓)} & 95.5 & \\textbf{16.9} & 26.5 & 100.5 & 20.6 & 130.1 & 93.6 \\\\\n",
      "\\midrule\n",
      "\\multirow{4}{*}{\\textbf{gpt-4o-mini}} & \\textbf{Accuracy (↑)} & \\textbf{94.9} & 79.5 & 84.6 & 7.7 & 12.8 & 79.5 & 76.9 \\\\\n",
      " & \\textbf{Unknown (↓)} & \\textbf{0.0} & 17.9 & 12.8 & 92.3 & 82.1 & 20.5 & 20.5 \\\\\n",
      " & \\textbf{Tokens (↓)} & 12.1 & 3.1 & \\textbf{2.2} & 9.0 & 4.5 & 19.0 & 474.8 \\\\\n",
      " & \\textbf{Time (↓)} & 24.0 & \\textbf{12.2} & 18.1 & 52.6 & 21.5 & 174.6 & 324.3 \\\\\n",
      "\\bottomrule\n",
      "\\end{tabular}\n",
      "}\n",
      "\\end{table*}\n",
      "\n",
      "Readable Version for Eligibility Dataset:\n",
      "\n",
      "llama-3.2-1b:\n",
      "+------------------+---------------+---------------+--------------+--------------+\n",
      "|                  | Accuracy (↑)  |  Unknown (↓)  |  Tokens (↓)  |   Time (↓)   |\n",
      "+------------------+---------------+---------------+--------------+--------------+\n",
      "|       Cama       | \\textbf{46.2} | \\textbf{38.5} |     14.8     |     5.0      |\n",
      "|     Standard     |      0.0      |     100.0     |     5.0      | \\textbf{0.6} |\n",
      "|       CoT        |      7.7      |     92.3      | \\textbf{2.2} |     1.3      |\n",
      "|    Reflection    |     15.4      |     84.6      |     15.2     |     2.7      |\n",
      "|      React       |      0.0      |     100.0     |     33.2     |     80.7     |\n",
      "|  Self Discover   |     15.4      |     84.6      |     15.9     |     88.2     |\n",
      "| Plan and Execute |     15.4      |     84.6      |     19.7     |     45.6     |\n",
      "+------------------+---------------+---------------+--------------+--------------+\n",
      "\n",
      "llama3-8b:\n",
      "+------------------+---------------+--------------+--------------+--------------+\n",
      "|                  | Accuracy (↑)  | Unknown (↓)  |  Tokens (↓)  |   Time (↓)   |\n",
      "+------------------+---------------+--------------+--------------+--------------+\n",
      "|       Cama       | \\textbf{94.9} | \\textbf{0.0} |     11.6     |     4.8      |\n",
      "|     Standard     |     15.4      |     84.6     |     5.3      |     0.9      |\n",
      "|       CoT        |      0.0      |    100.0     |     5.2      | \\textbf{0.8} |\n",
      "|    Reflection    |      7.7      |     92.3     | \\textbf{3.4} |     3.6      |\n",
      "|      React       |      5.1      |     94.9     |     4.5      |     2.3      |\n",
      "|  Self Discover   |      2.6      |     97.4     |     13.9     |     18.9     |\n",
      "| Plan and Execute |     51.3      |     41.0     |     27.7     |     55.6     |\n",
      "+------------------+---------------+--------------+--------------+--------------+\n",
      "\n",
      "llama3-70b:\n",
      "+------------------+---------------+--------------+--------------+---------------+\n",
      "|                  | Accuracy (↑)  | Unknown (↓)  |  Tokens (↓)  |   Time (↓)    |\n",
      "+------------------+---------------+--------------+--------------+---------------+\n",
      "|       Cama       | \\textbf{92.3} | \\textbf{0.0} |     14.8     |     95.5      |\n",
      "|     Standard     |     84.6      | \\textbf{0.0} | \\textbf{2.2} | \\textbf{16.9} |\n",
      "|       CoT        |     76.9      |     10.3     | \\textbf{2.2} |     26.5      |\n",
      "|    Reflection    |     76.9      |     7.7      |     8.9      |     100.5     |\n",
      "|      React       |     12.8      |     87.2     |     4.1      |     20.6      |\n",
      "|  Self Discover   |     25.6      |     64.1     |     12.8     |     130.1     |\n",
      "| Plan and Execute |     56.4      |     35.9     |     8.8      |     93.6      |\n",
      "+------------------+---------------+--------------+--------------+---------------+\n",
      "\n",
      "gpt-4o-mini:\n",
      "+------------------+---------------+--------------+--------------+---------------+\n",
      "|                  | Accuracy (↑)  | Unknown (↓)  |  Tokens (↓)  |   Time (↓)    |\n",
      "+------------------+---------------+--------------+--------------+---------------+\n",
      "|       Cama       | \\textbf{94.9} | \\textbf{0.0} |     12.1     |     24.0      |\n",
      "|     Standard     |     79.5      |     17.9     |     3.1      | \\textbf{12.2} |\n",
      "|       CoT        |     84.6      |     12.8     | \\textbf{2.2} |     18.1      |\n",
      "|    Reflection    |      7.7      |     92.3     |     9.0      |     52.6      |\n",
      "|      React       |     12.8      |     82.1     |     4.5      |     21.5      |\n",
      "|  Self Discover   |     79.5      |     20.5     |     19.0     |     174.6     |\n",
      "| Plan and Execute |     76.9      |     20.5     |    474.8     |     324.3     |\n",
      "+------------------+---------------+--------------+--------------+---------------+\n"
     ]
    },
    {
     "data": {
      "text/html": [
       "<pre style=\"white-space:pre;overflow-x:auto;line-height:normal;font-family:Menlo,'DejaVu Sans Mono',consolas,'Courier New',monospace\">datasets/healthcare/qa_list.json object loaded successfully\n",
       "</pre>\n"
      ],
      "text/plain": [
       "datasets/healthcare/qa_list.json object loaded successfully\n"
      ]
     },
     "metadata": {},
     "output_type": "display_data"
    },
    {
     "data": {
      "text/html": [
       "<pre style=\"white-space:pre;overflow-x:auto;line-height:normal;font-family:Menlo,'DejaVu Sans Mono',consolas,'Courier New',monospace\">datasets/healthcare/answers_cama_llama-<span style=\"color: #008080; text-decoration-color: #008080; font-weight: bold\">3.2</span>-1b-preview.json object loaded successfully\n",
       "</pre>\n"
      ],
      "text/plain": [
       "datasets/healthcare/answers_cama_llama-\u001b[1;36m3.2\u001b[0m-1b-preview.json object loaded successfully\n"
      ]
     },
     "metadata": {},
     "output_type": "display_data"
    },
    {
     "data": {
      "text/html": [
       "<pre style=\"white-space:pre;overflow-x:auto;line-height:normal;font-family:Menlo,'DejaVu Sans Mono',consolas,'Courier New',monospace\">datasets/healthcare/qa_list.json object loaded successfully\n",
       "</pre>\n"
      ],
      "text/plain": [
       "datasets/healthcare/qa_list.json object loaded successfully\n"
      ]
     },
     "metadata": {},
     "output_type": "display_data"
    },
    {
     "data": {
      "text/html": [
       "<pre style=\"white-space:pre;overflow-x:auto;line-height:normal;font-family:Menlo,'DejaVu Sans Mono',consolas,'Courier New',monospace\">datasets/healthcare/answers_full_prompt_llama-<span style=\"color: #008080; text-decoration-color: #008080; font-weight: bold\">3.2</span>-1b-preview.json object loaded successfully\n",
       "</pre>\n"
      ],
      "text/plain": [
       "datasets/healthcare/answers_full_prompt_llama-\u001b[1;36m3.2\u001b[0m-1b-preview.json object loaded successfully\n"
      ]
     },
     "metadata": {},
     "output_type": "display_data"
    },
    {
     "data": {
      "text/html": [
       "<pre style=\"white-space:pre;overflow-x:auto;line-height:normal;font-family:Menlo,'DejaVu Sans Mono',consolas,'Courier New',monospace\">datasets/healthcare/qa_list.json object loaded successfully\n",
       "</pre>\n"
      ],
      "text/plain": [
       "datasets/healthcare/qa_list.json object loaded successfully\n"
      ]
     },
     "metadata": {},
     "output_type": "display_data"
    },
    {
     "data": {
      "text/html": [
       "<pre style=\"white-space:pre;overflow-x:auto;line-height:normal;font-family:Menlo,'DejaVu Sans Mono',consolas,'Courier New',monospace\">datasets/healthcare/answers_full_prompt_cot_llama-<span style=\"color: #008080; text-decoration-color: #008080; font-weight: bold\">3.2</span>-1b-preview.json object loaded successfully\n",
       "</pre>\n"
      ],
      "text/plain": [
       "datasets/healthcare/answers_full_prompt_cot_llama-\u001b[1;36m3.2\u001b[0m-1b-preview.json object loaded successfully\n"
      ]
     },
     "metadata": {},
     "output_type": "display_data"
    },
    {
     "data": {
      "text/html": [
       "<pre style=\"white-space:pre;overflow-x:auto;line-height:normal;font-family:Menlo,'DejaVu Sans Mono',consolas,'Courier New',monospace\">datasets/healthcare/qa_list.json object loaded successfully\n",
       "</pre>\n"
      ],
      "text/plain": [
       "datasets/healthcare/qa_list.json object loaded successfully\n"
      ]
     },
     "metadata": {},
     "output_type": "display_data"
    },
    {
     "data": {
      "text/html": [
       "<pre style=\"white-space:pre;overflow-x:auto;line-height:normal;font-family:Menlo,'DejaVu Sans Mono',consolas,'Courier New',monospace\">datasets/healthcare/answers_reflection_llama-<span style=\"color: #008080; text-decoration-color: #008080; font-weight: bold\">3.2</span>-1b-preview.json object loaded successfully\n",
       "</pre>\n"
      ],
      "text/plain": [
       "datasets/healthcare/answers_reflection_llama-\u001b[1;36m3.2\u001b[0m-1b-preview.json object loaded successfully\n"
      ]
     },
     "metadata": {},
     "output_type": "display_data"
    },
    {
     "data": {
      "text/html": [
       "<pre style=\"white-space:pre;overflow-x:auto;line-height:normal;font-family:Menlo,'DejaVu Sans Mono',consolas,'Courier New',monospace\">datasets/healthcare/qa_list.json object loaded successfully\n",
       "</pre>\n"
      ],
      "text/plain": [
       "datasets/healthcare/qa_list.json object loaded successfully\n"
      ]
     },
     "metadata": {},
     "output_type": "display_data"
    },
    {
     "data": {
      "text/html": [
       "<pre style=\"white-space:pre;overflow-x:auto;line-height:normal;font-family:Menlo,'DejaVu Sans Mono',consolas,'Courier New',monospace\">datasets/healthcare/answers_react_llama-<span style=\"color: #008080; text-decoration-color: #008080; font-weight: bold\">3.2</span>-1b-preview.json object loaded successfully\n",
       "</pre>\n"
      ],
      "text/plain": [
       "datasets/healthcare/answers_react_llama-\u001b[1;36m3.2\u001b[0m-1b-preview.json object loaded successfully\n"
      ]
     },
     "metadata": {},
     "output_type": "display_data"
    },
    {
     "data": {
      "text/html": [
       "<pre style=\"white-space:pre;overflow-x:auto;line-height:normal;font-family:Menlo,'DejaVu Sans Mono',consolas,'Courier New',monospace\">datasets/healthcare/qa_list.json object loaded successfully\n",
       "</pre>\n"
      ],
      "text/plain": [
       "datasets/healthcare/qa_list.json object loaded successfully\n"
      ]
     },
     "metadata": {},
     "output_type": "display_data"
    },
    {
     "data": {
      "text/html": [
       "<pre style=\"white-space:pre;overflow-x:auto;line-height:normal;font-family:Menlo,'DejaVu Sans Mono',consolas,'Courier New',monospace\">datasets/healthcare/answers_self_discover_llama-<span style=\"color: #008080; text-decoration-color: #008080; font-weight: bold\">3.2</span>-1b-preview.json object loaded successfully\n",
       "</pre>\n"
      ],
      "text/plain": [
       "datasets/healthcare/answers_self_discover_llama-\u001b[1;36m3.2\u001b[0m-1b-preview.json object loaded successfully\n"
      ]
     },
     "metadata": {},
     "output_type": "display_data"
    },
    {
     "data": {
      "text/html": [
       "<pre style=\"white-space:pre;overflow-x:auto;line-height:normal;font-family:Menlo,'DejaVu Sans Mono',consolas,'Courier New',monospace\">datasets/healthcare/qa_list.json object loaded successfully\n",
       "</pre>\n"
      ],
      "text/plain": [
       "datasets/healthcare/qa_list.json object loaded successfully\n"
      ]
     },
     "metadata": {},
     "output_type": "display_data"
    },
    {
     "data": {
      "text/html": [
       "<pre style=\"white-space:pre;overflow-x:auto;line-height:normal;font-family:Menlo,'DejaVu Sans Mono',consolas,'Courier New',monospace\">datasets/healthcare/answers_plan_and_execute_llama-<span style=\"color: #008080; text-decoration-color: #008080; font-weight: bold\">3.2</span>-1b-preview.json object loaded successfully\n",
       "</pre>\n"
      ],
      "text/plain": [
       "datasets/healthcare/answers_plan_and_execute_llama-\u001b[1;36m3.2\u001b[0m-1b-preview.json object loaded successfully\n"
      ]
     },
     "metadata": {},
     "output_type": "display_data"
    },
    {
     "data": {
      "text/html": [
       "<pre style=\"white-space:pre;overflow-x:auto;line-height:normal;font-family:Menlo,'DejaVu Sans Mono',consolas,'Courier New',monospace\">datasets/healthcare/qa_list.json object loaded successfully\n",
       "</pre>\n"
      ],
      "text/plain": [
       "datasets/healthcare/qa_list.json object loaded successfully\n"
      ]
     },
     "metadata": {},
     "output_type": "display_data"
    },
    {
     "data": {
      "text/html": [
       "<pre style=\"white-space:pre;overflow-x:auto;line-height:normal;font-family:Menlo,'DejaVu Sans Mono',consolas,'Courier New',monospace\">datasets/healthcare/answers_cama_llama3-8b-<span style=\"color: #008080; text-decoration-color: #008080; font-weight: bold\">8192.j</span>son object loaded successfully\n",
       "</pre>\n"
      ],
      "text/plain": [
       "datasets/healthcare/answers_cama_llama3-8b-\u001b[1;36m8192.j\u001b[0mson object loaded successfully\n"
      ]
     },
     "metadata": {},
     "output_type": "display_data"
    },
    {
     "data": {
      "text/html": [
       "<pre style=\"white-space:pre;overflow-x:auto;line-height:normal;font-family:Menlo,'DejaVu Sans Mono',consolas,'Courier New',monospace\">datasets/healthcare/qa_list.json object loaded successfully\n",
       "</pre>\n"
      ],
      "text/plain": [
       "datasets/healthcare/qa_list.json object loaded successfully\n"
      ]
     },
     "metadata": {},
     "output_type": "display_data"
    },
    {
     "data": {
      "text/html": [
       "<pre style=\"white-space:pre;overflow-x:auto;line-height:normal;font-family:Menlo,'DejaVu Sans Mono',consolas,'Courier New',monospace\">datasets/healthcare/answers_full_prompt_llama3-8b-<span style=\"color: #008080; text-decoration-color: #008080; font-weight: bold\">8192.j</span>son object loaded successfully\n",
       "</pre>\n"
      ],
      "text/plain": [
       "datasets/healthcare/answers_full_prompt_llama3-8b-\u001b[1;36m8192.j\u001b[0mson object loaded successfully\n"
      ]
     },
     "metadata": {},
     "output_type": "display_data"
    },
    {
     "data": {
      "text/html": [
       "<pre style=\"white-space:pre;overflow-x:auto;line-height:normal;font-family:Menlo,'DejaVu Sans Mono',consolas,'Courier New',monospace\">datasets/healthcare/qa_list.json object loaded successfully\n",
       "</pre>\n"
      ],
      "text/plain": [
       "datasets/healthcare/qa_list.json object loaded successfully\n"
      ]
     },
     "metadata": {},
     "output_type": "display_data"
    },
    {
     "data": {
      "text/html": [
       "<pre style=\"white-space:pre;overflow-x:auto;line-height:normal;font-family:Menlo,'DejaVu Sans Mono',consolas,'Courier New',monospace\">datasets/healthcare/answers_full_prompt_cot_llama3-8b-<span style=\"color: #008080; text-decoration-color: #008080; font-weight: bold\">8192.j</span>son object loaded successfully\n",
       "</pre>\n"
      ],
      "text/plain": [
       "datasets/healthcare/answers_full_prompt_cot_llama3-8b-\u001b[1;36m8192.j\u001b[0mson object loaded successfully\n"
      ]
     },
     "metadata": {},
     "output_type": "display_data"
    },
    {
     "data": {
      "text/html": [
       "<pre style=\"white-space:pre;overflow-x:auto;line-height:normal;font-family:Menlo,'DejaVu Sans Mono',consolas,'Courier New',monospace\">datasets/healthcare/qa_list.json object loaded successfully\n",
       "</pre>\n"
      ],
      "text/plain": [
       "datasets/healthcare/qa_list.json object loaded successfully\n"
      ]
     },
     "metadata": {},
     "output_type": "display_data"
    },
    {
     "data": {
      "text/html": [
       "<pre style=\"white-space:pre;overflow-x:auto;line-height:normal;font-family:Menlo,'DejaVu Sans Mono',consolas,'Courier New',monospace\">datasets/healthcare/answers_reflection_llama3-8b-<span style=\"color: #008080; text-decoration-color: #008080; font-weight: bold\">8192.j</span>son object loaded successfully\n",
       "</pre>\n"
      ],
      "text/plain": [
       "datasets/healthcare/answers_reflection_llama3-8b-\u001b[1;36m8192.j\u001b[0mson object loaded successfully\n"
      ]
     },
     "metadata": {},
     "output_type": "display_data"
    },
    {
     "data": {
      "text/html": [
       "<pre style=\"white-space:pre;overflow-x:auto;line-height:normal;font-family:Menlo,'DejaVu Sans Mono',consolas,'Courier New',monospace\">datasets/healthcare/qa_list.json object loaded successfully\n",
       "</pre>\n"
      ],
      "text/plain": [
       "datasets/healthcare/qa_list.json object loaded successfully\n"
      ]
     },
     "metadata": {},
     "output_type": "display_data"
    },
    {
     "data": {
      "text/html": [
       "<pre style=\"white-space:pre;overflow-x:auto;line-height:normal;font-family:Menlo,'DejaVu Sans Mono',consolas,'Courier New',monospace\">datasets/healthcare/answers_react_llama3-8b-<span style=\"color: #008080; text-decoration-color: #008080; font-weight: bold\">8192.j</span>son object loaded successfully\n",
       "</pre>\n"
      ],
      "text/plain": [
       "datasets/healthcare/answers_react_llama3-8b-\u001b[1;36m8192.j\u001b[0mson object loaded successfully\n"
      ]
     },
     "metadata": {},
     "output_type": "display_data"
    },
    {
     "data": {
      "text/html": [
       "<pre style=\"white-space:pre;overflow-x:auto;line-height:normal;font-family:Menlo,'DejaVu Sans Mono',consolas,'Courier New',monospace\">datasets/healthcare/qa_list.json object loaded successfully\n",
       "</pre>\n"
      ],
      "text/plain": [
       "datasets/healthcare/qa_list.json object loaded successfully\n"
      ]
     },
     "metadata": {},
     "output_type": "display_data"
    },
    {
     "data": {
      "text/html": [
       "<pre style=\"white-space:pre;overflow-x:auto;line-height:normal;font-family:Menlo,'DejaVu Sans Mono',consolas,'Courier New',monospace\">datasets/healthcare/answers_self_discover_llama3-8b-<span style=\"color: #008080; text-decoration-color: #008080; font-weight: bold\">8192.j</span>son object loaded successfully\n",
       "</pre>\n"
      ],
      "text/plain": [
       "datasets/healthcare/answers_self_discover_llama3-8b-\u001b[1;36m8192.j\u001b[0mson object loaded successfully\n"
      ]
     },
     "metadata": {},
     "output_type": "display_data"
    },
    {
     "data": {
      "text/html": [
       "<pre style=\"white-space:pre;overflow-x:auto;line-height:normal;font-family:Menlo,'DejaVu Sans Mono',consolas,'Courier New',monospace\">datasets/healthcare/qa_list.json object loaded successfully\n",
       "</pre>\n"
      ],
      "text/plain": [
       "datasets/healthcare/qa_list.json object loaded successfully\n"
      ]
     },
     "metadata": {},
     "output_type": "display_data"
    },
    {
     "data": {
      "text/html": [
       "<pre style=\"white-space:pre;overflow-x:auto;line-height:normal;font-family:Menlo,'DejaVu Sans Mono',consolas,'Courier New',monospace\">datasets/healthcare/answers_plan_and_execute_llama3-8b-<span style=\"color: #008080; text-decoration-color: #008080; font-weight: bold\">8192.j</span>son object loaded successfully\n",
       "</pre>\n"
      ],
      "text/plain": [
       "datasets/healthcare/answers_plan_and_execute_llama3-8b-\u001b[1;36m8192.j\u001b[0mson object loaded successfully\n"
      ]
     },
     "metadata": {},
     "output_type": "display_data"
    },
    {
     "data": {
      "text/html": [
       "<pre style=\"white-space:pre;overflow-x:auto;line-height:normal;font-family:Menlo,'DejaVu Sans Mono',consolas,'Courier New',monospace\">datasets/healthcare/qa_list.json object loaded successfully\n",
       "</pre>\n"
      ],
      "text/plain": [
       "datasets/healthcare/qa_list.json object loaded successfully\n"
      ]
     },
     "metadata": {},
     "output_type": "display_data"
    },
    {
     "data": {
      "text/html": [
       "<pre style=\"white-space:pre;overflow-x:auto;line-height:normal;font-family:Menlo,'DejaVu Sans Mono',consolas,'Courier New',monospace\">datasets/healthcare/answers_cama_llama3-70b-<span style=\"color: #008080; text-decoration-color: #008080; font-weight: bold\">8192.j</span>son object loaded successfully\n",
       "</pre>\n"
      ],
      "text/plain": [
       "datasets/healthcare/answers_cama_llama3-70b-\u001b[1;36m8192.j\u001b[0mson object loaded successfully\n"
      ]
     },
     "metadata": {},
     "output_type": "display_data"
    },
    {
     "data": {
      "text/html": [
       "<pre style=\"white-space:pre;overflow-x:auto;line-height:normal;font-family:Menlo,'DejaVu Sans Mono',consolas,'Courier New',monospace\">datasets/healthcare/qa_list.json object loaded successfully\n",
       "</pre>\n"
      ],
      "text/plain": [
       "datasets/healthcare/qa_list.json object loaded successfully\n"
      ]
     },
     "metadata": {},
     "output_type": "display_data"
    },
    {
     "data": {
      "text/html": [
       "<pre style=\"white-space:pre;overflow-x:auto;line-height:normal;font-family:Menlo,'DejaVu Sans Mono',consolas,'Courier New',monospace\">datasets/healthcare/answers_full_prompt_llama3-70b-<span style=\"color: #008080; text-decoration-color: #008080; font-weight: bold\">8192.j</span>son object loaded successfully\n",
       "</pre>\n"
      ],
      "text/plain": [
       "datasets/healthcare/answers_full_prompt_llama3-70b-\u001b[1;36m8192.j\u001b[0mson object loaded successfully\n"
      ]
     },
     "metadata": {},
     "output_type": "display_data"
    },
    {
     "data": {
      "text/html": [
       "<pre style=\"white-space:pre;overflow-x:auto;line-height:normal;font-family:Menlo,'DejaVu Sans Mono',consolas,'Courier New',monospace\">datasets/healthcare/qa_list.json object loaded successfully\n",
       "</pre>\n"
      ],
      "text/plain": [
       "datasets/healthcare/qa_list.json object loaded successfully\n"
      ]
     },
     "metadata": {},
     "output_type": "display_data"
    },
    {
     "data": {
      "text/html": [
       "<pre style=\"white-space:pre;overflow-x:auto;line-height:normal;font-family:Menlo,'DejaVu Sans Mono',consolas,'Courier New',monospace\">datasets/healthcare/answers_full_prompt_cot_llama3-70b-<span style=\"color: #008080; text-decoration-color: #008080; font-weight: bold\">8192.j</span>son object loaded successfully\n",
       "</pre>\n"
      ],
      "text/plain": [
       "datasets/healthcare/answers_full_prompt_cot_llama3-70b-\u001b[1;36m8192.j\u001b[0mson object loaded successfully\n"
      ]
     },
     "metadata": {},
     "output_type": "display_data"
    },
    {
     "data": {
      "text/html": [
       "<pre style=\"white-space:pre;overflow-x:auto;line-height:normal;font-family:Menlo,'DejaVu Sans Mono',consolas,'Courier New',monospace\">datasets/healthcare/qa_list.json object loaded successfully\n",
       "</pre>\n"
      ],
      "text/plain": [
       "datasets/healthcare/qa_list.json object loaded successfully\n"
      ]
     },
     "metadata": {},
     "output_type": "display_data"
    },
    {
     "data": {
      "text/html": [
       "<pre style=\"white-space:pre;overflow-x:auto;line-height:normal;font-family:Menlo,'DejaVu Sans Mono',consolas,'Courier New',monospace\">datasets/healthcare/answers_reflection_llama3-70b-<span style=\"color: #008080; text-decoration-color: #008080; font-weight: bold\">8192.j</span>son object loaded successfully\n",
       "</pre>\n"
      ],
      "text/plain": [
       "datasets/healthcare/answers_reflection_llama3-70b-\u001b[1;36m8192.j\u001b[0mson object loaded successfully\n"
      ]
     },
     "metadata": {},
     "output_type": "display_data"
    },
    {
     "data": {
      "text/html": [
       "<pre style=\"white-space:pre;overflow-x:auto;line-height:normal;font-family:Menlo,'DejaVu Sans Mono',consolas,'Courier New',monospace\">datasets/healthcare/qa_list.json object loaded successfully\n",
       "</pre>\n"
      ],
      "text/plain": [
       "datasets/healthcare/qa_list.json object loaded successfully\n"
      ]
     },
     "metadata": {},
     "output_type": "display_data"
    },
    {
     "data": {
      "text/html": [
       "<pre style=\"white-space:pre;overflow-x:auto;line-height:normal;font-family:Menlo,'DejaVu Sans Mono',consolas,'Courier New',monospace\">datasets/healthcare/answers_react_llama3-70b-<span style=\"color: #008080; text-decoration-color: #008080; font-weight: bold\">8192.j</span>son object loaded successfully\n",
       "</pre>\n"
      ],
      "text/plain": [
       "datasets/healthcare/answers_react_llama3-70b-\u001b[1;36m8192.j\u001b[0mson object loaded successfully\n"
      ]
     },
     "metadata": {},
     "output_type": "display_data"
    },
    {
     "data": {
      "text/html": [
       "<pre style=\"white-space:pre;overflow-x:auto;line-height:normal;font-family:Menlo,'DejaVu Sans Mono',consolas,'Courier New',monospace\">datasets/healthcare/qa_list.json object loaded successfully\n",
       "</pre>\n"
      ],
      "text/plain": [
       "datasets/healthcare/qa_list.json object loaded successfully\n"
      ]
     },
     "metadata": {},
     "output_type": "display_data"
    },
    {
     "data": {
      "text/html": [
       "<pre style=\"white-space:pre;overflow-x:auto;line-height:normal;font-family:Menlo,'DejaVu Sans Mono',consolas,'Courier New',monospace\">datasets/healthcare/answers_self_discover_llama3-70b-<span style=\"color: #008080; text-decoration-color: #008080; font-weight: bold\">8192.j</span>son object loaded successfully\n",
       "</pre>\n"
      ],
      "text/plain": [
       "datasets/healthcare/answers_self_discover_llama3-70b-\u001b[1;36m8192.j\u001b[0mson object loaded successfully\n"
      ]
     },
     "metadata": {},
     "output_type": "display_data"
    },
    {
     "data": {
      "text/html": [
       "<pre style=\"white-space:pre;overflow-x:auto;line-height:normal;font-family:Menlo,'DejaVu Sans Mono',consolas,'Courier New',monospace\">datasets/healthcare/qa_list.json object loaded successfully\n",
       "</pre>\n"
      ],
      "text/plain": [
       "datasets/healthcare/qa_list.json object loaded successfully\n"
      ]
     },
     "metadata": {},
     "output_type": "display_data"
    },
    {
     "data": {
      "text/html": [
       "<pre style=\"white-space:pre;overflow-x:auto;line-height:normal;font-family:Menlo,'DejaVu Sans Mono',consolas,'Courier New',monospace\">datasets/healthcare/answers_plan_and_execute_llama3-70b-<span style=\"color: #008080; text-decoration-color: #008080; font-weight: bold\">8192.j</span>son object loaded successfully\n",
       "</pre>\n"
      ],
      "text/plain": [
       "datasets/healthcare/answers_plan_and_execute_llama3-70b-\u001b[1;36m8192.j\u001b[0mson object loaded successfully\n"
      ]
     },
     "metadata": {},
     "output_type": "display_data"
    },
    {
     "data": {
      "text/html": [
       "<pre style=\"white-space:pre;overflow-x:auto;line-height:normal;font-family:Menlo,'DejaVu Sans Mono',consolas,'Courier New',monospace\">datasets/healthcare/qa_list.json object loaded successfully\n",
       "</pre>\n"
      ],
      "text/plain": [
       "datasets/healthcare/qa_list.json object loaded successfully\n"
      ]
     },
     "metadata": {},
     "output_type": "display_data"
    },
    {
     "data": {
      "text/html": [
       "<pre style=\"white-space:pre;overflow-x:auto;line-height:normal;font-family:Menlo,'DejaVu Sans Mono',consolas,'Courier New',monospace\">datasets/healthcare/answers_cama_gpt-4o-mini.json object loaded successfully\n",
       "</pre>\n"
      ],
      "text/plain": [
       "datasets/healthcare/answers_cama_gpt-4o-mini.json object loaded successfully\n"
      ]
     },
     "metadata": {},
     "output_type": "display_data"
    },
    {
     "data": {
      "text/html": [
       "<pre style=\"white-space:pre;overflow-x:auto;line-height:normal;font-family:Menlo,'DejaVu Sans Mono',consolas,'Courier New',monospace\">datasets/healthcare/qa_list.json object loaded successfully\n",
       "</pre>\n"
      ],
      "text/plain": [
       "datasets/healthcare/qa_list.json object loaded successfully\n"
      ]
     },
     "metadata": {},
     "output_type": "display_data"
    },
    {
     "data": {
      "text/html": [
       "<pre style=\"white-space:pre;overflow-x:auto;line-height:normal;font-family:Menlo,'DejaVu Sans Mono',consolas,'Courier New',monospace\">datasets/healthcare/answers_full_prompt_gpt-4o-mini.json object loaded successfully\n",
       "</pre>\n"
      ],
      "text/plain": [
       "datasets/healthcare/answers_full_prompt_gpt-4o-mini.json object loaded successfully\n"
      ]
     },
     "metadata": {},
     "output_type": "display_data"
    },
    {
     "data": {
      "text/html": [
       "<pre style=\"white-space:pre;overflow-x:auto;line-height:normal;font-family:Menlo,'DejaVu Sans Mono',consolas,'Courier New',monospace\">datasets/healthcare/qa_list.json object loaded successfully\n",
       "</pre>\n"
      ],
      "text/plain": [
       "datasets/healthcare/qa_list.json object loaded successfully\n"
      ]
     },
     "metadata": {},
     "output_type": "display_data"
    },
    {
     "data": {
      "text/html": [
       "<pre style=\"white-space:pre;overflow-x:auto;line-height:normal;font-family:Menlo,'DejaVu Sans Mono',consolas,'Courier New',monospace\">datasets/healthcare/answers_full_prompt_cot_gpt-4o-mini.json object loaded successfully\n",
       "</pre>\n"
      ],
      "text/plain": [
       "datasets/healthcare/answers_full_prompt_cot_gpt-4o-mini.json object loaded successfully\n"
      ]
     },
     "metadata": {},
     "output_type": "display_data"
    },
    {
     "data": {
      "text/html": [
       "<pre style=\"white-space:pre;overflow-x:auto;line-height:normal;font-family:Menlo,'DejaVu Sans Mono',consolas,'Courier New',monospace\">datasets/healthcare/qa_list.json object loaded successfully\n",
       "</pre>\n"
      ],
      "text/plain": [
       "datasets/healthcare/qa_list.json object loaded successfully\n"
      ]
     },
     "metadata": {},
     "output_type": "display_data"
    },
    {
     "data": {
      "text/html": [
       "<pre style=\"white-space:pre;overflow-x:auto;line-height:normal;font-family:Menlo,'DejaVu Sans Mono',consolas,'Courier New',monospace\">datasets/healthcare/answers_reflection_gpt-4o-mini.json object loaded successfully\n",
       "</pre>\n"
      ],
      "text/plain": [
       "datasets/healthcare/answers_reflection_gpt-4o-mini.json object loaded successfully\n"
      ]
     },
     "metadata": {},
     "output_type": "display_data"
    },
    {
     "data": {
      "text/html": [
       "<pre style=\"white-space:pre;overflow-x:auto;line-height:normal;font-family:Menlo,'DejaVu Sans Mono',consolas,'Courier New',monospace\">datasets/healthcare/qa_list.json object loaded successfully\n",
       "</pre>\n"
      ],
      "text/plain": [
       "datasets/healthcare/qa_list.json object loaded successfully\n"
      ]
     },
     "metadata": {},
     "output_type": "display_data"
    },
    {
     "data": {
      "text/html": [
       "<pre style=\"white-space:pre;overflow-x:auto;line-height:normal;font-family:Menlo,'DejaVu Sans Mono',consolas,'Courier New',monospace\">datasets/healthcare/answers_react_gpt-4o-mini.json object loaded successfully\n",
       "</pre>\n"
      ],
      "text/plain": [
       "datasets/healthcare/answers_react_gpt-4o-mini.json object loaded successfully\n"
      ]
     },
     "metadata": {},
     "output_type": "display_data"
    },
    {
     "data": {
      "text/html": [
       "<pre style=\"white-space:pre;overflow-x:auto;line-height:normal;font-family:Menlo,'DejaVu Sans Mono',consolas,'Courier New',monospace\">datasets/healthcare/qa_list.json object loaded successfully\n",
       "</pre>\n"
      ],
      "text/plain": [
       "datasets/healthcare/qa_list.json object loaded successfully\n"
      ]
     },
     "metadata": {},
     "output_type": "display_data"
    },
    {
     "data": {
      "text/html": [
       "<pre style=\"white-space:pre;overflow-x:auto;line-height:normal;font-family:Menlo,'DejaVu Sans Mono',consolas,'Courier New',monospace\">datasets/healthcare/answers_self_discover_gpt-4o-mini.json object loaded successfully\n",
       "</pre>\n"
      ],
      "text/plain": [
       "datasets/healthcare/answers_self_discover_gpt-4o-mini.json object loaded successfully\n"
      ]
     },
     "metadata": {},
     "output_type": "display_data"
    },
    {
     "data": {
      "text/html": [
       "<pre style=\"white-space:pre;overflow-x:auto;line-height:normal;font-family:Menlo,'DejaVu Sans Mono',consolas,'Courier New',monospace\">datasets/healthcare/qa_list.json object loaded successfully\n",
       "</pre>\n"
      ],
      "text/plain": [
       "datasets/healthcare/qa_list.json object loaded successfully\n"
      ]
     },
     "metadata": {},
     "output_type": "display_data"
    },
    {
     "data": {
      "text/html": [
       "<pre style=\"white-space:pre;overflow-x:auto;line-height:normal;font-family:Menlo,'DejaVu Sans Mono',consolas,'Courier New',monospace\">datasets/healthcare/answers_plan_and_execute_gpt-4o-mini.json object loaded successfully\n",
       "</pre>\n"
      ],
      "text/plain": [
       "datasets/healthcare/answers_plan_and_execute_gpt-4o-mini.json object loaded successfully\n"
      ]
     },
     "metadata": {},
     "output_type": "display_data"
    },
    {
     "name": "stdout",
     "output_type": "stream",
     "text": [
      "\n",
      "LaTeX Table for Healthcare Dataset:\n",
      "\\begin{table*}[htbp]\n",
      "\\centering\n",
      "\\caption{Performance Comparison Across Different LLMs and Methods for Healthcare Dataset}\n",
      "\\textbf{Note:} The healthcare dataset represents a difficult level.\n",
      "\\label{tab:llm-comparison}\n",
      "\\resizebox{\\textwidth}{!}{%\n",
      "\\begin{tabular}{llccccccc}\n",
      "\\toprule\n",
      "\\textbf{Model} & \\textbf{Metric} & \\textbf{Cama} & \\textbf{Standard} & \\textbf{CoT} & \\textbf{Reflection} & \\textbf{React} & \\textbf{S.Discover} & \\textbf{P.Execute} \\\\\n",
      "\\midrule\n",
      "\\multirow{4}{*}{\\textbf{llama-3.2-1b}} & \\textbf{Accuracy (↑)} & \\textbf{48.7} & 25.6 & 10.3 & 23.1 & 23.1 & 5.1 & 5.1 \\\\\n",
      " & \\textbf{Unknown (↓)} & \\textbf{43.6} & 74.4 & 87.2 & 71.8 & 74.4 & 94.9 & 94.9 \\\\\n",
      " & \\textbf{Tokens (↓)} & 31.9 & \\textbf{4.5} & \\textbf{4.5} & 13.5 & 33.2 & 17.9 & 14.1 \\\\\n",
      " & \\textbf{Time (↓)} & 5.7 & \\textbf{2.7} & \\textbf{2.7} & 52.1 & 22.3 & 89.2 & 50.7 \\\\\n",
      "\\midrule\n",
      "\\multirow{4}{*}{\\textbf{llama3-8b}} & \\textbf{Accuracy (↑)} & \\textbf{89.7} & 38.5 & 20.5 & 28.2 & 15.4 & 17.9 & 17.9 \\\\\n",
      " & \\textbf{Unknown (↓)} & \\textbf{2.6} & 56.4 & 79.5 & 64.1 & 82.1 & 79.5 & 79.5 \\\\\n",
      " & \\textbf{Tokens (↓)} & 23.7 & 5.0 & \\textbf{4.5} & 12.8 & 8.4 & 22.2 & 39.7 \\\\\n",
      " & \\textbf{Time (↓)} & 5.8 & \\textbf{1.2} & 8.8 & 27.2 & 15.1 & 43.6 & 44.0 \\\\\n",
      "\\midrule\n",
      "\\multirow{4}{*}{\\textbf{llama3-70b}} & \\textbf{Accuracy (↑)} & \\textbf{89.7} & 30.8 & 48.7 & 51.3 & 5.1 & 15.4 & 35.9 \\\\\n",
      " & \\textbf{Unknown (↓)} & \\textbf{0.0} & 61.5 & 48.7 & 41.0 & 89.7 & 82.1 & 61.5 \\\\\n",
      " & \\textbf{Tokens (↓)} & 21.0 & \\textbf{5.1} & 5.4 & 13.5 & 8.2 & 22.6 & 88.7 \\\\\n",
      " & \\textbf{Time (↓)} & 61.5 & \\textbf{18.6} & 31.4 & 119.8 & 25.4 & 69.0 & 504.9 \\\\\n",
      "\\midrule\n",
      "\\multirow{4}{*}{\\textbf{gpt-4o-mini}} & \\textbf{Accuracy (↑)} & \\textbf{92.3} & 56.4 & 76.9 & 10.3 & 2.6 & 7.7 & 10.3 \\\\\n",
      " & \\textbf{Unknown (↓)} & \\textbf{0.0} & 38.5 & 7.7 & 89.7 & 97.4 & 89.7 & 74.4 \\\\\n",
      " & \\textbf{Tokens (↓)} & 24.2 & \\textbf{5.5} & \\textbf{5.5} & 15.2 & 9.3 & 24.8 & 502.2 \\\\\n",
      " & \\textbf{Time (↓)} & 38.0 & 24.5 & 25.8 & 55.9 & \\textbf{23.6} & 72.0 & 458.5 \\\\\n",
      "\\bottomrule\n",
      "\\end{tabular}\n",
      "}\n",
      "\\end{table*}\n",
      "\n",
      "Readable Version for Healthcare Dataset:\n",
      "\n",
      "llama-3.2-1b:\n",
      "+------------------+---------------+---------------+--------------+--------------+\n",
      "|                  | Accuracy (↑)  |  Unknown (↓)  |  Tokens (↓)  |   Time (↓)   |\n",
      "+------------------+---------------+---------------+--------------+--------------+\n",
      "|       Cama       | \\textbf{48.7} | \\textbf{43.6} |     31.9     |     5.7      |\n",
      "|     Standard     |     25.6      |     74.4      | \\textbf{4.5} | \\textbf{2.7} |\n",
      "|       CoT        |     10.3      |     87.2      | \\textbf{4.5} | \\textbf{2.7} |\n",
      "|    Reflection    |     23.1      |     71.8      |     13.5     |     52.1     |\n",
      "|      React       |     23.1      |     74.4      |     33.2     |     22.3     |\n",
      "|  Self Discover   |      5.1      |     94.9      |     17.9     |     89.2     |\n",
      "| Plan and Execute |      5.1      |     94.9      |     14.1     |     50.7     |\n",
      "+------------------+---------------+---------------+--------------+--------------+\n",
      "\n",
      "llama3-8b:\n",
      "+------------------+---------------+--------------+--------------+--------------+\n",
      "|                  | Accuracy (↑)  | Unknown (↓)  |  Tokens (↓)  |   Time (↓)   |\n",
      "+------------------+---------------+--------------+--------------+--------------+\n",
      "|       Cama       | \\textbf{89.7} | \\textbf{2.6} |     23.7     |     5.8      |\n",
      "|     Standard     |     38.5      |     56.4     |     5.0      | \\textbf{1.2} |\n",
      "|       CoT        |     20.5      |     79.5     | \\textbf{4.5} |     8.8      |\n",
      "|    Reflection    |     28.2      |     64.1     |     12.8     |     27.2     |\n",
      "|      React       |     15.4      |     82.1     |     8.4      |     15.1     |\n",
      "|  Self Discover   |     17.9      |     79.5     |     22.2     |     43.6     |\n",
      "| Plan and Execute |     17.9      |     79.5     |     39.7     |     44.0     |\n",
      "+------------------+---------------+--------------+--------------+--------------+\n",
      "\n",
      "llama3-70b:\n",
      "+------------------+---------------+--------------+--------------+---------------+\n",
      "|                  | Accuracy (↑)  | Unknown (↓)  |  Tokens (↓)  |   Time (↓)    |\n",
      "+------------------+---------------+--------------+--------------+---------------+\n",
      "|       Cama       | \\textbf{89.7} | \\textbf{0.0} |     21.0     |     61.5      |\n",
      "|     Standard     |     30.8      |     61.5     | \\textbf{5.1} | \\textbf{18.6} |\n",
      "|       CoT        |     48.7      |     48.7     |     5.4      |     31.4      |\n",
      "|    Reflection    |     51.3      |     41.0     |     13.5     |     119.8     |\n",
      "|      React       |      5.1      |     89.7     |     8.2      |     25.4      |\n",
      "|  Self Discover   |     15.4      |     82.1     |     22.6     |     69.0      |\n",
      "| Plan and Execute |     35.9      |     61.5     |     88.7     |     504.9     |\n",
      "+------------------+---------------+--------------+--------------+---------------+\n",
      "\n",
      "gpt-4o-mini:\n",
      "+------------------+---------------+--------------+--------------+---------------+\n",
      "|                  | Accuracy (↑)  | Unknown (↓)  |  Tokens (↓)  |   Time (↓)    |\n",
      "+------------------+---------------+--------------+--------------+---------------+\n",
      "|       Cama       | \\textbf{92.3} | \\textbf{0.0} |     24.2     |     38.0      |\n",
      "|     Standard     |     56.4      |     38.5     | \\textbf{5.5} |     24.5      |\n",
      "|       CoT        |     76.9      |     7.7      | \\textbf{5.5} |     25.8      |\n",
      "|    Reflection    |     10.3      |     89.7     |     15.2     |     55.9      |\n",
      "|      React       |      2.6      |     97.4     |     9.3      | \\textbf{23.6} |\n",
      "|  Self Discover   |      7.7      |     89.7     |     24.8     |     72.0      |\n",
      "| Plan and Execute |     10.3      |     74.4     |    502.2     |     458.5     |\n",
      "+------------------+---------------+--------------+--------------+---------------+\n",
      "\n",
      "LaTeX Table for Average Results Across All Datasets:\n",
      "\\begin{table*}[htbp]\n",
      "\\centering\n",
      "\\caption{Average Performance Comparison Across All Datasets}\n",
      "\\label{tab:llm-comparison}\n",
      "\\resizebox{\\textwidth}{!}{%\n",
      "\\begin{tabular}{llccccccc}\n",
      "\\toprule\n",
      "\\textbf{Model} & \\textbf{Metric} & \\textbf{Cama} & \\textbf{Standard} & \\textbf{CoT} & \\textbf{Reflection} & \\textbf{React} & \\textbf{S.Discover} & \\textbf{P.Execute} \\\\\n",
      "\\midrule\n",
      "\\multirow{4}{*}{\\textbf{llama-3.2-1b}} & \\textbf{Accuracy (↑)} & \\textbf{55.6 ± 8.1} & 23.1 ± 12.6 & 13.7 ± 4.8 & 24.8 ± 6.0 & 27.4 ± 17.2 & 21.4 ± 11.5 & 19.7 ± 9.9 \\\\\n",
      " & \\textbf{Unknown (↓)} & \\textbf{35.9 ± 5.4} & 76.9 ± 12.6 & 85.5 ± 4.5 & 70.1 ± 8.9 & 69.2 ± 19.4 & 77.8 ± 12.3 & 80.3 ± 9.9 \\\\\n",
      " & \\textbf{Tokens (↓)} & 24.9 ± 5.2 & 4.9 ± 0.2 & 3.8 ± 0.8 & \\textbf{14.2 ± 0.5} & 23.6 ± 9.6 & 17.3 ± 0.7 & 23.7 ± 7.0 \\\\\n",
      " & \\textbf{Time (↓)} & 5.6 ± 0.3 & \\textbf{1.5 ± 0.6} & 2.0 ± 0.4 & 19.7 ± 16.2 & 35.2 ± 23.5 & 61.0 ± 27.7 & 46.6 ± 2.2 \\\\\n",
      "\\midrule\n",
      "\\multirow{4}{*}{\\textbf{llama3-8b}} & \\textbf{Accuracy (↑)} & \\textbf{90.6 ± 2.3} & 28.2 ± 6.8 & 19.7 ± 11.1 & 28.2 ± 11.8 & 9.4 ± 3.1 & 22.2 ± 12.8 & 46.1 ± 15.0 \\\\\n",
      " & \\textbf{Unknown (↓)} & \\textbf{0.9 ± 0.9} & 70.1 ± 8.2 & 80.3 ± 11.1 & 68.4 ± 12.8 & 89.8 ± 3.9 & 76.1 ± 13.4 & 47.9 ± 16.6 \\\\\n",
      " & \\textbf{Tokens (↓)} & 19.8 ± 4.1 & 5.0 ± 0.1 & 4.8 ± 0.2 & \\textbf{10.0 ± 3.3} & 5.7 ± 1.3 & 20.2 ± 3.2 & 34.9 ± 3.7 \\\\\n",
      " & \\textbf{Time (↓)} & 5.2 ± 0.3 & \\textbf{1.1 ± 0.1} & 3.6 ± 2.6 & 11.7 ± 7.8 & 6.6 ± 4.2 & 22.7 ± 11.1 & 38.3 ± 12.0 \\\\\n",
      "\\midrule\n",
      "\\multirow{4}{*}{\\textbf{llama3-70b}} & \\textbf{Accuracy (↑)} & \\textbf{92.3 ± 1.5} & 49.6 ± 17.5 & 59.0 ± 9.0 & 59.0 ± 9.0 & 12.8 ± 4.4 & 28.2 ± 8.2 & 45.3 ± 6.0 \\\\\n",
      " & \\textbf{Unknown (↓)} & \\textbf{0.0 ± 0.0} & 42.7 ± 21.4 & 35.9 ± 12.8 & 32.5 ± 12.6 & 85.5 ± 3.1 & 66.7 ± 8.3 & 50.4 ± 7.6 \\\\\n",
      " & \\textbf{Tokens (↓)} & 19.1 ± 2.2 & 4.0 ± 0.9 & 4.3 ± 1.0 & \\textbf{12.3 ± 1.7} & 7.1 ± 1.5 & 19.5 ± 3.4 & 37.3 ± 25.8 \\\\\n",
      " & \\textbf{Time (↓)} & 72.2 ± 11.7 & \\textbf{12.5 ± 5.2} & 35.3 ± 6.5 & 122.2 ± 13.3 & 21.2 ± 2.2 & 123.6 ± 29.9 & 249.0 ± 128.9 \\\\\n",
      "\\midrule\n",
      "\\multirow{4}{*}{\\textbf{gpt-4o-mini}} & \\textbf{Accuracy (↑)} & \\textbf{90.6 ± 3.1} & 68.4 ± 6.7 & 74.3 ± 6.8 & 16.3 ± 7.3 & 21.4 ± 14.0 & 42.7 ± 20.7 & 42.7 ± 19.2 \\\\\n",
      " & \\textbf{Unknown (↓)} & \\textbf{0.0 ± 0.0} & 29.1 ± 6.0 & 19.7 ± 9.5 & 82.9 ± 8.1 & 75.2 ± 15.2 & 56.4 ± 20.0 & 51.3 ± 16.0 \\\\\n",
      " & \\textbf{Tokens (↓)} & 20.2 ± 4.0 & 4.8 ± 0.8 & 4.5 ± 1.1 & \\textbf{13.6 ± 2.3} & 7.8 ± 1.7 & 22.6 ± 1.8 & 495.9 ± 10.8 \\\\\n",
      " & \\textbf{Time (↓)} & 27.2 ± 5.5 & 19.1 ± 3.6 & 23.9 ± 2.9 & 57.0 ± 2.9 & 25.9 ± 3.4 & \\textbf{101.1 ± 37.0} & 340.3 ± 64.1 \\\\\n",
      "\\bottomrule\n",
      "\\end{tabular}\n",
      "}\n",
      "\\end{table*}\n",
      "\n",
      "Readable Version for Average Results Across All Datasets:\n",
      "\n",
      "llama-3.2-1b:\n",
      "+------------------+---------------------+---------------------+---------------------+--------------------+\n",
      "|                  |    Accuracy (↑)     |     Unknown (↓)     |     Tokens (↓)      |      Time (↓)      |\n",
      "+------------------+---------------------+---------------------+---------------------+--------------------+\n",
      "|       Cama       | \\textbf{55.6 ± 8.1} | \\textbf{35.9 ± 5.4} |     24.9 ± 5.2      |     5.6 ± 0.3      |\n",
      "|     Standard     |     23.1 ± 12.6     |     76.9 ± 12.6     |      4.9 ± 0.2      | \\textbf{1.5 ± 0.6} |\n",
      "|       CoT        |     13.7 ± 4.8      |     85.5 ± 4.5      |      3.8 ± 0.8      |     2.0 ± 0.4      |\n",
      "|    Reflection    |     24.8 ± 6.0      |     70.1 ± 8.9      | \\textbf{14.2 ± 0.5} |    19.7 ± 16.2     |\n",
      "|      React       |     27.4 ± 17.2     |     69.2 ± 19.4     |     23.6 ± 9.6      |    35.2 ± 23.5     |\n",
      "|  Self Discover   |     21.4 ± 11.5     |     77.8 ± 12.3     |     17.3 ± 0.7      |    61.0 ± 27.7     |\n",
      "| Plan and Execute |     19.7 ± 9.9      |     80.3 ± 9.9      |     23.7 ± 7.0      |     46.6 ± 2.2     |\n",
      "+------------------+---------------------+---------------------+---------------------+--------------------+\n",
      "\n",
      "llama3-8b:\n",
      "+------------------+---------------------+--------------------+---------------------+--------------------+\n",
      "|                  |    Accuracy (↑)     |    Unknown (↓)     |     Tokens (↓)      |      Time (↓)      |\n",
      "+------------------+---------------------+--------------------+---------------------+--------------------+\n",
      "|       Cama       | \\textbf{90.6 ± 2.3} | \\textbf{0.9 ± 0.9} |     19.8 ± 4.1      |     5.2 ± 0.3      |\n",
      "|     Standard     |     28.2 ± 6.8      |     70.1 ± 8.2     |      5.0 ± 0.1      | \\textbf{1.1 ± 0.1} |\n",
      "|       CoT        |     19.7 ± 11.1     |    80.3 ± 11.1     |      4.8 ± 0.2      |     3.6 ± 2.6      |\n",
      "|    Reflection    |     28.2 ± 11.8     |    68.4 ± 12.8     | \\textbf{10.0 ± 3.3} |     11.7 ± 7.8     |\n",
      "|      React       |      9.4 ± 3.1      |     89.8 ± 3.9     |      5.7 ± 1.3      |     6.6 ± 4.2      |\n",
      "|  Self Discover   |     22.2 ± 12.8     |    76.1 ± 13.4     |     20.2 ± 3.2      |    22.7 ± 11.1     |\n",
      "| Plan and Execute |     46.1 ± 15.0     |    47.9 ± 16.6     |     34.9 ± 3.7      |    38.3 ± 12.0     |\n",
      "+------------------+---------------------+--------------------+---------------------+--------------------+\n",
      "\n",
      "llama3-70b:\n",
      "+------------------+---------------------+--------------------+---------------------+---------------------+\n",
      "|                  |    Accuracy (↑)     |    Unknown (↓)     |     Tokens (↓)      |      Time (↓)       |\n",
      "+------------------+---------------------+--------------------+---------------------+---------------------+\n",
      "|       Cama       | \\textbf{92.3 ± 1.5} | \\textbf{0.0 ± 0.0} |     19.1 ± 2.2      |     72.2 ± 11.7     |\n",
      "|     Standard     |     49.6 ± 17.5     |    42.7 ± 21.4     |      4.0 ± 0.9      | \\textbf{12.5 ± 5.2} |\n",
      "|       CoT        |     59.0 ± 9.0      |    35.9 ± 12.8     |      4.3 ± 1.0      |     35.3 ± 6.5      |\n",
      "|    Reflection    |     59.0 ± 9.0      |    32.5 ± 12.6     | \\textbf{12.3 ± 1.7} |    122.2 ± 13.3     |\n",
      "|      React       |     12.8 ± 4.4      |     85.5 ± 3.1     |      7.1 ± 1.5      |     21.2 ± 2.2      |\n",
      "|  Self Discover   |     28.2 ± 8.2      |     66.7 ± 8.3     |     19.5 ± 3.4      |    123.6 ± 29.9     |\n",
      "| Plan and Execute |     45.3 ± 6.0      |     50.4 ± 7.6     |     37.3 ± 25.8     |    249.0 ± 128.9    |\n",
      "+------------------+---------------------+--------------------+---------------------+---------------------+\n",
      "\n",
      "gpt-4o-mini:\n",
      "+------------------+---------------------+--------------------+---------------------+-----------------------+\n",
      "|                  |    Accuracy (↑)     |    Unknown (↓)     |     Tokens (↓)      |       Time (↓)        |\n",
      "+------------------+---------------------+--------------------+---------------------+-----------------------+\n",
      "|       Cama       | \\textbf{90.6 ± 3.1} | \\textbf{0.0 ± 0.0} |     20.2 ± 4.0      |      27.2 ± 5.5       |\n",
      "|     Standard     |     68.4 ± 6.7      |     29.1 ± 6.0     |      4.8 ± 0.8      |      19.1 ± 3.6       |\n",
      "|       CoT        |     74.3 ± 6.8      |     19.7 ± 9.5     |      4.5 ± 1.1      |      23.9 ± 2.9       |\n",
      "|    Reflection    |     16.3 ± 7.3      |     82.9 ± 8.1     | \\textbf{13.6 ± 2.3} |      57.0 ± 2.9       |\n",
      "|      React       |     21.4 ± 14.0     |    75.2 ± 15.2     |      7.8 ± 1.7      |      25.9 ± 3.4       |\n",
      "|  Self Discover   |     42.7 ± 20.7     |    56.4 ± 20.0     |     22.6 ± 1.8      | \\textbf{101.1 ± 37.0} |\n",
      "| Plan and Execute |     42.7 ± 19.2     |    51.3 ± 16.0     |    495.9 ± 10.8     |     340.3 ± 64.1      |\n",
      "+------------------+---------------------+--------------------+---------------------+-----------------------+\n"
     ]
    }
   ],
   "source": [
    "import pandas as pd\n",
    "import numpy as np\n",
    "import json\n",
    "from tabulate import tabulate\n",
    "from cama.utils import evaluate_answers_with_unknowns, load_from_json\n",
    "\n",
    "def process_llm_results(llm_name, dataset_folder, methods):\n",
    "    results = {}\n",
    "    for method in methods:\n",
    "        try:\n",
    "            answers_method_filename = f'{dataset_folder}/answers_{method}_{llm_name}.json'\n",
    "            qa_list_filename = f'{dataset_folder}/qa_list.json'\n",
    "            metadata_filename = f'{dataset_folder}/metadata_{method}_{llm_name}.json'\n",
    "            \n",
    "            qa_list = load_from_json(qa_list_filename)\n",
    "            answers = load_from_json(answers_method_filename)\n",
    "            with open(metadata_filename, 'r') as f:\n",
    "                metadata = json.load(f)\n",
    "            \n",
    "            accuracy_score, unknown_ratio = evaluate_answers_with_unknowns(qa_list, answers)\n",
    "            results[method] = {\n",
    "                \"Accuracy (↑)\": round(accuracy_score, 1),\n",
    "                \"Unknown (↓)\": round(unknown_ratio, 1),\n",
    "                \"Tokens (↓)\": round(metadata[\"total_tokens\"] / 1000, 1),\n",
    "                \"Time (↓)\": round(metadata[\"elapsed_time\"], 1)\n",
    "            }\n",
    "        except FileNotFoundError:\n",
    "            results[method] = {\n",
    "                \"Accuracy (↑)\": \"--\",\n",
    "                \"Unknown (↓)\": \"--\",\n",
    "                \"Tokens (↓)\": \"--\",\n",
    "                \"Time (↓)\": \"--\"\n",
    "            }\n",
    "    return results\n",
    "\n",
    "def bold_best_values(results):\n",
    "    metrics = [\"Accuracy (↑)\", \"Unknown (↓)\", \"Tokens (↓)\", \"Time (↓)\"]\n",
    "    for metric in metrics:\n",
    "        values = [results[method][metric] for method in results if results[method][metric] != \"--\"]\n",
    "        if values:\n",
    "            best_value = max(values) if metric == \"Accuracy (↑)\" else min(values)\n",
    "            for method in results:\n",
    "                if results[method][metric] == best_value:\n",
    "                    results[method][metric] = f\"\\\\textbf{{{results[method][metric]}}}\"\n",
    "    return results\n",
    "\n",
    "def create_latex_table(results, caption, dataset_description=None):\n",
    "    models = list(results.keys())\n",
    "    method_mapping = {\n",
    "        \"cama\": \"Cama\",\n",
    "        \"full_prompt\": \"Standard\",\n",
    "        \"full_prompt_cot\": \"CoT\",\n",
    "        \"reflection\": \"Reflection\",\n",
    "        \"react\": \"React\",\n",
    "        \"self_discover\": \"S.Discover\",\n",
    "        \"plan_and_execute\": \"P.Execute\"\n",
    "    }\n",
    "    methods = [method_mapping[m] for m in results[models[0]].keys()]\n",
    "    metrics = [\"Accuracy (↑)\", \"Unknown (↓)\", \"Tokens (↓)\", \"Time (↓)\"]\n",
    "    \n",
    "    model_mapping = {\n",
    "        \"llama-3.2-1b-preview\": \"llama-3.2-1b\",\n",
    "        \"llama3-8b-8192\": \"llama3-8b\",\n",
    "        \"llama3-70b-8192\": \"llama3-70b\",\n",
    "        \"gpt-4o-mini\": \"gpt-4o-mini\"\n",
    "    }\n",
    "    \n",
    "    latex_lines = [\n",
    "        \"\\\\begin{table*}[htbp]\",\n",
    "        \"\\\\centering\",\n",
    "        f\"\\\\caption{{{caption}}}\"\n",
    "    ]\n",
    "    if dataset_description:\n",
    "        latex_lines.append(f\"\\\\textbf{{Note:}} {dataset_description}\")\n",
    "    latex_lines.extend([\n",
    "        \"\\\\label{tab:llm-comparison}\",\n",
    "        \"\\\\resizebox{\\\\textwidth}{!}{%\",\n",
    "        \"\\\\begin{tabular}{llccccccc}\",\n",
    "        \"\\\\toprule\",\n",
    "        \"\\\\textbf{Model} & \\\\textbf{Metric} & \" + \" & \".join([f\"\\\\textbf{{{method}}}\" for method in methods]) + \" \\\\\\\\\"\n",
    "    ])\n",
    "    \n",
    "    for model in models:\n",
    "        latex_lines.append(\"\\\\midrule\")\n",
    "        bolded_results = bold_best_values(results[model])\n",
    "        for i, metric in enumerate(metrics):\n",
    "            if i == 0:\n",
    "                latex_lines.append(f\"\\\\multirow{{4}}{{*}}{{\\\\textbf{{{model_mapping[model]}}}}} \")\n",
    "            else:\n",
    "                latex_lines.append(\" \")\n",
    "            latex_lines[-1] += f\"& \\\\textbf{{{metric}}} & \" + \" & \".join(str(bolded_results[old_method][metric]) for old_method in method_mapping.keys()) + \" \\\\\\\\\"\n",
    "    \n",
    "    latex_lines.extend([\n",
    "        \"\\\\bottomrule\",\n",
    "        \"\\\\end{tabular}\",\n",
    "        \"}\",\n",
    "        \"\\\\end{table*}\"\n",
    "    ])\n",
    "    \n",
    "    return \"\\n\".join(latex_lines)\n",
    "\n",
    "def strip_latex_bold(value):\n",
    "    if isinstance(value, str):\n",
    "        return value.replace('\\\\textbf{', '').replace('}', '')\n",
    "    return value\n",
    "\n",
    "def calculate_mean_and_error(values):\n",
    "    if len(values) > 1:\n",
    "        mean = np.mean(values)\n",
    "        std_error = np.std(values, ddof=1) / np.sqrt(len(values))\n",
    "        return f\"{round(mean, 1)} ± {round(std_error, 1)}\"\n",
    "    elif len(values) == 1:\n",
    "        return f\"{round(values[0], 1)}\"\n",
    "    else:\n",
    "        return \"--\"\n",
    "\n",
    "# Define datasets, LLMs, and methods\n",
    "dataset_folders = {\n",
    "    \"financial\": \"datasets/financial\",\n",
    "    \"eligibility\": \"datasets/eligibility\",\n",
    "    \"healthcare\": \"datasets/healthcare\"\n",
    "}\n",
    "dataset_descriptions = {\n",
    "    \"financial\": \"The financial dataset represents an easy difficulty level.\",\n",
    "    \"eligibility\": \"The eligibility dataset represents a medium difficulty level.\",\n",
    "    \"healthcare\": \"The healthcare dataset represents a difficult level.\"\n",
    "}\n",
    "llm_names = [\"llama-3.2-1b-preview\", \"llama3-8b-8192\", \"llama3-70b-8192\", \"gpt-4o-mini\"]\n",
    "methods = [\"cama\", \"full_prompt\", \"full_prompt_cot\", \"reflection\", \"react\", \"self_discover\", \"plan_and_execute\"]\n",
    "\n",
    "# Process results for each dataset and LLM\n",
    "all_datasets_results = {}\n",
    "for dataset_name, dataset_folder in dataset_folders.items():\n",
    "    all_results = {}\n",
    "    for llm_name in llm_names:\n",
    "        all_results[llm_name] = process_llm_results(llm_name, dataset_folder, methods)\n",
    "    all_datasets_results[dataset_name] = all_results\n",
    "\n",
    "    # Create and print LaTeX table for individual dataset\n",
    "    caption = f\"Performance Comparison Across Different LLMs and Methods for {dataset_name.capitalize()} Dataset\"\n",
    "    latex_table = create_latex_table(all_results, caption, dataset_descriptions[dataset_name])\n",
    "    print(f\"\\nLaTeX Table for {dataset_name.capitalize()} Dataset:\")\n",
    "    print(latex_table)\n",
    "\n",
    "    # Print a readable version to console for individual dataset\n",
    "    print(f\"\\nReadable Version for {dataset_name.capitalize()} Dataset:\")\n",
    "    method_mapping = {\n",
    "        \"cama\": \"Cama\",\n",
    "        \"full_prompt\": \"Standard\",\n",
    "        \"full_prompt_cot\": \"CoT\",\n",
    "        \"reflection\": \"Reflection\",\n",
    "        \"react\": \"React\",\n",
    "        \"self_discover\": \"Self Discover\",\n",
    "        \"plan_and_execute\": \"Plan and Execute\"\n",
    "    }\n",
    "    model_mapping = {\n",
    "        \"llama-3.2-1b-preview\": \"llama-3.2-1b\",\n",
    "        \"llama3-8b-8192\": \"llama3-8b\",\n",
    "        \"llama3-70b-8192\": \"llama3-70b\",\n",
    "        \"gpt-4o-mini\": \"gpt-4o-mini\"\n",
    "    }\n",
    "    for llm_name, results in all_results.items():\n",
    "        print(f\"\\n{model_mapping[llm_name]}:\")\n",
    "        df = pd.DataFrame({method_mapping[k]: v for k, v in results.items()}).T\n",
    "        print(tabulate(df, headers='keys', tablefmt='pretty'))\n",
    "\n",
    "# Calculate average results across all datasets\n",
    "average_results = {}\n",
    "for llm_name in llm_names:\n",
    "    average_results[llm_name] = {}\n",
    "    for method in methods:\n",
    "        average_results[llm_name][method] = {}\n",
    "        for metric in [\"Accuracy (↑)\", \"Unknown (↓)\", \"Tokens (↓)\", \"Time (↓)\"]:\n",
    "            values = [all_datasets_results[dataset][llm_name][method][metric] \n",
    "                      for dataset in dataset_folders.keys() \n",
    "                      if all_datasets_results[dataset][llm_name][method][metric] != \"--\"]\n",
    "            if values:\n",
    "                cleaned_values = [float(strip_latex_bold(v)) for v in values]\n",
    "                average_results[llm_name][method][metric] = calculate_mean_and_error(cleaned_values)\n",
    "            else:\n",
    "                average_results[llm_name][method][metric] = \"--\"\n",
    "\n",
    "# Create and print LaTeX table for average results\n",
    "caption = \"Average Performance Comparison Across All Datasets\"\n",
    "latex_table = create_latex_table(average_results, caption)\n",
    "print(\"\\nLaTeX Table for Average Results Across All Datasets:\")\n",
    "print(latex_table)\n",
    "\n",
    "# Print a readable version of average results to console\n",
    "print(\"\\nReadable Version for Average Results Across All Datasets:\")\n",
    "for llm_name, results in average_results.items():\n",
    "    print(f\"\\n{model_mapping[llm_name]}:\")\n",
    "    df = pd.DataFrame({method_mapping[k]: v for k, v in results.items()}).T\n",
    "    print(tabulate(df, headers='keys', tablefmt='pretty'))"
   ]
  },
  {
   "cell_type": "markdown",
   "metadata": {},
   "source": [
    "# Radar plot"
   ]
  },
  {
   "cell_type": "markdown",
   "metadata": {},
   "source": [
    "# Lines"
   ]
  },
  {
   "cell_type": "code",
   "execution_count": 4,
   "metadata": {},
   "outputs": [
    {
     "data": {
      "text/html": [
       "<pre style=\"white-space:pre;overflow-x:auto;line-height:normal;font-family:Menlo,'DejaVu Sans Mono',consolas,'Courier New',monospace\">datasets/financial/qa_list.json object loaded successfully\n",
       "</pre>\n"
      ],
      "text/plain": [
       "datasets/financial/qa_list.json object loaded successfully\n"
      ]
     },
     "metadata": {},
     "output_type": "display_data"
    },
    {
     "data": {
      "image/png": "[encoded data removed]",
      "text/plain": [
       "<Figure size 1200x600 with 1 Axes>"
      ]
     },
     "metadata": {},
     "output_type": "display_data"
    }
   ],
   "source": [
    "import matplotlib.pyplot as plt\n",
    "import numpy as np\n",
    "from typing import Dict, Tuple\n",
    "from cama.utils import evaluate_answers_with_unknowns\n",
    "\n",
    "# load qa list\n",
    "qa_list = load_from_json(f'{dataset_folder}/qa_list.json')\n",
    "\n",
    "def plot_scores_with_unknowns(scores: Dict[str, Tuple[float, float]], llm_name: str):\n",
    "    \"\"\"\n",
    "    Creates a single line plot showing both accuracy scores and unknown ratios.\n",
    "\n",
    "    Parameters:\n",
    "    scores (Dict[str, Tuple[float, float]]): A dictionary where keys are method names and values are tuples (accuracy, unknown_ratio).\n",
    "    llm_name (str): The name of the language model used as the report generator.\n",
    "    \"\"\"\n",
    "    methods = list(scores.keys())\n",
    "    accuracies = [score[0] for score in scores.values()]\n",
    "    unknown_ratios = [score[1] for score in scores.values()]\n",
    "\n",
    "    # Sort methods by accuracy for better visual trend\n",
    "    sorted_indices = sorted(range(len(accuracies)), key=lambda k: accuracies[k])\n",
    "    methods = [methods[i] for i in sorted_indices]\n",
    "    accuracies = [accuracies[i] for i in sorted_indices]\n",
    "    unknown_ratios = [unknown_ratios[i] for i in sorted_indices]\n",
    "\n",
    "    plt.figure(figsize=(12, 6))\n",
    "\n",
    "    # Plot both lines on the same graph\n",
    "    plt.plot(methods, accuracies, marker='o', linewidth=3, color='#1f77b4', markersize=12, label='Accuracy (↑ better)', alpha=0.8)\n",
    "    plt.plot(methods, unknown_ratios, marker='s', linewidth=3, color='#ff7f0e', markersize=12, label='Unknown (↓ better)', alpha=0.8, linestyle='--')\n",
    "    \n",
    "    # Highlight CAMA with different markers\n",
    "    # cama_index = methods.index(\"CAMA\") if \"CAMA\" in methods else -1\n",
    "    # if cama_index != -1:\n",
    "    #     plt.plot(cama_index, accuracies[cama_index], marker='*', markersize=20, color='#1f77b4', label='CAMA (Acc)', linewidth=0)\n",
    "    #     plt.plot(cama_index, unknown_ratios[cama_index], marker='P', markersize=20, color='#ff7f0e', label='CAMA (Unk)', linewidth=0)\n",
    "    \n",
    "    plt.ylim(-10, 110)\n",
    "    plt.xlabel('Methods', fontsize=14)\n",
    "    plt.ylabel('Ratio (%)', fontsize=14)\n",
    "    plt.title(f'Accuracy and Unknown ratio over 40 questions\\nGenerator: {llm_name} | Judge: GPT-4o | Dataset: {dataset_folder}', fontsize=16)\n",
    "    plt.grid(alpha=0.3)\n",
    "    plt.xticks(rotation=0, fontsize=12)\n",
    "    plt.yticks(fontsize=12)\n",
    "\n",
    "    # # Create a custom legend order\n",
    "    handles, labels = plt.gca().get_legend_handles_labels()\n",
    "    order = [0, 1]  # Accuracy, Unknown\n",
    "    # if cama_index != -1:\n",
    "    #     order.extend([2, 3])  # CAMA (Acc), CAMA (Unk)\n",
    "    plt.legend([handles[idx] for idx in order], [labels[idx] for idx in order], fontsize=12)\n",
    "\n",
    "    # Add value labels on each point with offset for better readability\n",
    "    for i, (acc, unk) in enumerate(zip(accuracies, unknown_ratios)):\n",
    "        # if acc > unk:\n",
    "        plt.text(i, acc + 3, f'{acc:.1f}%', ha='center', fontsize=10, color='#1f77b4')\n",
    "        plt.text(i, unk + 3, f'{unk:.1f}%', ha='center', fontsize=10, color='#ff7f0e')\n",
    "        # else:\n",
    "        #     plt.text(i, acc - 2, f'{acc:.1f}%', ha='center', fontsize=10, color='#1f77b4')\n",
    "        #     plt.text(i, unk + 2, f'{unk:.1f}%', ha='center', fontsize=10, color='#ff7f0e')\n",
    "\n",
    "    # save plot in pdf\n",
    "    # plt.savefig(f'{dataset_folder}/scores_plot_{llm_name}.pdf', bbox_inches='tight')\n",
    "    plt.tight_layout()\n",
    "    plt.show()\n",
    "\n",
    "# Example usage:\n",
    "scores = {\n",
    "    \"Standard (I/O)\": (results['full_prompt']['accuracy_score'], results['full_prompt']['unknown_ratio']),\n",
    "    \"CoT\": (results['full_prompt_cot']['accuracy_score'], results['full_prompt_cot']['unknown_ratio']),\n",
    "    \"Ours\": (results['cama']['accuracy_score'], results['cama']['unknown_ratio']),\n",
    "    \"Reflection\": (results['reflection']['accuracy_score'], results['reflection']['unknown_ratio']),\n",
    "    \"ReAct\": (results['react']['accuracy_score'], results['react']['unknown_ratio']),\n",
    "    \"Self-Discover\": (results['self_discover']['accuracy_score'], results['self_discover']['unknown_ratio']),\n",
    "    \"Plan & Execute\": (results['plan_and_execute']['accuracy_score'], results['plan_and_execute']['unknown_ratio'])\n",
    "}\n",
    "\n",
    "plot_scores_with_unknowns(scores, llm_name)"
   ]
  },
  {
   "cell_type": "markdown",
   "metadata": {},
   "source": [
    "# Plot "
   ]
  },
  {
   "cell_type": "code",
   "execution_count": 47,
   "metadata": {},
   "outputs": [
    {
     "data": {
      "text/html": [
       "<pre style=\"white-space:pre;overflow-x:auto;line-height:normal;font-family:Menlo,'DejaVu Sans Mono',consolas,'Courier New',monospace\">datasets/financial/qa_list.json object loaded successfully\n",
       "</pre>\n"
      ],
      "text/plain": [
       "datasets/financial/qa_list.json object loaded successfully\n"
      ]
     },
     "metadata": {},
     "output_type": "display_data"
    },
    {
     "data": {
      "text/html": [
       "<pre style=\"white-space:pre;overflow-x:auto;line-height:normal;font-family:Menlo,'DejaVu Sans Mono',consolas,'Courier New',monospace\">datasets/financial/answers_cama_llama-<span style=\"color: #008080; text-decoration-color: #008080; font-weight: bold\">3.2</span>-1b-preview.json object loaded successfully\n",
       "</pre>\n"
      ],
      "text/plain": [
       "datasets/financial/answers_cama_llama-\u001b[1;36m3.2\u001b[0m-1b-preview.json object loaded successfully\n"
      ]
     },
     "metadata": {},
     "output_type": "display_data"
    },
    {
     "data": {
      "text/html": [
       "<pre style=\"white-space:pre;overflow-x:auto;line-height:normal;font-family:Menlo,'DejaVu Sans Mono',consolas,'Courier New',monospace\">datasets/financial/answers_full_prompt_llama-<span style=\"color: #008080; text-decoration-color: #008080; font-weight: bold\">3.2</span>-1b-preview.json object loaded successfully\n",
       "</pre>\n"
      ],
      "text/plain": [
       "datasets/financial/answers_full_prompt_llama-\u001b[1;36m3.2\u001b[0m-1b-preview.json object loaded successfully\n"
      ]
     },
     "metadata": {},
     "output_type": "display_data"
    },
    {
     "data": {
      "text/html": [
       "<pre style=\"white-space:pre;overflow-x:auto;line-height:normal;font-family:Menlo,'DejaVu Sans Mono',consolas,'Courier New',monospace\">datasets/financial/answers_full_prompt_cot_llama-<span style=\"color: #008080; text-decoration-color: #008080; font-weight: bold\">3.2</span>-1b-preview.json object loaded successfully\n",
       "</pre>\n"
      ],
      "text/plain": [
       "datasets/financial/answers_full_prompt_cot_llama-\u001b[1;36m3.2\u001b[0m-1b-preview.json object loaded successfully\n"
      ]
     },
     "metadata": {},
     "output_type": "display_data"
    },
    {
     "data": {
      "text/html": [
       "<pre style=\"white-space:pre;overflow-x:auto;line-height:normal;font-family:Menlo,'DejaVu Sans Mono',consolas,'Courier New',monospace\">datasets/financial/answers_reflection_llama-<span style=\"color: #008080; text-decoration-color: #008080; font-weight: bold\">3.2</span>-1b-preview.json object loaded successfully\n",
       "</pre>\n"
      ],
      "text/plain": [
       "datasets/financial/answers_reflection_llama-\u001b[1;36m3.2\u001b[0m-1b-preview.json object loaded successfully\n"
      ]
     },
     "metadata": {},
     "output_type": "display_data"
    },
    {
     "data": {
      "text/html": [
       "<pre style=\"white-space:pre;overflow-x:auto;line-height:normal;font-family:Menlo,'DejaVu Sans Mono',consolas,'Courier New',monospace\">datasets/financial/answers_react_llama-<span style=\"color: #008080; text-decoration-color: #008080; font-weight: bold\">3.2</span>-1b-preview.json object loaded successfully\n",
       "</pre>\n"
      ],
      "text/plain": [
       "datasets/financial/answers_react_llama-\u001b[1;36m3.2\u001b[0m-1b-preview.json object loaded successfully\n"
      ]
     },
     "metadata": {},
     "output_type": "display_data"
    },
    {
     "data": {
      "text/html": [
       "<pre style=\"white-space:pre;overflow-x:auto;line-height:normal;font-family:Menlo,'DejaVu Sans Mono',consolas,'Courier New',monospace\">datasets/financial/answers_self_discover_llama-<span style=\"color: #008080; text-decoration-color: #008080; font-weight: bold\">3.2</span>-1b-preview.json object loaded successfully\n",
       "</pre>\n"
      ],
      "text/plain": [
       "datasets/financial/answers_self_discover_llama-\u001b[1;36m3.2\u001b[0m-1b-preview.json object loaded successfully\n"
      ]
     },
     "metadata": {},
     "output_type": "display_data"
    },
    {
     "data": {
      "text/html": [
       "<pre style=\"white-space:pre;overflow-x:auto;line-height:normal;font-family:Menlo,'DejaVu Sans Mono',consolas,'Courier New',monospace\">datasets/financial/answers_plan_and_execute_llama-<span style=\"color: #008080; text-decoration-color: #008080; font-weight: bold\">3.2</span>-1b-preview.json object loaded successfully\n",
       "</pre>\n"
      ],
      "text/plain": [
       "datasets/financial/answers_plan_and_execute_llama-\u001b[1;36m3.2\u001b[0m-1b-preview.json object loaded successfully\n"
      ]
     },
     "metadata": {},
     "output_type": "display_data"
    },
    {
     "data": {
      "text/html": [
       "<pre style=\"white-space:pre;overflow-x:auto;line-height:normal;font-family:Menlo,'DejaVu Sans Mono',consolas,'Courier New',monospace\">datasets/eligibility/qa_list.json object loaded successfully\n",
       "</pre>\n"
      ],
      "text/plain": [
       "datasets/eligibility/qa_list.json object loaded successfully\n"
      ]
     },
     "metadata": {},
     "output_type": "display_data"
    },
    {
     "data": {
      "text/html": [
       "<pre style=\"white-space:pre;overflow-x:auto;line-height:normal;font-family:Menlo,'DejaVu Sans Mono',consolas,'Courier New',monospace\">datasets/eligibility/answers_cama_llama-<span style=\"color: #008080; text-decoration-color: #008080; font-weight: bold\">3.2</span>-1b-preview.json object loaded successfully\n",
       "</pre>\n"
      ],
      "text/plain": [
       "datasets/eligibility/answers_cama_llama-\u001b[1;36m3.2\u001b[0m-1b-preview.json object loaded successfully\n"
      ]
     },
     "metadata": {},
     "output_type": "display_data"
    },
    {
     "data": {
      "text/html": [
       "<pre style=\"white-space:pre;overflow-x:auto;line-height:normal;font-family:Menlo,'DejaVu Sans Mono',consolas,'Courier New',monospace\">datasets/eligibility/answers_full_prompt_llama-<span style=\"color: #008080; text-decoration-color: #008080; font-weight: bold\">3.2</span>-1b-preview.json object loaded successfully\n",
       "</pre>\n"
      ],
      "text/plain": [
       "datasets/eligibility/answers_full_prompt_llama-\u001b[1;36m3.2\u001b[0m-1b-preview.json object loaded successfully\n"
      ]
     },
     "metadata": {},
     "output_type": "display_data"
    },
    {
     "data": {
      "text/html": [
       "<pre style=\"white-space:pre;overflow-x:auto;line-height:normal;font-family:Menlo,'DejaVu Sans Mono',consolas,'Courier New',monospace\">datasets/eligibility/answers_full_prompt_cot_llama-<span style=\"color: #008080; text-decoration-color: #008080; font-weight: bold\">3.2</span>-1b-preview.json object loaded successfully\n",
       "</pre>\n"
      ],
      "text/plain": [
       "datasets/eligibility/answers_full_prompt_cot_llama-\u001b[1;36m3.2\u001b[0m-1b-preview.json object loaded successfully\n"
      ]
     },
     "metadata": {},
     "output_type": "display_data"
    },
    {
     "data": {
      "text/html": [
       "<pre style=\"white-space:pre;overflow-x:auto;line-height:normal;font-family:Menlo,'DejaVu Sans Mono',consolas,'Courier New',monospace\">datasets/eligibility/answers_reflection_llama-<span style=\"color: #008080; text-decoration-color: #008080; font-weight: bold\">3.2</span>-1b-preview.json object loaded successfully\n",
       "</pre>\n"
      ],
      "text/plain": [
       "datasets/eligibility/answers_reflection_llama-\u001b[1;36m3.2\u001b[0m-1b-preview.json object loaded successfully\n"
      ]
     },
     "metadata": {},
     "output_type": "display_data"
    },
    {
     "data": {
      "text/html": [
       "<pre style=\"white-space:pre;overflow-x:auto;line-height:normal;font-family:Menlo,'DejaVu Sans Mono',consolas,'Courier New',monospace\">datasets/eligibility/answers_react_llama-<span style=\"color: #008080; text-decoration-color: #008080; font-weight: bold\">3.2</span>-1b-preview.json object loaded successfully\n",
       "</pre>\n"
      ],
      "text/plain": [
       "datasets/eligibility/answers_react_llama-\u001b[1;36m3.2\u001b[0m-1b-preview.json object loaded successfully\n"
      ]
     },
     "metadata": {},
     "output_type": "display_data"
    },
    {
     "data": {
      "text/html": [
       "<pre style=\"white-space:pre;overflow-x:auto;line-height:normal;font-family:Menlo,'DejaVu Sans Mono',consolas,'Courier New',monospace\">datasets/eligibility/answers_self_discover_llama-<span style=\"color: #008080; text-decoration-color: #008080; font-weight: bold\">3.2</span>-1b-preview.json object loaded successfully\n",
       "</pre>\n"
      ],
      "text/plain": [
       "datasets/eligibility/answers_self_discover_llama-\u001b[1;36m3.2\u001b[0m-1b-preview.json object loaded successfully\n"
      ]
     },
     "metadata": {},
     "output_type": "display_data"
    },
    {
     "data": {
      "text/html": [
       "<pre style=\"white-space:pre;overflow-x:auto;line-height:normal;font-family:Menlo,'DejaVu Sans Mono',consolas,'Courier New',monospace\">datasets/eligibility/answers_plan_and_execute_llama-<span style=\"color: #008080; text-decoration-color: #008080; font-weight: bold\">3.2</span>-1b-preview.json object loaded successfully\n",
       "</pre>\n"
      ],
      "text/plain": [
       "datasets/eligibility/answers_plan_and_execute_llama-\u001b[1;36m3.2\u001b[0m-1b-preview.json object loaded successfully\n"
      ]
     },
     "metadata": {},
     "output_type": "display_data"
    },
    {
     "data": {
      "text/html": [
       "<pre style=\"white-space:pre;overflow-x:auto;line-height:normal;font-family:Menlo,'DejaVu Sans Mono',consolas,'Courier New',monospace\">datasets/healthcare/qa_list.json object loaded successfully\n",
       "</pre>\n"
      ],
      "text/plain": [
       "datasets/healthcare/qa_list.json object loaded successfully\n"
      ]
     },
     "metadata": {},
     "output_type": "display_data"
    },
    {
     "data": {
      "text/html": [
       "<pre style=\"white-space:pre;overflow-x:auto;line-height:normal;font-family:Menlo,'DejaVu Sans Mono',consolas,'Courier New',monospace\">datasets/healthcare/answers_cama_llama-<span style=\"color: #008080; text-decoration-color: #008080; font-weight: bold\">3.2</span>-1b-preview.json object loaded successfully\n",
       "</pre>\n"
      ],
      "text/plain": [
       "datasets/healthcare/answers_cama_llama-\u001b[1;36m3.2\u001b[0m-1b-preview.json object loaded successfully\n"
      ]
     },
     "metadata": {},
     "output_type": "display_data"
    },
    {
     "data": {
      "text/html": [
       "<pre style=\"white-space:pre;overflow-x:auto;line-height:normal;font-family:Menlo,'DejaVu Sans Mono',consolas,'Courier New',monospace\">datasets/healthcare/answers_full_prompt_llama-<span style=\"color: #008080; text-decoration-color: #008080; font-weight: bold\">3.2</span>-1b-preview.json object loaded successfully\n",
       "</pre>\n"
      ],
      "text/plain": [
       "datasets/healthcare/answers_full_prompt_llama-\u001b[1;36m3.2\u001b[0m-1b-preview.json object loaded successfully\n"
      ]
     },
     "metadata": {},
     "output_type": "display_data"
    },
    {
     "data": {
      "text/html": [
       "<pre style=\"white-space:pre;overflow-x:auto;line-height:normal;font-family:Menlo,'DejaVu Sans Mono',consolas,'Courier New',monospace\">datasets/healthcare/answers_full_prompt_cot_llama-<span style=\"color: #008080; text-decoration-color: #008080; font-weight: bold\">3.2</span>-1b-preview.json object loaded successfully\n",
       "</pre>\n"
      ],
      "text/plain": [
       "datasets/healthcare/answers_full_prompt_cot_llama-\u001b[1;36m3.2\u001b[0m-1b-preview.json object loaded successfully\n"
      ]
     },
     "metadata": {},
     "output_type": "display_data"
    },
    {
     "data": {
      "text/html": [
       "<pre style=\"white-space:pre;overflow-x:auto;line-height:normal;font-family:Menlo,'DejaVu Sans Mono',consolas,'Courier New',monospace\">datasets/healthcare/answers_reflection_llama-<span style=\"color: #008080; text-decoration-color: #008080; font-weight: bold\">3.2</span>-1b-preview.json object loaded successfully\n",
       "</pre>\n"
      ],
      "text/plain": [
       "datasets/healthcare/answers_reflection_llama-\u001b[1;36m3.2\u001b[0m-1b-preview.json object loaded successfully\n"
      ]
     },
     "metadata": {},
     "output_type": "display_data"
    },
    {
     "data": {
      "text/html": [
       "<pre style=\"white-space:pre;overflow-x:auto;line-height:normal;font-family:Menlo,'DejaVu Sans Mono',consolas,'Courier New',monospace\">datasets/healthcare/answers_react_llama-<span style=\"color: #008080; text-decoration-color: #008080; font-weight: bold\">3.2</span>-1b-preview.json object loaded successfully\n",
       "</pre>\n"
      ],
      "text/plain": [
       "datasets/healthcare/answers_react_llama-\u001b[1;36m3.2\u001b[0m-1b-preview.json object loaded successfully\n"
      ]
     },
     "metadata": {},
     "output_type": "display_data"
    },
    {
     "data": {
      "text/html": [
       "<pre style=\"white-space:pre;overflow-x:auto;line-height:normal;font-family:Menlo,'DejaVu Sans Mono',consolas,'Courier New',monospace\">datasets/healthcare/answers_self_discover_llama-<span style=\"color: #008080; text-decoration-color: #008080; font-weight: bold\">3.2</span>-1b-preview.json object loaded successfully\n",
       "</pre>\n"
      ],
      "text/plain": [
       "datasets/healthcare/answers_self_discover_llama-\u001b[1;36m3.2\u001b[0m-1b-preview.json object loaded successfully\n"
      ]
     },
     "metadata": {},
     "output_type": "display_data"
    },
    {
     "data": {
      "text/html": [
       "<pre style=\"white-space:pre;overflow-x:auto;line-height:normal;font-family:Menlo,'DejaVu Sans Mono',consolas,'Courier New',monospace\">datasets/healthcare/answers_plan_and_execute_llama-<span style=\"color: #008080; text-decoration-color: #008080; font-weight: bold\">3.2</span>-1b-preview.json object loaded successfully\n",
       "</pre>\n"
      ],
      "text/plain": [
       "datasets/healthcare/answers_plan_and_execute_llama-\u001b[1;36m3.2\u001b[0m-1b-preview.json object loaded successfully\n"
      ]
     },
     "metadata": {},
     "output_type": "display_data"
    },
    {
     "data": {
      "text/html": [
       "<pre style=\"white-space:pre;overflow-x:auto;line-height:normal;font-family:Menlo,'DejaVu Sans Mono',consolas,'Courier New',monospace\">datasets/financial/qa_list.json object loaded successfully\n",
       "</pre>\n"
      ],
      "text/plain": [
       "datasets/financial/qa_list.json object loaded successfully\n"
      ]
     },
     "metadata": {},
     "output_type": "display_data"
    },
    {
     "data": {
      "text/html": [
       "<pre style=\"white-space:pre;overflow-x:auto;line-height:normal;font-family:Menlo,'DejaVu Sans Mono',consolas,'Courier New',monospace\">datasets/financial/answers_cama_llama3-8b-<span style=\"color: #008080; text-decoration-color: #008080; font-weight: bold\">8192.j</span>son object loaded successfully\n",
       "</pre>\n"
      ],
      "text/plain": [
       "datasets/financial/answers_cama_llama3-8b-\u001b[1;36m8192.j\u001b[0mson object loaded successfully\n"
      ]
     },
     "metadata": {},
     "output_type": "display_data"
    },
    {
     "data": {
      "text/html": [
       "<pre style=\"white-space:pre;overflow-x:auto;line-height:normal;font-family:Menlo,'DejaVu Sans Mono',consolas,'Courier New',monospace\">datasets/financial/answers_full_prompt_llama3-8b-<span style=\"color: #008080; text-decoration-color: #008080; font-weight: bold\">8192.j</span>son object loaded successfully\n",
       "</pre>\n"
      ],
      "text/plain": [
       "datasets/financial/answers_full_prompt_llama3-8b-\u001b[1;36m8192.j\u001b[0mson object loaded successfully\n"
      ]
     },
     "metadata": {},
     "output_type": "display_data"
    },
    {
     "data": {
      "text/html": [
       "<pre style=\"white-space:pre;overflow-x:auto;line-height:normal;font-family:Menlo,'DejaVu Sans Mono',consolas,'Courier New',monospace\">datasets/financial/answers_full_prompt_cot_llama3-8b-<span style=\"color: #008080; text-decoration-color: #008080; font-weight: bold\">8192.j</span>son object loaded successfully\n",
       "</pre>\n"
      ],
      "text/plain": [
       "datasets/financial/answers_full_prompt_cot_llama3-8b-\u001b[1;36m8192.j\u001b[0mson object loaded successfully\n"
      ]
     },
     "metadata": {},
     "output_type": "display_data"
    },
    {
     "data": {
      "text/html": [
       "<pre style=\"white-space:pre;overflow-x:auto;line-height:normal;font-family:Menlo,'DejaVu Sans Mono',consolas,'Courier New',monospace\">datasets/financial/answers_reflection_llama3-8b-<span style=\"color: #008080; text-decoration-color: #008080; font-weight: bold\">8192.j</span>son object loaded successfully\n",
       "</pre>\n"
      ],
      "text/plain": [
       "datasets/financial/answers_reflection_llama3-8b-\u001b[1;36m8192.j\u001b[0mson object loaded successfully\n"
      ]
     },
     "metadata": {},
     "output_type": "display_data"
    },
    {
     "data": {
      "text/html": [
       "<pre style=\"white-space:pre;overflow-x:auto;line-height:normal;font-family:Menlo,'DejaVu Sans Mono',consolas,'Courier New',monospace\">datasets/financial/answers_react_llama3-8b-<span style=\"color: #008080; text-decoration-color: #008080; font-weight: bold\">8192.j</span>son object loaded successfully\n",
       "</pre>\n"
      ],
      "text/plain": [
       "datasets/financial/answers_react_llama3-8b-\u001b[1;36m8192.j\u001b[0mson object loaded successfully\n"
      ]
     },
     "metadata": {},
     "output_type": "display_data"
    },
    {
     "data": {
      "text/html": [
       "<pre style=\"white-space:pre;overflow-x:auto;line-height:normal;font-family:Menlo,'DejaVu Sans Mono',consolas,'Courier New',monospace\">datasets/financial/answers_self_discover_llama3-8b-<span style=\"color: #008080; text-decoration-color: #008080; font-weight: bold\">8192.j</span>son object loaded successfully\n",
       "</pre>\n"
      ],
      "text/plain": [
       "datasets/financial/answers_self_discover_llama3-8b-\u001b[1;36m8192.j\u001b[0mson object loaded successfully\n"
      ]
     },
     "metadata": {},
     "output_type": "display_data"
    },
    {
     "data": {
      "text/html": [
       "<pre style=\"white-space:pre;overflow-x:auto;line-height:normal;font-family:Menlo,'DejaVu Sans Mono',consolas,'Courier New',monospace\">datasets/financial/answers_plan_and_execute_llama3-8b-<span style=\"color: #008080; text-decoration-color: #008080; font-weight: bold\">8192.j</span>son object loaded successfully\n",
       "</pre>\n"
      ],
      "text/plain": [
       "datasets/financial/answers_plan_and_execute_llama3-8b-\u001b[1;36m8192.j\u001b[0mson object loaded successfully\n"
      ]
     },
     "metadata": {},
     "output_type": "display_data"
    },
    {
     "data": {
      "text/html": [
       "<pre style=\"white-space:pre;overflow-x:auto;line-height:normal;font-family:Menlo,'DejaVu Sans Mono',consolas,'Courier New',monospace\">datasets/eligibility/qa_list.json object loaded successfully\n",
       "</pre>\n"
      ],
      "text/plain": [
       "datasets/eligibility/qa_list.json object loaded successfully\n"
      ]
     },
     "metadata": {},
     "output_type": "display_data"
    },
    {
     "data": {
      "text/html": [
       "<pre style=\"white-space:pre;overflow-x:auto;line-height:normal;font-family:Menlo,'DejaVu Sans Mono',consolas,'Courier New',monospace\">datasets/eligibility/answers_cama_llama3-8b-<span style=\"color: #008080; text-decoration-color: #008080; font-weight: bold\">8192.j</span>son object loaded successfully\n",
       "</pre>\n"
      ],
      "text/plain": [
       "datasets/eligibility/answers_cama_llama3-8b-\u001b[1;36m8192.j\u001b[0mson object loaded successfully\n"
      ]
     },
     "metadata": {},
     "output_type": "display_data"
    },
    {
     "data": {
      "text/html": [
       "<pre style=\"white-space:pre;overflow-x:auto;line-height:normal;font-family:Menlo,'DejaVu Sans Mono',consolas,'Courier New',monospace\">datasets/eligibility/answers_full_prompt_llama3-8b-<span style=\"color: #008080; text-decoration-color: #008080; font-weight: bold\">8192.j</span>son object loaded successfully\n",
       "</pre>\n"
      ],
      "text/plain": [
       "datasets/eligibility/answers_full_prompt_llama3-8b-\u001b[1;36m8192.j\u001b[0mson object loaded successfully\n"
      ]
     },
     "metadata": {},
     "output_type": "display_data"
    },
    {
     "data": {
      "text/html": [
       "<pre style=\"white-space:pre;overflow-x:auto;line-height:normal;font-family:Menlo,'DejaVu Sans Mono',consolas,'Courier New',monospace\">datasets/eligibility/answers_full_prompt_cot_llama3-8b-<span style=\"color: #008080; text-decoration-color: #008080; font-weight: bold\">8192.j</span>son object loaded successfully\n",
       "</pre>\n"
      ],
      "text/plain": [
       "datasets/eligibility/answers_full_prompt_cot_llama3-8b-\u001b[1;36m8192.j\u001b[0mson object loaded successfully\n"
      ]
     },
     "metadata": {},
     "output_type": "display_data"
    },
    {
     "data": {
      "text/html": [
       "<pre style=\"white-space:pre;overflow-x:auto;line-height:normal;font-family:Menlo,'DejaVu Sans Mono',consolas,'Courier New',monospace\">datasets/eligibility/answers_reflection_llama3-8b-<span style=\"color: #008080; text-decoration-color: #008080; font-weight: bold\">8192.j</span>son object loaded successfully\n",
       "</pre>\n"
      ],
      "text/plain": [
       "datasets/eligibility/answers_reflection_llama3-8b-\u001b[1;36m8192.j\u001b[0mson object loaded successfully\n"
      ]
     },
     "metadata": {},
     "output_type": "display_data"
    },
    {
     "data": {
      "text/html": [
       "<pre style=\"white-space:pre;overflow-x:auto;line-height:normal;font-family:Menlo,'DejaVu Sans Mono',consolas,'Courier New',monospace\">datasets/eligibility/answers_react_llama3-8b-<span style=\"color: #008080; text-decoration-color: #008080; font-weight: bold\">8192.j</span>son object loaded successfully\n",
       "</pre>\n"
      ],
      "text/plain": [
       "datasets/eligibility/answers_react_llama3-8b-\u001b[1;36m8192.j\u001b[0mson object loaded successfully\n"
      ]
     },
     "metadata": {},
     "output_type": "display_data"
    },
    {
     "data": {
      "text/html": [
       "<pre style=\"white-space:pre;overflow-x:auto;line-height:normal;font-family:Menlo,'DejaVu Sans Mono',consolas,'Courier New',monospace\">datasets/eligibility/answers_self_discover_llama3-8b-<span style=\"color: #008080; text-decoration-color: #008080; font-weight: bold\">8192.j</span>son object loaded successfully\n",
       "</pre>\n"
      ],
      "text/plain": [
       "datasets/eligibility/answers_self_discover_llama3-8b-\u001b[1;36m8192.j\u001b[0mson object loaded successfully\n"
      ]
     },
     "metadata": {},
     "output_type": "display_data"
    },
    {
     "data": {
      "text/html": [
       "<pre style=\"white-space:pre;overflow-x:auto;line-height:normal;font-family:Menlo,'DejaVu Sans Mono',consolas,'Courier New',monospace\">datasets/eligibility/answers_plan_and_execute_llama3-8b-<span style=\"color: #008080; text-decoration-color: #008080; font-weight: bold\">8192.j</span>son object loaded successfully\n",
       "</pre>\n"
      ],
      "text/plain": [
       "datasets/eligibility/answers_plan_and_execute_llama3-8b-\u001b[1;36m8192.j\u001b[0mson object loaded successfully\n"
      ]
     },
     "metadata": {},
     "output_type": "display_data"
    },
    {
     "data": {
      "text/html": [
       "<pre style=\"white-space:pre;overflow-x:auto;line-height:normal;font-family:Menlo,'DejaVu Sans Mono',consolas,'Courier New',monospace\">datasets/healthcare/qa_list.json object loaded successfully\n",
       "</pre>\n"
      ],
      "text/plain": [
       "datasets/healthcare/qa_list.json object loaded successfully\n"
      ]
     },
     "metadata": {},
     "output_type": "display_data"
    },
    {
     "data": {
      "text/html": [
       "<pre style=\"white-space:pre;overflow-x:auto;line-height:normal;font-family:Menlo,'DejaVu Sans Mono',consolas,'Courier New',monospace\">datasets/healthcare/answers_cama_llama3-8b-<span style=\"color: #008080; text-decoration-color: #008080; font-weight: bold\">8192.j</span>son object loaded successfully\n",
       "</pre>\n"
      ],
      "text/plain": [
       "datasets/healthcare/answers_cama_llama3-8b-\u001b[1;36m8192.j\u001b[0mson object loaded successfully\n"
      ]
     },
     "metadata": {},
     "output_type": "display_data"
    },
    {
     "data": {
      "text/html": [
       "<pre style=\"white-space:pre;overflow-x:auto;line-height:normal;font-family:Menlo,'DejaVu Sans Mono',consolas,'Courier New',monospace\">datasets/healthcare/answers_full_prompt_llama3-8b-<span style=\"color: #008080; text-decoration-color: #008080; font-weight: bold\">8192.j</span>son object loaded successfully\n",
       "</pre>\n"
      ],
      "text/plain": [
       "datasets/healthcare/answers_full_prompt_llama3-8b-\u001b[1;36m8192.j\u001b[0mson object loaded successfully\n"
      ]
     },
     "metadata": {},
     "output_type": "display_data"
    },
    {
     "data": {
      "text/html": [
       "<pre style=\"white-space:pre;overflow-x:auto;line-height:normal;font-family:Menlo,'DejaVu Sans Mono',consolas,'Courier New',monospace\">datasets/healthcare/answers_full_prompt_cot_llama3-8b-<span style=\"color: #008080; text-decoration-color: #008080; font-weight: bold\">8192.j</span>son object loaded successfully\n",
       "</pre>\n"
      ],
      "text/plain": [
       "datasets/healthcare/answers_full_prompt_cot_llama3-8b-\u001b[1;36m8192.j\u001b[0mson object loaded successfully\n"
      ]
     },
     "metadata": {},
     "output_type": "display_data"
    },
    {
     "data": {
      "text/html": [
       "<pre style=\"white-space:pre;overflow-x:auto;line-height:normal;font-family:Menlo,'DejaVu Sans Mono',consolas,'Courier New',monospace\">datasets/healthcare/answers_reflection_llama3-8b-<span style=\"color: #008080; text-decoration-color: #008080; font-weight: bold\">8192.j</span>son object loaded successfully\n",
       "</pre>\n"
      ],
      "text/plain": [
       "datasets/healthcare/answers_reflection_llama3-8b-\u001b[1;36m8192.j\u001b[0mson object loaded successfully\n"
      ]
     },
     "metadata": {},
     "output_type": "display_data"
    },
    {
     "data": {
      "text/html": [
       "<pre style=\"white-space:pre;overflow-x:auto;line-height:normal;font-family:Menlo,'DejaVu Sans Mono',consolas,'Courier New',monospace\">datasets/healthcare/answers_react_llama3-8b-<span style=\"color: #008080; text-decoration-color: #008080; font-weight: bold\">8192.j</span>son object loaded successfully\n",
       "</pre>\n"
      ],
      "text/plain": [
       "datasets/healthcare/answers_react_llama3-8b-\u001b[1;36m8192.j\u001b[0mson object loaded successfully\n"
      ]
     },
     "metadata": {},
     "output_type": "display_data"
    },
    {
     "data": {
      "text/html": [
       "<pre style=\"white-space:pre;overflow-x:auto;line-height:normal;font-family:Menlo,'DejaVu Sans Mono',consolas,'Courier New',monospace\">datasets/healthcare/answers_self_discover_llama3-8b-<span style=\"color: #008080; text-decoration-color: #008080; font-weight: bold\">8192.j</span>son object loaded successfully\n",
       "</pre>\n"
      ],
      "text/plain": [
       "datasets/healthcare/answers_self_discover_llama3-8b-\u001b[1;36m8192.j\u001b[0mson object loaded successfully\n"
      ]
     },
     "metadata": {},
     "output_type": "display_data"
    },
    {
     "data": {
      "text/html": [
       "<pre style=\"white-space:pre;overflow-x:auto;line-height:normal;font-family:Menlo,'DejaVu Sans Mono',consolas,'Courier New',monospace\">datasets/healthcare/answers_plan_and_execute_llama3-8b-<span style=\"color: #008080; text-decoration-color: #008080; font-weight: bold\">8192.j</span>son object loaded successfully\n",
       "</pre>\n"
      ],
      "text/plain": [
       "datasets/healthcare/answers_plan_and_execute_llama3-8b-\u001b[1;36m8192.j\u001b[0mson object loaded successfully\n"
      ]
     },
     "metadata": {},
     "output_type": "display_data"
    },
    {
     "data": {
      "text/html": [
       "<pre style=\"white-space:pre;overflow-x:auto;line-height:normal;font-family:Menlo,'DejaVu Sans Mono',consolas,'Courier New',monospace\">datasets/financial/qa_list.json object loaded successfully\n",
       "</pre>\n"
      ],
      "text/plain": [
       "datasets/financial/qa_list.json object loaded successfully\n"
      ]
     },
     "metadata": {},
     "output_type": "display_data"
    },
    {
     "data": {
      "text/html": [
       "<pre style=\"white-space:pre;overflow-x:auto;line-height:normal;font-family:Menlo,'DejaVu Sans Mono',consolas,'Courier New',monospace\">datasets/financial/answers_cama_llama3-70b-<span style=\"color: #008080; text-decoration-color: #008080; font-weight: bold\">8192.j</span>son object loaded successfully\n",
       "</pre>\n"
      ],
      "text/plain": [
       "datasets/financial/answers_cama_llama3-70b-\u001b[1;36m8192.j\u001b[0mson object loaded successfully\n"
      ]
     },
     "metadata": {},
     "output_type": "display_data"
    },
    {
     "data": {
      "text/html": [
       "<pre style=\"white-space:pre;overflow-x:auto;line-height:normal;font-family:Menlo,'DejaVu Sans Mono',consolas,'Courier New',monospace\">datasets/financial/answers_full_prompt_llama3-70b-<span style=\"color: #008080; text-decoration-color: #008080; font-weight: bold\">8192.j</span>son object loaded successfully\n",
       "</pre>\n"
      ],
      "text/plain": [
       "datasets/financial/answers_full_prompt_llama3-70b-\u001b[1;36m8192.j\u001b[0mson object loaded successfully\n"
      ]
     },
     "metadata": {},
     "output_type": "display_data"
    },
    {
     "data": {
      "text/html": [
       "<pre style=\"white-space:pre;overflow-x:auto;line-height:normal;font-family:Menlo,'DejaVu Sans Mono',consolas,'Courier New',monospace\">datasets/financial/answers_full_prompt_cot_llama3-70b-<span style=\"color: #008080; text-decoration-color: #008080; font-weight: bold\">8192.j</span>son object loaded successfully\n",
       "</pre>\n"
      ],
      "text/plain": [
       "datasets/financial/answers_full_prompt_cot_llama3-70b-\u001b[1;36m8192.j\u001b[0mson object loaded successfully\n"
      ]
     },
     "metadata": {},
     "output_type": "display_data"
    },
    {
     "data": {
      "text/html": [
       "<pre style=\"white-space:pre;overflow-x:auto;line-height:normal;font-family:Menlo,'DejaVu Sans Mono',consolas,'Courier New',monospace\">datasets/financial/answers_reflection_llama3-70b-<span style=\"color: #008080; text-decoration-color: #008080; font-weight: bold\">8192.j</span>son object loaded successfully\n",
       "</pre>\n"
      ],
      "text/plain": [
       "datasets/financial/answers_reflection_llama3-70b-\u001b[1;36m8192.j\u001b[0mson object loaded successfully\n"
      ]
     },
     "metadata": {},
     "output_type": "display_data"
    },
    {
     "data": {
      "text/html": [
       "<pre style=\"white-space:pre;overflow-x:auto;line-height:normal;font-family:Menlo,'DejaVu Sans Mono',consolas,'Courier New',monospace\">datasets/financial/answers_react_llama3-70b-<span style=\"color: #008080; text-decoration-color: #008080; font-weight: bold\">8192.j</span>son object loaded successfully\n",
       "</pre>\n"
      ],
      "text/plain": [
       "datasets/financial/answers_react_llama3-70b-\u001b[1;36m8192.j\u001b[0mson object loaded successfully\n"
      ]
     },
     "metadata": {},
     "output_type": "display_data"
    },
    {
     "data": {
      "text/html": [
       "<pre style=\"white-space:pre;overflow-x:auto;line-height:normal;font-family:Menlo,'DejaVu Sans Mono',consolas,'Courier New',monospace\">datasets/financial/answers_self_discover_llama3-70b-<span style=\"color: #008080; text-decoration-color: #008080; font-weight: bold\">8192.j</span>son object loaded successfully\n",
       "</pre>\n"
      ],
      "text/plain": [
       "datasets/financial/answers_self_discover_llama3-70b-\u001b[1;36m8192.j\u001b[0mson object loaded successfully\n"
      ]
     },
     "metadata": {},
     "output_type": "display_data"
    },
    {
     "data": {
      "text/html": [
       "<pre style=\"white-space:pre;overflow-x:auto;line-height:normal;font-family:Menlo,'DejaVu Sans Mono',consolas,'Courier New',monospace\">datasets/financial/answers_plan_and_execute_llama3-70b-<span style=\"color: #008080; text-decoration-color: #008080; font-weight: bold\">8192.j</span>son object loaded successfully\n",
       "</pre>\n"
      ],
      "text/plain": [
       "datasets/financial/answers_plan_and_execute_llama3-70b-\u001b[1;36m8192.j\u001b[0mson object loaded successfully\n"
      ]
     },
     "metadata": {},
     "output_type": "display_data"
    },
    {
     "data": {
      "text/html": [
       "<pre style=\"white-space:pre;overflow-x:auto;line-height:normal;font-family:Menlo,'DejaVu Sans Mono',consolas,'Courier New',monospace\">datasets/eligibility/qa_list.json object loaded successfully\n",
       "</pre>\n"
      ],
      "text/plain": [
       "datasets/eligibility/qa_list.json object loaded successfully\n"
      ]
     },
     "metadata": {},
     "output_type": "display_data"
    },
    {
     "data": {
      "text/html": [
       "<pre style=\"white-space:pre;overflow-x:auto;line-height:normal;font-family:Menlo,'DejaVu Sans Mono',consolas,'Courier New',monospace\">datasets/eligibility/answers_cama_llama3-70b-<span style=\"color: #008080; text-decoration-color: #008080; font-weight: bold\">8192.j</span>son object loaded successfully\n",
       "</pre>\n"
      ],
      "text/plain": [
       "datasets/eligibility/answers_cama_llama3-70b-\u001b[1;36m8192.j\u001b[0mson object loaded successfully\n"
      ]
     },
     "metadata": {},
     "output_type": "display_data"
    },
    {
     "data": {
      "text/html": [
       "<pre style=\"white-space:pre;overflow-x:auto;line-height:normal;font-family:Menlo,'DejaVu Sans Mono',consolas,'Courier New',monospace\">datasets/eligibility/answers_full_prompt_llama3-70b-<span style=\"color: #008080; text-decoration-color: #008080; font-weight: bold\">8192.j</span>son object loaded successfully\n",
       "</pre>\n"
      ],
      "text/plain": [
       "datasets/eligibility/answers_full_prompt_llama3-70b-\u001b[1;36m8192.j\u001b[0mson object loaded successfully\n"
      ]
     },
     "metadata": {},
     "output_type": "display_data"
    },
    {
     "data": {
      "text/html": [
       "<pre style=\"white-space:pre;overflow-x:auto;line-height:normal;font-family:Menlo,'DejaVu Sans Mono',consolas,'Courier New',monospace\">datasets/eligibility/answers_full_prompt_cot_llama3-70b-<span style=\"color: #008080; text-decoration-color: #008080; font-weight: bold\">8192.j</span>son object loaded successfully\n",
       "</pre>\n"
      ],
      "text/plain": [
       "datasets/eligibility/answers_full_prompt_cot_llama3-70b-\u001b[1;36m8192.j\u001b[0mson object loaded successfully\n"
      ]
     },
     "metadata": {},
     "output_type": "display_data"
    },
    {
     "data": {
      "text/html": [
       "<pre style=\"white-space:pre;overflow-x:auto;line-height:normal;font-family:Menlo,'DejaVu Sans Mono',consolas,'Courier New',monospace\">datasets/eligibility/answers_reflection_llama3-70b-<span style=\"color: #008080; text-decoration-color: #008080; font-weight: bold\">8192.j</span>son object loaded successfully\n",
       "</pre>\n"
      ],
      "text/plain": [
       "datasets/eligibility/answers_reflection_llama3-70b-\u001b[1;36m8192.j\u001b[0mson object loaded successfully\n"
      ]
     },
     "metadata": {},
     "output_type": "display_data"
    },
    {
     "data": {
      "text/html": [
       "<pre style=\"white-space:pre;overflow-x:auto;line-height:normal;font-family:Menlo,'DejaVu Sans Mono',consolas,'Courier New',monospace\">datasets/eligibility/answers_react_llama3-70b-<span style=\"color: #008080; text-decoration-color: #008080; font-weight: bold\">8192.j</span>son object loaded successfully\n",
       "</pre>\n"
      ],
      "text/plain": [
       "datasets/eligibility/answers_react_llama3-70b-\u001b[1;36m8192.j\u001b[0mson object loaded successfully\n"
      ]
     },
     "metadata": {},
     "output_type": "display_data"
    },
    {
     "data": {
      "text/html": [
       "<pre style=\"white-space:pre;overflow-x:auto;line-height:normal;font-family:Menlo,'DejaVu Sans Mono',consolas,'Courier New',monospace\">datasets/eligibility/answers_self_discover_llama3-70b-<span style=\"color: #008080; text-decoration-color: #008080; font-weight: bold\">8192.j</span>son object loaded successfully\n",
       "</pre>\n"
      ],
      "text/plain": [
       "datasets/eligibility/answers_self_discover_llama3-70b-\u001b[1;36m8192.j\u001b[0mson object loaded successfully\n"
      ]
     },
     "metadata": {},
     "output_type": "display_data"
    },
    {
     "data": {
      "text/html": [
       "<pre style=\"white-space:pre;overflow-x:auto;line-height:normal;font-family:Menlo,'DejaVu Sans Mono',consolas,'Courier New',monospace\">datasets/eligibility/answers_plan_and_execute_llama3-70b-<span style=\"color: #008080; text-decoration-color: #008080; font-weight: bold\">8192.j</span>son object loaded successfully\n",
       "</pre>\n"
      ],
      "text/plain": [
       "datasets/eligibility/answers_plan_and_execute_llama3-70b-\u001b[1;36m8192.j\u001b[0mson object loaded successfully\n"
      ]
     },
     "metadata": {},
     "output_type": "display_data"
    },
    {
     "data": {
      "text/html": [
       "<pre style=\"white-space:pre;overflow-x:auto;line-height:normal;font-family:Menlo,'DejaVu Sans Mono',consolas,'Courier New',monospace\">datasets/healthcare/qa_list.json object loaded successfully\n",
       "</pre>\n"
      ],
      "text/plain": [
       "datasets/healthcare/qa_list.json object loaded successfully\n"
      ]
     },
     "metadata": {},
     "output_type": "display_data"
    },
    {
     "data": {
      "text/html": [
       "<pre style=\"white-space:pre;overflow-x:auto;line-height:normal;font-family:Menlo,'DejaVu Sans Mono',consolas,'Courier New',monospace\">datasets/healthcare/answers_cama_llama3-70b-<span style=\"color: #008080; text-decoration-color: #008080; font-weight: bold\">8192.j</span>son object loaded successfully\n",
       "</pre>\n"
      ],
      "text/plain": [
       "datasets/healthcare/answers_cama_llama3-70b-\u001b[1;36m8192.j\u001b[0mson object loaded successfully\n"
      ]
     },
     "metadata": {},
     "output_type": "display_data"
    },
    {
     "data": {
      "text/html": [
       "<pre style=\"white-space:pre;overflow-x:auto;line-height:normal;font-family:Menlo,'DejaVu Sans Mono',consolas,'Courier New',monospace\">datasets/healthcare/answers_full_prompt_llama3-70b-<span style=\"color: #008080; text-decoration-color: #008080; font-weight: bold\">8192.j</span>son object loaded successfully\n",
       "</pre>\n"
      ],
      "text/plain": [
       "datasets/healthcare/answers_full_prompt_llama3-70b-\u001b[1;36m8192.j\u001b[0mson object loaded successfully\n"
      ]
     },
     "metadata": {},
     "output_type": "display_data"
    },
    {
     "data": {
      "text/html": [
       "<pre style=\"white-space:pre;overflow-x:auto;line-height:normal;font-family:Menlo,'DejaVu Sans Mono',consolas,'Courier New',monospace\">datasets/healthcare/answers_full_prompt_cot_llama3-70b-<span style=\"color: #008080; text-decoration-color: #008080; font-weight: bold\">8192.j</span>son object loaded successfully\n",
       "</pre>\n"
      ],
      "text/plain": [
       "datasets/healthcare/answers_full_prompt_cot_llama3-70b-\u001b[1;36m8192.j\u001b[0mson object loaded successfully\n"
      ]
     },
     "metadata": {},
     "output_type": "display_data"
    },
    {
     "data": {
      "text/html": [
       "<pre style=\"white-space:pre;overflow-x:auto;line-height:normal;font-family:Menlo,'DejaVu Sans Mono',consolas,'Courier New',monospace\">datasets/healthcare/answers_reflection_llama3-70b-<span style=\"color: #008080; text-decoration-color: #008080; font-weight: bold\">8192.j</span>son object loaded successfully\n",
       "</pre>\n"
      ],
      "text/plain": [
       "datasets/healthcare/answers_reflection_llama3-70b-\u001b[1;36m8192.j\u001b[0mson object loaded successfully\n"
      ]
     },
     "metadata": {},
     "output_type": "display_data"
    },
    {
     "data": {
      "text/html": [
       "<pre style=\"white-space:pre;overflow-x:auto;line-height:normal;font-family:Menlo,'DejaVu Sans Mono',consolas,'Courier New',monospace\">datasets/healthcare/answers_react_llama3-70b-<span style=\"color: #008080; text-decoration-color: #008080; font-weight: bold\">8192.j</span>son object loaded successfully\n",
       "</pre>\n"
      ],
      "text/plain": [
       "datasets/healthcare/answers_react_llama3-70b-\u001b[1;36m8192.j\u001b[0mson object loaded successfully\n"
      ]
     },
     "metadata": {},
     "output_type": "display_data"
    },
    {
     "data": {
      "text/html": [
       "<pre style=\"white-space:pre;overflow-x:auto;line-height:normal;font-family:Menlo,'DejaVu Sans Mono',consolas,'Courier New',monospace\">datasets/healthcare/answers_self_discover_llama3-70b-<span style=\"color: #008080; text-decoration-color: #008080; font-weight: bold\">8192.j</span>son object loaded successfully\n",
       "</pre>\n"
      ],
      "text/plain": [
       "datasets/healthcare/answers_self_discover_llama3-70b-\u001b[1;36m8192.j\u001b[0mson object loaded successfully\n"
      ]
     },
     "metadata": {},
     "output_type": "display_data"
    },
    {
     "data": {
      "text/html": [
       "<pre style=\"white-space:pre;overflow-x:auto;line-height:normal;font-family:Menlo,'DejaVu Sans Mono',consolas,'Courier New',monospace\">datasets/healthcare/answers_plan_and_execute_llama3-70b-<span style=\"color: #008080; text-decoration-color: #008080; font-weight: bold\">8192.j</span>son object loaded successfully\n",
       "</pre>\n"
      ],
      "text/plain": [
       "datasets/healthcare/answers_plan_and_execute_llama3-70b-\u001b[1;36m8192.j\u001b[0mson object loaded successfully\n"
      ]
     },
     "metadata": {},
     "output_type": "display_data"
    },
    {
     "data": {
      "text/html": [
       "<div>\n",
       "<style scoped>\n",
       "    .dataframe tbody tr th:only-of-type {\n",
       "        vertical-align: middle;\n",
       "    }\n",
       "\n",
       "    .dataframe tbody tr th {\n",
       "        vertical-align: top;\n",
       "    }\n",
       "\n",
       "    .dataframe thead th {\n",
       "        text-align: right;\n",
       "    }\n",
       "</style>\n",
       "<table border=\"1\" class=\"dataframe\">\n",
       "  <thead>\n",
       "    <tr style=\"text-align: right;\">\n",
       "      <th></th>\n",
       "      <th>LLM</th>\n",
       "      <th>cama</th>\n",
       "      <th>full_prompt</th>\n",
       "      <th>full_prompt_cot</th>\n",
       "      <th>reflection</th>\n",
       "      <th>react</th>\n",
       "      <th>self_discover</th>\n",
       "      <th>plan_and_execute</th>\n",
       "    </tr>\n",
       "  </thead>\n",
       "  <tbody>\n",
       "    <tr>\n",
       "      <th>0</th>\n",
       "      <td>llama3.2-1b</td>\n",
       "      <td>{'accuracy': 55.56, 'error': 11.53, 'unknown':...</td>\n",
       "      <td>{'accuracy': 23.08, 'error': 17.89, 'unknown':...</td>\n",
       "      <td>{'accuracy': 13.68, 'error': 6.73, 'unknown': ...</td>\n",
       "      <td>{'accuracy': 24.79, 'error': 8.46, 'unknown': ...</td>\n",
       "      <td>{'accuracy': 27.35, 'error': 24.27, 'unknown':...</td>\n",
       "      <td>{'accuracy': 21.37, 'error': 16.26, 'unknown':...</td>\n",
       "      <td>{'accuracy': 19.66, 'error': 13.94, 'unknown':...</td>\n",
       "    </tr>\n",
       "    <tr>\n",
       "      <th>1</th>\n",
       "      <td>llama3-8b</td>\n",
       "      <td>{'accuracy': 90.6, 'error': 3.2, 'unknown': 0.85}</td>\n",
       "      <td>{'accuracy': 28.21, 'error': 9.59, 'unknown': ...</td>\n",
       "      <td>{'accuracy': 19.66, 'error': 15.71, 'unknown':...</td>\n",
       "      <td>{'accuracy': 28.21, 'error': 16.75, 'unknown':...</td>\n",
       "      <td>{'accuracy': 9.4, 'error': 4.36, 'unknown': 89...</td>\n",
       "      <td>{'accuracy': 22.22, 'error': 18.05, 'unknown':...</td>\n",
       "      <td>{'accuracy': 46.15, 'error': 21.25, 'unknown':...</td>\n",
       "    </tr>\n",
       "    <tr>\n",
       "      <th>2</th>\n",
       "      <td>llama3-70b</td>\n",
       "      <td>{'accuracy': 92.31, 'error': 2.09, 'unknown': ...</td>\n",
       "      <td>{'accuracy': 49.57, 'error': 24.8, 'unknown': ...</td>\n",
       "      <td>{'accuracy': 58.97, 'error': 12.73, 'unknown':...</td>\n",
       "      <td>{'accuracy': 58.97, 'error': 12.73, 'unknown':...</td>\n",
       "      <td>{'accuracy': 12.82, 'error': 6.28, 'unknown': ...</td>\n",
       "      <td>{'accuracy': 28.21, 'error': 11.66, 'unknown':...</td>\n",
       "      <td>{'accuracy': 45.3, 'error': 8.46, 'unknown': 5...</td>\n",
       "    </tr>\n",
       "    <tr>\n",
       "      <th>3</th>\n",
       "      <td>Min</td>\n",
       "      <td>{'tokens': 19135, 'time': 5.23}</td>\n",
       "      <td>{'tokens': 4039, 'time': 1.1}</td>\n",
       "      <td>{'tokens': 3861, 'time': 1.98}</td>\n",
       "      <td>{'tokens': 9965, 'time': 11.65}</td>\n",
       "      <td>{'tokens': 5738, 'time': 6.62}</td>\n",
       "      <td>{'tokens': 17344, 'time': 22.75}</td>\n",
       "      <td>{'tokens': 23706, 'time': 38.26}</td>\n",
       "    </tr>\n",
       "  </tbody>\n",
       "</table>\n",
       "</div>"
      ],
      "text/plain": [
       "           LLM                                               cama  \\\n",
       "0  llama3.2-1b  {'accuracy': 55.56, 'error': 11.53, 'unknown':...   \n",
       "1    llama3-8b  {'accuracy': 90.6, 'error': 3.2, 'unknown': 0.85}   \n",
       "2   llama3-70b  {'accuracy': 92.31, 'error': 2.09, 'unknown': ...   \n",
       "3          Min                    {'tokens': 19135, 'time': 5.23}   \n",
       "\n",
       "                                         full_prompt  \\\n",
       "0  {'accuracy': 23.08, 'error': 17.89, 'unknown':...   \n",
       "1  {'accuracy': 28.21, 'error': 9.59, 'unknown': ...   \n",
       "2  {'accuracy': 49.57, 'error': 24.8, 'unknown': ...   \n",
       "3                      {'tokens': 4039, 'time': 1.1}   \n",
       "\n",
       "                                     full_prompt_cot  \\\n",
       "0  {'accuracy': 13.68, 'error': 6.73, 'unknown': ...   \n",
       "1  {'accuracy': 19.66, 'error': 15.71, 'unknown':...   \n",
       "2  {'accuracy': 58.97, 'error': 12.73, 'unknown':...   \n",
       "3                     {'tokens': 3861, 'time': 1.98}   \n",
       "\n",
       "                                          reflection  \\\n",
       "0  {'accuracy': 24.79, 'error': 8.46, 'unknown': ...   \n",
       "1  {'accuracy': 28.21, 'error': 16.75, 'unknown':...   \n",
       "2  {'accuracy': 58.97, 'error': 12.73, 'unknown':...   \n",
       "3                    {'tokens': 9965, 'time': 11.65}   \n",
       "\n",
       "                                               react  \\\n",
       "0  {'accuracy': 27.35, 'error': 24.27, 'unknown':...   \n",
       "1  {'accuracy': 9.4, 'error': 4.36, 'unknown': 89...   \n",
       "2  {'accuracy': 12.82, 'error': 6.28, 'unknown': ...   \n",
       "3                     {'tokens': 5738, 'time': 6.62}   \n",
       "\n",
       "                                       self_discover  \\\n",
       "0  {'accuracy': 21.37, 'error': 16.26, 'unknown':...   \n",
       "1  {'accuracy': 22.22, 'error': 18.05, 'unknown':...   \n",
       "2  {'accuracy': 28.21, 'error': 11.66, 'unknown':...   \n",
       "3                   {'tokens': 17344, 'time': 22.75}   \n",
       "\n",
       "                                    plan_and_execute  \n",
       "0  {'accuracy': 19.66, 'error': 13.94, 'unknown':...  \n",
       "1  {'accuracy': 46.15, 'error': 21.25, 'unknown':...  \n",
       "2  {'accuracy': 45.3, 'error': 8.46, 'unknown': 5...  \n",
       "3                   {'tokens': 23706, 'time': 38.26}  "
      ]
     },
     "execution_count": 47,
     "metadata": {},
     "output_type": "execute_result"
    }
   ],
   "source": [
    "import json\n",
    "import pandas as pd\n",
    "import numpy as np\n",
    "from cama.utils import evaluate_answers_with_unknowns, load_from_json\n",
    "\n",
    "# List of datasets and LLM names\n",
    "datasets = [\"financial\", \"eligibility\", \"healthcare\"]\n",
    "methods = [\"cama\", \"full_prompt\", \"full_prompt_cot\", \"reflection\", \"react\", \"self_discover\", \"plan_and_execute\"]\n",
    "\n",
    "# Dictionary to store results across all datasets for both llama3-8b and llama3-70b\n",
    "all_results = {\"llama3.2-1b\": {method: [] for method in methods},\n",
    "                \"llama3-8b\": {method: [] for method in methods},\n",
    "               \"llama3-70b\": {method: [] for method in methods}}\n",
    "\n",
    "# Mapping of full LLM names to short keys for the dictionary\n",
    "llm_name_mapping = {\n",
    "    \"llama-3.2-1b-preview\": \"llama3.2-1b\",\n",
    "    \"llama3-8b-8192\": \"llama3-8b\",\n",
    "    \"llama3-70b-8192\": \"llama3-70b\"\n",
    "}\n",
    "\n",
    "# Loop through each dataset for both LLMs\n",
    "llm_names = [\"llama-3.2-1b-preview\", \"llama3-8b-8192\", \"llama3-70b-8192\"]\n",
    "for llm_name in llm_names:\n",
    "    for dataset_folder in datasets:\n",
    "        # Load the question-answer list\n",
    "        qa_list = load_from_json(f'datasets/{dataset_folder}/qa_list.json')\n",
    "\n",
    "        for method in methods:\n",
    "            answers_method_filename = f'datasets/{dataset_folder}/answers_{method}_{llm_name}.json'\n",
    "            answers = load_from_json(answers_method_filename)\n",
    "\n",
    "            # Load metadata\n",
    "            metadata_filename = f'datasets/{dataset_folder}/metadata_{method}_{llm_name}.json'\n",
    "            with open(metadata_filename, 'r') as f:\n",
    "                metadata = json.load(f)\n",
    "\n",
    "            # Calculate accuracy and unknown ratio\n",
    "            accuracy_score, unknown_ratio = evaluate_answers_with_unknowns(qa_list, answers)\n",
    "\n",
    "            # Ensure correct types for numeric values\n",
    "            all_results[llm_name_mapping[llm_name]][method].append({\n",
    "                \"accuracy_score\": float(accuracy_score),\n",
    "                \"unknown_ratio\": float(unknown_ratio),\n",
    "                \"total_tokens\": int(metadata[\"total_tokens\"]),\n",
    "                \"elapsed_time\": float(metadata[\"elapsed_time\"])\n",
    "            })\n",
    "\n",
    "# Prepare final data to reshape into the desired format\n",
    "reshaped_data = []\n",
    "min_data = []\n",
    "\n",
    "for llm in [\"llama3.2-1b\", \"llama3-8b\", \"llama3-70b\"]:\n",
    "    row = {\"LLM\": llm}\n",
    "    for method in methods:\n",
    "        results = all_results[llm][method]\n",
    "\n",
    "        # Calculate mean and standard deviation (error) for accuracy\n",
    "        accuracy_mean = np.mean([result[\"accuracy_score\"] for result in results])\n",
    "        accuracy_std = np.std([result[\"accuracy_score\"] for result in results])  # error\n",
    "        unknown_mean = np.mean([result[\"unknown_ratio\"] for result in results])\n",
    "        tokens_mean = np.mean([result[\"total_tokens\"] for result in results])\n",
    "        time_mean = np.mean([result[\"elapsed_time\"] for result in results])\n",
    "\n",
    "        # Store the metrics in a dictionary (excluding tokens and time)\n",
    "        row[method] = {\n",
    "            \"accuracy\": round(accuracy_mean, 2),\n",
    "            \"error\": round(accuracy_std, 2),  # Add standard deviation (error) for accuracy\n",
    "            \"unknown\": round(unknown_mean, 2)\n",
    "        }\n",
    "\n",
    "        # Append tokens and time for min calculation\n",
    "        min_data.append({\n",
    "            \"method\": method,\n",
    "            \"llm\": llm,\n",
    "            \"tokens\": tokens_mean,\n",
    "            \"time\": time_mean\n",
    "        })\n",
    "    \n",
    "    reshaped_data.append(row)\n",
    "\n",
    "# Calculate the minimum tokens and time for each method across LLMs\n",
    "min_row = {\"LLM\": \"Min\"}\n",
    "\n",
    "for method in methods:\n",
    "    # Filter data for each method\n",
    "    method_data = [entry for entry in min_data if entry[\"method\"] == method]\n",
    "    \n",
    "    # Calculate min tokens and min time for this method\n",
    "    min_tokens = min([entry[\"tokens\"] for entry in method_data])\n",
    "    min_time = min([entry[\"time\"] for entry in method_data])\n",
    "\n",
    "    # Add min tokens and min time to the row for this method\n",
    "    min_row[method] = {\n",
    "        \"tokens\": round(min_tokens),\n",
    "        \"time\": round(min_time, 2)\n",
    "    }\n",
    "\n",
    "reshaped_data.append(min_row)\n",
    "\n",
    "# Convert to a dataframe\n",
    "df_reshaped = pd.DataFrame(reshaped_data)\n",
    "\n",
    "df_reshaped\n",
    "# Display the reshaped dataframe\n",
    "# import ace_tools as tools; tools.display_dataframe_to_user(name=\"Reshaped Results with Min Tokens, Time, and Accuracy Error\", dataframe=df_reshaped)\n"
   ]
  },
  {
   "cell_type": "markdown",
   "metadata": {},
   "source": [
    "# Latex table"
   ]
  },
  {
   "cell_type": "code",
   "execution_count": 12,
   "metadata": {},
   "outputs": [
    {
     "data": {
      "text/html": [
       "<pre style=\"white-space:pre;overflow-x:auto;line-height:normal;font-family:Menlo,'DejaVu Sans Mono',consolas,'Courier New',monospace\">datasets/healthcare/qa_list.json object loaded successfully\n",
       "</pre>\n"
      ],
      "text/plain": [
       "datasets/healthcare/qa_list.json object loaded successfully\n"
      ]
     },
     "metadata": {},
     "output_type": "display_data"
    },
    {
     "data": {
      "text/html": [
       "<pre style=\"white-space:pre;overflow-x:auto;line-height:normal;font-family:Menlo,'DejaVu Sans Mono',consolas,'Courier New',monospace\">datasets/healthcare/answers_full_prompt_llama3-8b-<span style=\"color: #008080; text-decoration-color: #008080; font-weight: bold\">8192.j</span>son object loaded successfully\n",
       "</pre>\n"
      ],
      "text/plain": [
       "datasets/healthcare/answers_full_prompt_llama3-8b-\u001b[1;36m8192.j\u001b[0mson object loaded successfully\n"
      ]
     },
     "metadata": {},
     "output_type": "display_data"
    },
    {
     "data": {
      "text/html": [
       "<pre style=\"white-space:pre;overflow-x:auto;line-height:normal;font-family:Menlo,'DejaVu Sans Mono',consolas,'Courier New',monospace\">datasets/healthcare/answers_full_prompt_cot_llama3-8b-<span style=\"color: #008080; text-decoration-color: #008080; font-weight: bold\">8192.j</span>son object loaded successfully\n",
       "</pre>\n"
      ],
      "text/plain": [
       "datasets/healthcare/answers_full_prompt_cot_llama3-8b-\u001b[1;36m8192.j\u001b[0mson object loaded successfully\n"
      ]
     },
     "metadata": {},
     "output_type": "display_data"
    },
    {
     "data": {
      "text/html": [
       "<pre style=\"white-space:pre;overflow-x:auto;line-height:normal;font-family:Menlo,'DejaVu Sans Mono',consolas,'Courier New',monospace\">datasets/healthcare/answers_reflection_report_llama3-8b-<span style=\"color: #008080; text-decoration-color: #008080; font-weight: bold\">8192.j</span>son object loaded successfully\n",
       "</pre>\n"
      ],
      "text/plain": [
       "datasets/healthcare/answers_reflection_report_llama3-8b-\u001b[1;36m8192.j\u001b[0mson object loaded successfully\n"
      ]
     },
     "metadata": {},
     "output_type": "display_data"
    },
    {
     "data": {
      "text/html": [
       "<pre style=\"white-space:pre;overflow-x:auto;line-height:normal;font-family:Menlo,'DejaVu Sans Mono',consolas,'Courier New',monospace\">datasets/healthcare/answers_react_report_llama3-8b-<span style=\"color: #008080; text-decoration-color: #008080; font-weight: bold\">8192.j</span>son object loaded successfully\n",
       "</pre>\n"
      ],
      "text/plain": [
       "datasets/healthcare/answers_react_report_llama3-8b-\u001b[1;36m8192.j\u001b[0mson object loaded successfully\n"
      ]
     },
     "metadata": {},
     "output_type": "display_data"
    },
    {
     "data": {
      "text/html": [
       "<pre style=\"white-space:pre;overflow-x:auto;line-height:normal;font-family:Menlo,'DejaVu Sans Mono',consolas,'Courier New',monospace\">datasets/healthcare/answers_self_discover_report_llama3-8b-<span style=\"color: #008080; text-decoration-color: #008080; font-weight: bold\">8192.j</span>son object loaded successfully\n",
       "</pre>\n"
      ],
      "text/plain": [
       "datasets/healthcare/answers_self_discover_report_llama3-8b-\u001b[1;36m8192.j\u001b[0mson object loaded successfully\n"
      ]
     },
     "metadata": {},
     "output_type": "display_data"
    },
    {
     "data": {
      "text/html": [
       "<pre style=\"white-space:pre;overflow-x:auto;line-height:normal;font-family:Menlo,'DejaVu Sans Mono',consolas,'Courier New',monospace\">datasets/healthcare/answers_plan_and_execute_report_llama3-8b-<span style=\"color: #008080; text-decoration-color: #008080; font-weight: bold\">8192.j</span>son object loaded successfully\n",
       "</pre>\n"
      ],
      "text/plain": [
       "datasets/healthcare/answers_plan_and_execute_report_llama3-8b-\u001b[1;36m8192.j\u001b[0mson object loaded successfully\n"
      ]
     },
     "metadata": {},
     "output_type": "display_data"
    },
    {
     "data": {
      "text/html": [
       "<pre style=\"white-space:pre;overflow-x:auto;line-height:normal;font-family:Menlo,'DejaVu Sans Mono',consolas,'Courier New',monospace\">datasets/healthcare/answers_cama_agent_llama3-8b-<span style=\"color: #008080; text-decoration-color: #008080; font-weight: bold\">8192.j</span>son object loaded successfully\n",
       "</pre>\n"
      ],
      "text/plain": [
       "datasets/healthcare/answers_cama_agent_llama3-8b-\u001b[1;36m8192.j\u001b[0mson object loaded successfully\n"
      ]
     },
     "metadata": {},
     "output_type": "display_data"
    },
    {
     "data": {
      "text/html": [
       "<pre style=\"white-space:pre;overflow-x:auto;line-height:normal;font-family:Menlo,'DejaVu Sans Mono',consolas,'Courier New',monospace\">eligibility_dataset/qa_list.json object loaded successfully\n",
       "</pre>\n"
      ],
      "text/plain": [
       "eligibility_dataset/qa_list.json object loaded successfully\n"
      ]
     },
     "metadata": {},
     "output_type": "display_data"
    },
    {
     "data": {
      "text/html": [
       "<pre style=\"white-space:pre;overflow-x:auto;line-height:normal;font-family:Menlo,'DejaVu Sans Mono',consolas,'Courier New',monospace\">eligibility_dataset/answers_full_prompt_llama3-8b-<span style=\"color: #008080; text-decoration-color: #008080; font-weight: bold\">8192.j</span>son object loaded successfully\n",
       "</pre>\n"
      ],
      "text/plain": [
       "eligibility_dataset/answers_full_prompt_llama3-8b-\u001b[1;36m8192.j\u001b[0mson object loaded successfully\n"
      ]
     },
     "metadata": {},
     "output_type": "display_data"
    },
    {
     "data": {
      "text/html": [
       "<pre style=\"white-space:pre;overflow-x:auto;line-height:normal;font-family:Menlo,'DejaVu Sans Mono',consolas,'Courier New',monospace\">eligibility_dataset/answers_full_prompt_cot_llama3-8b-<span style=\"color: #008080; text-decoration-color: #008080; font-weight: bold\">8192.j</span>son object loaded successfully\n",
       "</pre>\n"
      ],
      "text/plain": [
       "eligibility_dataset/answers_full_prompt_cot_llama3-8b-\u001b[1;36m8192.j\u001b[0mson object loaded successfully\n"
      ]
     },
     "metadata": {},
     "output_type": "display_data"
    },
    {
     "data": {
      "text/html": [
       "<pre style=\"white-space:pre;overflow-x:auto;line-height:normal;font-family:Menlo,'DejaVu Sans Mono',consolas,'Courier New',monospace\">eligibility_dataset/answers_reflection_report_llama3-8b-<span style=\"color: #008080; text-decoration-color: #008080; font-weight: bold\">8192.j</span>son object loaded successfully\n",
       "</pre>\n"
      ],
      "text/plain": [
       "eligibility_dataset/answers_reflection_report_llama3-8b-\u001b[1;36m8192.j\u001b[0mson object loaded successfully\n"
      ]
     },
     "metadata": {},
     "output_type": "display_data"
    },
    {
     "data": {
      "text/html": [
       "<pre style=\"white-space:pre;overflow-x:auto;line-height:normal;font-family:Menlo,'DejaVu Sans Mono',consolas,'Courier New',monospace\">eligibility_dataset/answers_react_report_llama3-8b-<span style=\"color: #008080; text-decoration-color: #008080; font-weight: bold\">8192.j</span>son object loaded successfully\n",
       "</pre>\n"
      ],
      "text/plain": [
       "eligibility_dataset/answers_react_report_llama3-8b-\u001b[1;36m8192.j\u001b[0mson object loaded successfully\n"
      ]
     },
     "metadata": {},
     "output_type": "display_data"
    },
    {
     "data": {
      "text/html": [
       "<pre style=\"white-space:pre;overflow-x:auto;line-height:normal;font-family:Menlo,'DejaVu Sans Mono',consolas,'Courier New',monospace\">eligibility_dataset/answers_self_discover_report_llama3-8b-<span style=\"color: #008080; text-decoration-color: #008080; font-weight: bold\">8192.j</span>son object loaded successfully\n",
       "</pre>\n"
      ],
      "text/plain": [
       "eligibility_dataset/answers_self_discover_report_llama3-8b-\u001b[1;36m8192.j\u001b[0mson object loaded successfully\n"
      ]
     },
     "metadata": {},
     "output_type": "display_data"
    },
    {
     "data": {
      "text/html": [
       "<pre style=\"white-space:pre;overflow-x:auto;line-height:normal;font-family:Menlo,'DejaVu Sans Mono',consolas,'Courier New',monospace\">eligibility_dataset/answers_plan_and_execute_report_llama3-8b-<span style=\"color: #008080; text-decoration-color: #008080; font-weight: bold\">8192.j</span>son object loaded successfully\n",
       "</pre>\n"
      ],
      "text/plain": [
       "eligibility_dataset/answers_plan_and_execute_report_llama3-8b-\u001b[1;36m8192.j\u001b[0mson object loaded successfully\n"
      ]
     },
     "metadata": {},
     "output_type": "display_data"
    },
    {
     "data": {
      "text/html": [
       "<pre style=\"white-space:pre;overflow-x:auto;line-height:normal;font-family:Menlo,'DejaVu Sans Mono',consolas,'Courier New',monospace\">eligibility_dataset/answers_cama_agent_llama3-8b-<span style=\"color: #008080; text-decoration-color: #008080; font-weight: bold\">8192.j</span>son object loaded successfully\n",
       "</pre>\n"
      ],
      "text/plain": [
       "eligibility_dataset/answers_cama_agent_llama3-8b-\u001b[1;36m8192.j\u001b[0mson object loaded successfully\n"
      ]
     },
     "metadata": {},
     "output_type": "display_data"
    },
    {
     "data": {
      "text/html": [
       "<pre style=\"white-space:pre;overflow-x:auto;line-height:normal;font-family:Menlo,'DejaVu Sans Mono',consolas,'Courier New',monospace\">datasets/financial/qa_list.json object loaded successfully\n",
       "</pre>\n"
      ],
      "text/plain": [
       "datasets/financial/qa_list.json object loaded successfully\n"
      ]
     },
     "metadata": {},
     "output_type": "display_data"
    },
    {
     "data": {
      "text/html": [
       "<pre style=\"white-space:pre;overflow-x:auto;line-height:normal;font-family:Menlo,'DejaVu Sans Mono',consolas,'Courier New',monospace\">datasets/financial/answers_full_prompt_llama3-8b-<span style=\"color: #008080; text-decoration-color: #008080; font-weight: bold\">8192.j</span>son object loaded successfully\n",
       "</pre>\n"
      ],
      "text/plain": [
       "datasets/financial/answers_full_prompt_llama3-8b-\u001b[1;36m8192.j\u001b[0mson object loaded successfully\n"
      ]
     },
     "metadata": {},
     "output_type": "display_data"
    },
    {
     "data": {
      "text/html": [
       "<pre style=\"white-space:pre;overflow-x:auto;line-height:normal;font-family:Menlo,'DejaVu Sans Mono',consolas,'Courier New',monospace\">datasets/financial/answers_full_prompt_cot_llama3-8b-<span style=\"color: #008080; text-decoration-color: #008080; font-weight: bold\">8192.j</span>son object loaded successfully\n",
       "</pre>\n"
      ],
      "text/plain": [
       "datasets/financial/answers_full_prompt_cot_llama3-8b-\u001b[1;36m8192.j\u001b[0mson object loaded successfully\n"
      ]
     },
     "metadata": {},
     "output_type": "display_data"
    },
    {
     "data": {
      "text/html": [
       "<pre style=\"white-space:pre;overflow-x:auto;line-height:normal;font-family:Menlo,'DejaVu Sans Mono',consolas,'Courier New',monospace\">datasets/financial/answers_reflection_report_llama3-8b-<span style=\"color: #008080; text-decoration-color: #008080; font-weight: bold\">8192.j</span>son object loaded successfully\n",
       "</pre>\n"
      ],
      "text/plain": [
       "datasets/financial/answers_reflection_report_llama3-8b-\u001b[1;36m8192.j\u001b[0mson object loaded successfully\n"
      ]
     },
     "metadata": {},
     "output_type": "display_data"
    },
    {
     "data": {
      "text/html": [
       "<pre style=\"white-space:pre;overflow-x:auto;line-height:normal;font-family:Menlo,'DejaVu Sans Mono',consolas,'Courier New',monospace\">datasets/financial/answers_react_report_llama3-8b-<span style=\"color: #008080; text-decoration-color: #008080; font-weight: bold\">8192.j</span>son object loaded successfully\n",
       "</pre>\n"
      ],
      "text/plain": [
       "datasets/financial/answers_react_report_llama3-8b-\u001b[1;36m8192.j\u001b[0mson object loaded successfully\n"
      ]
     },
     "metadata": {},
     "output_type": "display_data"
    },
    {
     "data": {
      "text/html": [
       "<pre style=\"white-space:pre;overflow-x:auto;line-height:normal;font-family:Menlo,'DejaVu Sans Mono',consolas,'Courier New',monospace\">datasets/financial/answers_self_discover_report_llama3-8b-<span style=\"color: #008080; text-decoration-color: #008080; font-weight: bold\">8192.j</span>son object loaded successfully\n",
       "</pre>\n"
      ],
      "text/plain": [
       "datasets/financial/answers_self_discover_report_llama3-8b-\u001b[1;36m8192.j\u001b[0mson object loaded successfully\n"
      ]
     },
     "metadata": {},
     "output_type": "display_data"
    },
    {
     "data": {
      "text/html": [
       "<pre style=\"white-space:pre;overflow-x:auto;line-height:normal;font-family:Menlo,'DejaVu Sans Mono',consolas,'Courier New',monospace\">datasets/financial/answers_plan_and_execute_report_llama3-8b-<span style=\"color: #008080; text-decoration-color: #008080; font-weight: bold\">8192.j</span>son object loaded successfully\n",
       "</pre>\n"
      ],
      "text/plain": [
       "datasets/financial/answers_plan_and_execute_report_llama3-8b-\u001b[1;36m8192.j\u001b[0mson object loaded successfully\n"
      ]
     },
     "metadata": {},
     "output_type": "display_data"
    },
    {
     "data": {
      "text/html": [
       "<pre style=\"white-space:pre;overflow-x:auto;line-height:normal;font-family:Menlo,'DejaVu Sans Mono',consolas,'Courier New',monospace\">datasets/financial/answers_cama_agent_llama3-8b-<span style=\"color: #008080; text-decoration-color: #008080; font-weight: bold\">8192.j</span>son object loaded successfully\n",
       "</pre>\n"
      ],
      "text/plain": [
       "datasets/financial/answers_cama_agent_llama3-8b-\u001b[1;36m8192.j\u001b[0mson object loaded successfully\n"
      ]
     },
     "metadata": {},
     "output_type": "display_data"
    },
    {
     "data": {
      "text/html": [
       "<pre style=\"white-space:pre;overflow-x:auto;line-height:normal;font-family:Menlo,'DejaVu Sans Mono',consolas,'Courier New',monospace\">datasets/healthcare/qa_list.json object loaded successfully\n",
       "</pre>\n"
      ],
      "text/plain": [
       "datasets/healthcare/qa_list.json object loaded successfully\n"
      ]
     },
     "metadata": {},
     "output_type": "display_data"
    },
    {
     "data": {
      "text/html": [
       "<pre style=\"white-space:pre;overflow-x:auto;line-height:normal;font-family:Menlo,'DejaVu Sans Mono',consolas,'Courier New',monospace\">datasets/healthcare/answers_full_prompt_llama3-70b-<span style=\"color: #008080; text-decoration-color: #008080; font-weight: bold\">8192.j</span>son object loaded successfully\n",
       "</pre>\n"
      ],
      "text/plain": [
       "datasets/healthcare/answers_full_prompt_llama3-70b-\u001b[1;36m8192.j\u001b[0mson object loaded successfully\n"
      ]
     },
     "metadata": {},
     "output_type": "display_data"
    },
    {
     "data": {
      "text/html": [
       "<pre style=\"white-space:pre;overflow-x:auto;line-height:normal;font-family:Menlo,'DejaVu Sans Mono',consolas,'Courier New',monospace\">datasets/healthcare/answers_full_prompt_cot_llama3-70b-<span style=\"color: #008080; text-decoration-color: #008080; font-weight: bold\">8192.j</span>son object loaded successfully\n",
       "</pre>\n"
      ],
      "text/plain": [
       "datasets/healthcare/answers_full_prompt_cot_llama3-70b-\u001b[1;36m8192.j\u001b[0mson object loaded successfully\n"
      ]
     },
     "metadata": {},
     "output_type": "display_data"
    },
    {
     "data": {
      "text/html": [
       "<pre style=\"white-space:pre;overflow-x:auto;line-height:normal;font-family:Menlo,'DejaVu Sans Mono',consolas,'Courier New',monospace\">datasets/healthcare/answers_reflection_report_llama3-70b-<span style=\"color: #008080; text-decoration-color: #008080; font-weight: bold\">8192.j</span>son object loaded successfully\n",
       "</pre>\n"
      ],
      "text/plain": [
       "datasets/healthcare/answers_reflection_report_llama3-70b-\u001b[1;36m8192.j\u001b[0mson object loaded successfully\n"
      ]
     },
     "metadata": {},
     "output_type": "display_data"
    },
    {
     "data": {
      "text/html": [
       "<pre style=\"white-space:pre;overflow-x:auto;line-height:normal;font-family:Menlo,'DejaVu Sans Mono',consolas,'Courier New',monospace\">datasets/healthcare/answers_react_report_llama3-70b-<span style=\"color: #008080; text-decoration-color: #008080; font-weight: bold\">8192.j</span>son object loaded successfully\n",
       "</pre>\n"
      ],
      "text/plain": [
       "datasets/healthcare/answers_react_report_llama3-70b-\u001b[1;36m8192.j\u001b[0mson object loaded successfully\n"
      ]
     },
     "metadata": {},
     "output_type": "display_data"
    },
    {
     "data": {
      "text/html": [
       "<pre style=\"white-space:pre;overflow-x:auto;line-height:normal;font-family:Menlo,'DejaVu Sans Mono',consolas,'Courier New',monospace\">datasets/healthcare/answers_self_discover_report_llama3-70b-<span style=\"color: #008080; text-decoration-color: #008080; font-weight: bold\">8192.j</span>son object loaded successfully\n",
       "</pre>\n"
      ],
      "text/plain": [
       "datasets/healthcare/answers_self_discover_report_llama3-70b-\u001b[1;36m8192.j\u001b[0mson object loaded successfully\n"
      ]
     },
     "metadata": {},
     "output_type": "display_data"
    },
    {
     "data": {
      "text/html": [
       "<pre style=\"white-space:pre;overflow-x:auto;line-height:normal;font-family:Menlo,'DejaVu Sans Mono',consolas,'Courier New',monospace\">datasets/healthcare/answers_plan_and_execute_report_llama3-70b-<span style=\"color: #008080; text-decoration-color: #008080; font-weight: bold\">8192.j</span>son object loaded successfully\n",
       "</pre>\n"
      ],
      "text/plain": [
       "datasets/healthcare/answers_plan_and_execute_report_llama3-70b-\u001b[1;36m8192.j\u001b[0mson object loaded successfully\n"
      ]
     },
     "metadata": {},
     "output_type": "display_data"
    },
    {
     "data": {
      "text/html": [
       "<pre style=\"white-space:pre;overflow-x:auto;line-height:normal;font-family:Menlo,'DejaVu Sans Mono',consolas,'Courier New',monospace\">datasets/healthcare/answers_cama_agent_llama3-70b-<span style=\"color: #008080; text-decoration-color: #008080; font-weight: bold\">8192.j</span>son object loaded successfully\n",
       "</pre>\n"
      ],
      "text/plain": [
       "datasets/healthcare/answers_cama_agent_llama3-70b-\u001b[1;36m8192.j\u001b[0mson object loaded successfully\n"
      ]
     },
     "metadata": {},
     "output_type": "display_data"
    },
    {
     "data": {
      "text/html": [
       "<pre style=\"white-space:pre;overflow-x:auto;line-height:normal;font-family:Menlo,'DejaVu Sans Mono',consolas,'Courier New',monospace\">eligibility_dataset/qa_list.json object loaded successfully\n",
       "</pre>\n"
      ],
      "text/plain": [
       "eligibility_dataset/qa_list.json object loaded successfully\n"
      ]
     },
     "metadata": {},
     "output_type": "display_data"
    },
    {
     "data": {
      "text/html": [
       "<pre style=\"white-space:pre;overflow-x:auto;line-height:normal;font-family:Menlo,'DejaVu Sans Mono',consolas,'Courier New',monospace\">eligibility_dataset/answers_full_prompt_llama3-70b-<span style=\"color: #008080; text-decoration-color: #008080; font-weight: bold\">8192.j</span>son object loaded successfully\n",
       "</pre>\n"
      ],
      "text/plain": [
       "eligibility_dataset/answers_full_prompt_llama3-70b-\u001b[1;36m8192.j\u001b[0mson object loaded successfully\n"
      ]
     },
     "metadata": {},
     "output_type": "display_data"
    },
    {
     "data": {
      "text/html": [
       "<pre style=\"white-space:pre;overflow-x:auto;line-height:normal;font-family:Menlo,'DejaVu Sans Mono',consolas,'Courier New',monospace\">eligibility_dataset/answers_full_prompt_cot_llama3-70b-<span style=\"color: #008080; text-decoration-color: #008080; font-weight: bold\">8192.j</span>son object loaded successfully\n",
       "</pre>\n"
      ],
      "text/plain": [
       "eligibility_dataset/answers_full_prompt_cot_llama3-70b-\u001b[1;36m8192.j\u001b[0mson object loaded successfully\n"
      ]
     },
     "metadata": {},
     "output_type": "display_data"
    },
    {
     "data": {
      "text/html": [
       "<pre style=\"white-space:pre;overflow-x:auto;line-height:normal;font-family:Menlo,'DejaVu Sans Mono',consolas,'Courier New',monospace\">eligibility_dataset/answers_reflection_report_llama3-70b-<span style=\"color: #008080; text-decoration-color: #008080; font-weight: bold\">8192.j</span>son object loaded successfully\n",
       "</pre>\n"
      ],
      "text/plain": [
       "eligibility_dataset/answers_reflection_report_llama3-70b-\u001b[1;36m8192.j\u001b[0mson object loaded successfully\n"
      ]
     },
     "metadata": {},
     "output_type": "display_data"
    },
    {
     "data": {
      "text/html": [
       "<pre style=\"white-space:pre;overflow-x:auto;line-height:normal;font-family:Menlo,'DejaVu Sans Mono',consolas,'Courier New',monospace\">eligibility_dataset/answers_react_report_llama3-70b-<span style=\"color: #008080; text-decoration-color: #008080; font-weight: bold\">8192.j</span>son object loaded successfully\n",
       "</pre>\n"
      ],
      "text/plain": [
       "eligibility_dataset/answers_react_report_llama3-70b-\u001b[1;36m8192.j\u001b[0mson object loaded successfully\n"
      ]
     },
     "metadata": {},
     "output_type": "display_data"
    },
    {
     "data": {
      "text/html": [
       "<pre style=\"white-space:pre;overflow-x:auto;line-height:normal;font-family:Menlo,'DejaVu Sans Mono',consolas,'Courier New',monospace\">eligibility_dataset/answers_self_discover_report_llama3-70b-<span style=\"color: #008080; text-decoration-color: #008080; font-weight: bold\">8192.j</span>son object loaded successfully\n",
       "</pre>\n"
      ],
      "text/plain": [
       "eligibility_dataset/answers_self_discover_report_llama3-70b-\u001b[1;36m8192.j\u001b[0mson object loaded successfully\n"
      ]
     },
     "metadata": {},
     "output_type": "display_data"
    },
    {
     "data": {
      "text/html": [
       "<pre style=\"white-space:pre;overflow-x:auto;line-height:normal;font-family:Menlo,'DejaVu Sans Mono',consolas,'Courier New',monospace\">eligibility_dataset/answers_plan_and_execute_report_llama3-70b-<span style=\"color: #008080; text-decoration-color: #008080; font-weight: bold\">8192.j</span>son object loaded successfully\n",
       "</pre>\n"
      ],
      "text/plain": [
       "eligibility_dataset/answers_plan_and_execute_report_llama3-70b-\u001b[1;36m8192.j\u001b[0mson object loaded successfully\n"
      ]
     },
     "metadata": {},
     "output_type": "display_data"
    },
    {
     "data": {
      "text/html": [
       "<pre style=\"white-space:pre;overflow-x:auto;line-height:normal;font-family:Menlo,'DejaVu Sans Mono',consolas,'Courier New',monospace\">eligibility_dataset/answers_cama_agent_llama3-70b-<span style=\"color: #008080; text-decoration-color: #008080; font-weight: bold\">8192.j</span>son object loaded successfully\n",
       "</pre>\n"
      ],
      "text/plain": [
       "eligibility_dataset/answers_cama_agent_llama3-70b-\u001b[1;36m8192.j\u001b[0mson object loaded successfully\n"
      ]
     },
     "metadata": {},
     "output_type": "display_data"
    },
    {
     "data": {
      "text/html": [
       "<pre style=\"white-space:pre;overflow-x:auto;line-height:normal;font-family:Menlo,'DejaVu Sans Mono',consolas,'Courier New',monospace\">datasets/financial/qa_list.json object loaded successfully\n",
       "</pre>\n"
      ],
      "text/plain": [
       "datasets/financial/qa_list.json object loaded successfully\n"
      ]
     },
     "metadata": {},
     "output_type": "display_data"
    },
    {
     "data": {
      "text/html": [
       "<pre style=\"white-space:pre;overflow-x:auto;line-height:normal;font-family:Menlo,'DejaVu Sans Mono',consolas,'Courier New',monospace\">datasets/financial/answers_full_prompt_llama3-70b-<span style=\"color: #008080; text-decoration-color: #008080; font-weight: bold\">8192.j</span>son object loaded successfully\n",
       "</pre>\n"
      ],
      "text/plain": [
       "datasets/financial/answers_full_prompt_llama3-70b-\u001b[1;36m8192.j\u001b[0mson object loaded successfully\n"
      ]
     },
     "metadata": {},
     "output_type": "display_data"
    },
    {
     "data": {
      "text/html": [
       "<pre style=\"white-space:pre;overflow-x:auto;line-height:normal;font-family:Menlo,'DejaVu Sans Mono',consolas,'Courier New',monospace\">datasets/financial/answers_full_prompt_cot_llama3-70b-<span style=\"color: #008080; text-decoration-color: #008080; font-weight: bold\">8192.j</span>son object loaded successfully\n",
       "</pre>\n"
      ],
      "text/plain": [
       "datasets/financial/answers_full_prompt_cot_llama3-70b-\u001b[1;36m8192.j\u001b[0mson object loaded successfully\n"
      ]
     },
     "metadata": {},
     "output_type": "display_data"
    },
    {
     "data": {
      "text/html": [
       "<pre style=\"white-space:pre;overflow-x:auto;line-height:normal;font-family:Menlo,'DejaVu Sans Mono',consolas,'Courier New',monospace\">datasets/financial/answers_reflection_report_llama3-70b-<span style=\"color: #008080; text-decoration-color: #008080; font-weight: bold\">8192.j</span>son object loaded successfully\n",
       "</pre>\n"
      ],
      "text/plain": [
       "datasets/financial/answers_reflection_report_llama3-70b-\u001b[1;36m8192.j\u001b[0mson object loaded successfully\n"
      ]
     },
     "metadata": {},
     "output_type": "display_data"
    },
    {
     "data": {
      "text/html": [
       "<pre style=\"white-space:pre;overflow-x:auto;line-height:normal;font-family:Menlo,'DejaVu Sans Mono',consolas,'Courier New',monospace\">datasets/financial/answers_react_report_llama3-70b-<span style=\"color: #008080; text-decoration-color: #008080; font-weight: bold\">8192.j</span>son object loaded successfully\n",
       "</pre>\n"
      ],
      "text/plain": [
       "datasets/financial/answers_react_report_llama3-70b-\u001b[1;36m8192.j\u001b[0mson object loaded successfully\n"
      ]
     },
     "metadata": {},
     "output_type": "display_data"
    },
    {
     "data": {
      "text/html": [
       "<pre style=\"white-space:pre;overflow-x:auto;line-height:normal;font-family:Menlo,'DejaVu Sans Mono',consolas,'Courier New',monospace\">datasets/financial/answers_self_discover_report_llama3-70b-<span style=\"color: #008080; text-decoration-color: #008080; font-weight: bold\">8192.j</span>son object loaded successfully\n",
       "</pre>\n"
      ],
      "text/plain": [
       "datasets/financial/answers_self_discover_report_llama3-70b-\u001b[1;36m8192.j\u001b[0mson object loaded successfully\n"
      ]
     },
     "metadata": {},
     "output_type": "display_data"
    },
    {
     "data": {
      "text/html": [
       "<pre style=\"white-space:pre;overflow-x:auto;line-height:normal;font-family:Menlo,'DejaVu Sans Mono',consolas,'Courier New',monospace\">datasets/financial/answers_plan_and_execute_report_llama3-70b-<span style=\"color: #008080; text-decoration-color: #008080; font-weight: bold\">8192.j</span>son object loaded successfully\n",
       "</pre>\n"
      ],
      "text/plain": [
       "datasets/financial/answers_plan_and_execute_report_llama3-70b-\u001b[1;36m8192.j\u001b[0mson object loaded successfully\n"
      ]
     },
     "metadata": {},
     "output_type": "display_data"
    },
    {
     "data": {
      "text/html": [
       "<pre style=\"white-space:pre;overflow-x:auto;line-height:normal;font-family:Menlo,'DejaVu Sans Mono',consolas,'Courier New',monospace\">datasets/financial/answers_cama_agent_llama3-70b-<span style=\"color: #008080; text-decoration-color: #008080; font-weight: bold\">8192.j</span>son object loaded successfully\n",
       "</pre>\n"
      ],
      "text/plain": [
       "datasets/financial/answers_cama_agent_llama3-70b-\u001b[1;36m8192.j\u001b[0mson object loaded successfully\n"
      ]
     },
     "metadata": {},
     "output_type": "display_data"
    },
    {
     "name": "stdout",
     "output_type": "stream",
     "text": [
      "\\begin{table*}[ht]\n",
      "    \\centering\n",
      "    \\caption{Comparison of Methods Across LLMs and Datasets}\n",
      "    \\begin{adjustbox}{max width=\\textwidth, max height=0.9\\textheight}\n",
      "    \\small\n",
      "    \\begin{tabular}{llcccccccccccc}\n",
      "        \\toprule\n",
      "        \\multirow{2}{*}{Method} & \\multirow{2}{*}{Metric (\\%)} & \\multicolumn{2}{c}{\\textbf{Healthcare}} & \\multicolumn{2}{c}{\\textbf{Eligibility Dataset}} & \\multicolumn{2}{c}{\\textbf{Financial}} \\\\\n",
      "        \\cmidrule(lr){3-4} \\cmidrule(lr){5-6} \\cmidrule(lr){7-8}\n",
      "        & & llama3-8b & llama3-70b & llama3-8b & llama3-70b & llama3-8b & llama3-70b \\\\\n",
      "        \\midrule\n",
      "        \\multirow{2}{*}{Standard (I/O)} & Accuracy (↑) & 38.5 & 15.4 & 15.4 & 84.6 & 30.8 & 33.3 \\\\\n",
      "                                        & Unknown (↓) & 56.4 & 82.1 & 84.6 & 0.0 & 69.2 & 66.7 \\\\\n",
      "        \\midrule\n",
      "        \\multirow{2}{*}{CoT} & Accuracy (↑) & 20.5 & 82.1 & 0.0 & 76.9 & 38.5 & 51.3 \\\\\n",
      "                                        & Unknown (↓) & 79.5 & 2.6 & 100.0 & 10.3 & 61.5 & 48.7 \\\\\n",
      "        \\midrule\n",
      "        \\multirow{2}{*}{Reflection} & Accuracy (↑) & 33.3 & 33.3 & 7.7 & 76.9 & 48.7 & 48.7 \\\\\n",
      "                                        & Unknown (↓) & 66.7 & 61.5 & 92.3 & 7.7 & 48.7 & 48.7 \\\\\n",
      "        \\midrule\n",
      "        \\multirow{2}{*}{ReAct} & Accuracy (↑) & 15.4 & 43.6 & 5.1 & 7.7 & 7.7 & 20.5 \\\\\n",
      "                                        & Unknown (↓) & 84.6 & 53.8 & 94.9 & 89.7 & 92.3 & 79.5 \\\\\n",
      "        \\midrule\n",
      "        \\multirow{2}{*}{Self-Discover} & Accuracy (↑) & 35.9 & 15.4 & 2.6 & 25.6 & 46.2 & 43.6 \\\\\n",
      "                                        & Unknown (↓) & 59.0 & 82.1 & 97.4 & 64.1 & 51.3 & 53.8 \\\\\n",
      "        \\midrule\n",
      "        \\multirow{2}{*}{Plan and Execute} & Accuracy (↑) & 61.5 & 30.8 & 51.3 & 56.4 & 69.2 & 43.6 \\\\\n",
      "                                        & Unknown (↓) & 30.8 & 66.7 & 41.0 & 35.9 & 23.1 & 53.8 \\\\\n",
      "        \\midrule\n",
      "        \\multirow{2}{*}{Ours} & Accuracy (↑) & \\textbf{71.8} & \\textbf{100.0} & \\textbf{84.6} & \\textbf{100.0} & \\textbf{79.5} & \\textbf{89.7} \\\\\n",
      "                                        & Unknown (↓) & \\textbf{17.9} & \\textbf{0.0} & \\textbf{0.0} & \\textbf{0.0} & \\textbf{7.7} & \\textbf{2.6} \\\\\n",
      "        \\midrule\n",
      "        \\bottomrule\n",
      "    \\end{tabular}\n",
      "    \\end{adjustbox}\n",
      "    \\label{tab:performance_comparison}\n",
      "\\end{table*}\n"
     ]
    }
   ],
   "source": [
    "from cama.utils import load_from_json, evaluate_answers_with_unknowns\n",
    "\n",
    "# Function to calculate and print the results\n",
    "def calculate_and_print_results():\n",
    "    llm_names = [\"llama3-8b-8192\", \"llama3-70b-8192\"]\n",
    "    dataset_folders = [\"datasets/healthcare\", \"datasets/eligibility\", \"datasets/financial\"]\n",
    "\n",
    "    methods = [\n",
    "        \"full_prompt\", \"full_prompt_cot\", \"reflection_report\",\n",
    "        \"react_report\", \"self_discover_report\", \"plan_and_execute_report\", \"cama_agent\"\n",
    "    ]\n",
    "    \n",
    "    method_names = [\n",
    "        \"Standard (I/O)\", \"CoT\", \"Reflection\", \"ReAct\",\n",
    "        \"Self-Discover\", \"Plan and Execute\", \"Ours\"\n",
    "    ]\n",
    "\n",
    "    results = {(method, llm, dataset): {\"accuracy\": 0, \"unknown\": 0} for method in method_names for llm in llm_names for dataset in dataset_folders}\n",
    "    \n",
    "    for llm_name in llm_names:\n",
    "        for dataset_folder in dataset_folders:\n",
    "            qa_list = load_from_json(f'{dataset_folder}/qa_list.json')\n",
    "\n",
    "            for method, method_name in zip(methods, method_names):\n",
    "                answers = load_from_json(f'{dataset_folder}/answers_{method}_{llm_name}.json')\n",
    "                accuracy, unknown = evaluate_answers_with_unknowns(qa_list, answers)\n",
    "                results[(method_name, llm_name, dataset_folder)][\"accuracy\"] = accuracy\n",
    "                results[(method_name, llm_name, dataset_folder)][\"unknown\"] = unknown\n",
    "\n",
    "    # Print LaTeX table\n",
    "    print(r'\\begin{table*}[ht]')\n",
    "    print(r'    \\centering')\n",
    "    print(r'    \\caption{Comparison of Methods Across LLMs and Datasets}')\n",
    "    print(r'    \\begin{adjustbox}{max width=\\textwidth, max height=0.9\\textheight}')\n",
    "    print(r'    \\small')\n",
    "    print(r'    \\begin{tabular}{llcccccccccccc}')\n",
    "    print(r'        \\toprule')\n",
    "    print(r'        \\multirow{2}{*}{Method} & \\multirow{2}{*}{Metric (\\%)} & \\multicolumn{2}{c}{\\textbf{Healthcare}} & \\multicolumn{2}{c}{\\textbf{Eligibility Dataset}} & \\multicolumn{2}{c}{\\textbf{Financial}} \\\\')\n",
    "    print(r'        \\cmidrule(lr){3-4} \\cmidrule(lr){5-6} \\cmidrule(lr){7-8}')\n",
    "    print(r'        & & llama3-8b & llama3-70b & llama3-8b & llama3-70b & llama3-8b & llama3-70b \\\\')\n",
    "    print(r'        \\midrule')\n",
    "\n",
    "    for method_name in method_names:\n",
    "        healthcare_8b_acc = results[(method_name, \"llama3-8b-8192\", \"datasets/healthcare\")][\"accuracy\"]\n",
    "        healthcare_70b_acc = results[(method_name, \"llama3-70b-8192\", \"datasets/healthcare\")][\"accuracy\"]\n",
    "        eligibility_8b_acc = results[(method_name, \"llama3-8b-8192\", \"eligibility_dataset\")][\"accuracy\"]\n",
    "        eligibility_70b_acc = results[(method_name, \"llama3-70b-8192\", \"eligibility_dataset\")][\"accuracy\"]\n",
    "        financial_8b_acc = results[(method_name, \"llama3-8b-8192\", \"datasets/financial\")][\"accuracy\"]\n",
    "        financial_70b_acc = results[(method_name, \"llama3-70b-8192\", \"datasets/financial\")][\"accuracy\"]\n",
    "        \n",
    "        healthcare_8b_unk = results[(method_name, \"llama3-8b-8192\", \"datasets/healthcare\")][\"unknown\"]\n",
    "        healthcare_70b_unk = results[(method_name, \"llama3-70b-8192\", \"datasets/healthcare\")][\"unknown\"]\n",
    "        eligibility_8b_unk = results[(method_name, \"llama3-8b-8192\", \"eligibility_dataset\")][\"unknown\"]\n",
    "        eligibility_70b_unk = results[(method_name, \"llama3-70b-8192\", \"eligibility_dataset\")][\"unknown\"]\n",
    "        financial_8b_unk = results[(method_name, \"llama3-8b-8192\", \"datasets/financial\")][\"unknown\"]\n",
    "        financial_70b_unk = results[(method_name, \"llama3-70b-8192\", \"datasets/financial\")][\"unknown\"]\n",
    "\n",
    "        if method_name == \"Ours\":\n",
    "            print(f'        \\\\multirow{{2}}{{*}}{{{method_name}}} & Accuracy (↑) & \\\\textbf{{{healthcare_8b_acc:.1f}}} & \\\\textbf{{{healthcare_70b_acc:.1f}}} & \\\\textbf{{{eligibility_8b_acc:.1f}}} & \\\\textbf{{{eligibility_70b_acc:.1f}}} & \\\\textbf{{{financial_8b_acc:.1f}}} & \\\\textbf{{{financial_70b_acc:.1f}}} \\\\\\\\')\n",
    "            print(f'                                        & Unknown (↓) & \\\\textbf{{{healthcare_8b_unk:.1f}}} & \\\\textbf{{{healthcare_70b_unk:.1f}}} & \\\\textbf{{{eligibility_8b_unk:.1f}}} & \\\\textbf{{{eligibility_70b_unk:.1f}}} & \\\\textbf{{{financial_8b_unk:.1f}}} & \\\\textbf{{{financial_70b_unk:.1f}}} \\\\\\\\')\n",
    "        else:\n",
    "            print(f'        \\\\multirow{{2}}{{*}}{{{method_name}}} & Accuracy (↑) & {healthcare_8b_acc:.1f} & {healthcare_70b_acc:.1f} & {eligibility_8b_acc:.1f} & {eligibility_70b_acc:.1f} & {financial_8b_acc:.1f} & {financial_70b_acc:.1f} \\\\\\\\')\n",
    "            print(f'                                        & Unknown (↓) & {healthcare_8b_unk:.1f} & {healthcare_70b_unk:.1f} & {eligibility_8b_unk:.1f} & {eligibility_70b_unk:.1f} & {financial_8b_unk:.1f} & {financial_70b_unk:.1f} \\\\\\\\')\n",
    "        \n",
    "        print(r'        \\midrule')\n",
    "        \n",
    "    print(r'        \\bottomrule')\n",
    "    print(r'    \\end{tabular}')\n",
    "    print(r'    \\end{adjustbox}')\n",
    "    print(r'    \\label{tab:performance_comparison}')\n",
    "    print(r'\\end{table*}')\n",
    "\n",
    "# Run the function to print the LaTeX table\n",
    "calculate_and_print_results()\n"
   ]
  },
  {
   "cell_type": "code",
   "execution_count": null,
   "metadata": {},
   "outputs": [],
   "source": []
  }
 ],
 "metadata": {
  "kernelspec": {
   "display_name": "dspy",
   "language": "python",
   "name": "python3"
  },
  "language_info": {
   "codemirror_mode": {
    "name": "ipython",
    "version": 3
   },
   "file_extension": ".py",
   "mimetype": "text/x-python",
   "name": "python",
   "nbconvert_exporter": "python",
   "pygments_lexer": "ipython3",
   "version": "3.11.5"
  }
 },
 "nbformat": 4,
 "nbformat_minor": 2
}
